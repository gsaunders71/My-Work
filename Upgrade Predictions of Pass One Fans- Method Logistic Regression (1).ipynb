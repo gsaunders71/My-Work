{
 "cells": [
  {
   "cell_type": "markdown",
   "metadata": {},
   "source": [
    "###                                Predicting upgrade customers from Pass One Fans\n",
    "\n",
    "#### Pass One Fans are fans that purchase tickets for a specific event this excludes Season Ticket Holders, Partial Season Ticket Holders and Mini-Season Pass Holders\n",
    "\n",
    "#### This model is more than likely not going to be a highly predictive model.  There is  limited data available about the customer and the data used in this model contains only transactional data.  \n",
    "\n",
    "#### The purpose of this notebook is to show the use of logistic regression techniques used to predict the purchase of an upgrade by  fans that purchased pass one tickets.  Only fans of 7 NBA teams were used as a datsource due to the scarcity of upgrade ticketing data across the 15+ teams available in the database\n",
    "\n",
    "### The NBA Team Names were anonymized  to protect their Privacy"
   ]
  },
  {
   "cell_type": "markdown",
   "metadata": {},
   "source": [
    "### Connections to Databases and importing packages \n",
    "\n",
    "#### Initially the data was queried using SQL from a Redshift Database and produced a dataframe called \"passone\".  I exported the passone dataframe as a csv to be reimported into Jupyter Notebook on a local machine to complete this analysis. \n"
   ]
  },
  {
   "cell_type": "code",
   "execution_count": 1,
   "metadata": {},
   "outputs": [],
   "source": [
    "import pandas as pd\n",
    "import numpy as np\n",
    "import matplotlib.pyplot as plt\n",
    "import seaborn as sns\n",
    "# import psycopg2\n",
    "import sys\n",
    "from sqlalchemy import create_engine\n",
    "import os\n",
    "import subprocess\n",
    "import datetime as dt\n",
    "import requests\n",
    "import lxml.html as lh\n",
    "import xgboost as xgb\n",
    "import warnings\n",
    "warnings.filterwarnings('ignore')\n",
    "import lightgbm as lgb\n",
    "from datetime import datetime, timedelta\n",
    "from sklearn.metrics import mean_squared_error\n",
    "from sklearn.linear_model import LinearRegression\n",
    "from sklearn import tree, linear_model\n",
    "from sklearn.model_selection import train_test_split\n",
    "from sklearn.metrics import explained_variance_score\n",
    "from sklearn.model_selection import cross_val_score\n",
    "from sklearn.model_selection import GridSearchCV   \n",
    "from sklearn.preprocessing import StandardScaler\n",
    "# from pathlib import Path \n",
    "# from dotenv import load_dotenv, find_dotenv\n",
    "# load_dotenv(find_dotenv())\n",
    "# # env_path = './.env'\n",
    "# env_path =  Path('/home/ec2-user/')\n",
    "# #load_dotenv(dotenv_path=env_path)\n",
    "# postgres_user = os.environ['PSQL_USERNAME']\n",
    "# postgres_pw = os.environ['PSQL_PASSWORD']\n",
    "# postgres_url = os.environ['PSQL_URL']\n",
    "# redshift_user = os.environ['REDSHIFT_USERNAME']\n",
    "# redshift_pw = os.environ['REDSHIFT_PASSWORD']\n",
    "# redshift_url = os.environ['REDSHIFT_URL']\n",
    "\n",
    "# if don't have package imbalanced run below line \n",
    "#! pip install imbalanced-learn\n"
   ]
  },
  {
   "cell_type": "markdown",
   "metadata": {},
   "source": [
    "#### This block makes the connection to postgres db (tableau/follower)"
   ]
  },
  {
   "cell_type": "code",
   "execution_count": 2,
   "metadata": {},
   "outputs": [],
   "source": [
    "# #this block makes the connection to postgres db (tableau/follower)\n",
    "# conn_string = \"host='\"+postgres_url+\"' dbname='experience' user='\"+postgres_user+\"' password='\"+postgres_pw+\"'\"\n",
    "# conn = psycopg2.connect(conn_string)\n",
    "# cursor = conn.cursor()"
   ]
  },
  {
   "cell_type": "markdown",
   "metadata": {},
   "source": [
    "#### This block makes the connection to redshift (redluma)"
   ]
  },
  {
   "cell_type": "code",
   "execution_count": 3,
   "metadata": {},
   "outputs": [],
   "source": [
    "# #this block makes the connection to redshift (redluma)\n",
    "# red_engine = create_engine('postgresql://'+redshift_user+':'+redshift_pw+'@'+redshift_url)\n",
    "# conn_red = red_engine.raw_connection()\n",
    "# cur = conn_red.cursor()"
   ]
  },
  {
   "cell_type": "markdown",
   "metadata": {},
   "source": [
    "#### Connecting to Redshift Databases using sql\n",
    "\n",
    "#### Pulling NBA fan transactions for pass one fans and if they upgraded or not"
   ]
  },
  {
   "cell_type": "code",
   "execution_count": 4,
   "metadata": {},
   "outputs": [],
   "source": [
    "# sql_statement=\"\"\"\n",
    "\n",
    "\n",
    "# with upgraders as(\n",
    "# select distinct segment,group_id as team_id,product_key,product,\n",
    "#                 case when product_key=0 then 1 end as upgrade_fan,\n",
    "#                 case when group_id in(1047) then 'Team 1'\n",
    "#                 when group_id in(14) then 'Team 2'\n",
    "#                 when group_id in(1082) then 'Team 3'\n",
    "#                 when group_id in(8) then 'Team 4'\n",
    "#                 when group_id in (4) then 'Team 5'\n",
    "#                 when group_id in(983) then 'Team 6'\n",
    "#                 when group_id in(7) then 'Team 7' end as Team,\n",
    "#                 count(distinct upgrade_id) as num_upgrades,sum(group_size) as upgrade_tickets,\n",
    "#                 sum(gross_sales) as upgrade_gross,sum(net_sales) as upgrade_net\n",
    "# from mart.all_transactions at\n",
    "# join mart.season s on at.group_type_id=s.group_type_id and at.event_date between s.start_date and s.end_date\n",
    "# where product_key in(0) and group_id in(1047,14,1082,8,4,983,7)\n",
    "# and active_filter=1 and expapp_email_flag=0 and s.season_name in('2017-2018','2018-2019','2019-2020')\n",
    "# and at.event_date<='2020-03-15' --Games Cancelled after this due to Covid\n",
    "# group by 1,2,3,4,5\n",
    "# having sum(gross_sales)>0),\n",
    "\n",
    "# --Creating a temp table containing all fans that purchased pass one tickets \n",
    "# passone as(\n",
    "#     select segment,group_id as team_id,product_key,product,\n",
    "#            sum(gross_sales) as p1_gross,sum(net_sales) as p1_net,\n",
    "#            sum(gross_sales)/count(distinct event_id) as avg_gross_spend_per_event,\n",
    "#            sum(net_sales)/count(distinct event_id) as avg_net_spend_per_event,\n",
    "#                 sum(total_discounted_amount) as p1_discounts,\n",
    "#            count(distinct event_id) as num_p1_events,\n",
    "#            count(distinct upgrade_id) as pass_one_transactions,\n",
    "#            sum(group_size) as p1_tickets,\n",
    "#            count(distinct season_name) as num_p1_seasons\n",
    "#     from mart.all_transactions at2\n",
    "#     join mart.season s on at2.group_type_id=s.group_type_id and at2.event_date between s.start_date and s.end_date\n",
    "#     where product_key in(12) and group_id in(1047,14,1082,8,4,983,7)\n",
    "#       and active_filter=1 and expapp_email_flag=0 and s.season_name in('2017-2018','2018-2019','2019-2020')\n",
    "#       and at2.event_date<='2020-03-15' --Games Cancelled after this due to Covid\n",
    "#     group by 1,2,3,4,5\n",
    "#     having sum(net_sales)>0\n",
    "# )\n",
    "\n",
    "# select p1.*,coalesce(u.upgrade_fan,0)as upgrade_fan,num_upgrades,upgrade_tickets,\n",
    "#        upgrade_gross,upgrade_net\n",
    "# from passone p1\n",
    "# left join upgraders u on p1.team_id=u.team_id and p1.fan_id=u.fan_id\n",
    "\n",
    "\n",
    "\n",
    "\n",
    "# ;\n",
    "# \"\"\"\n",
    "# passone = pd.read_sql(sql_statement, conn_red) "
   ]
  },
  {
   "cell_type": "markdown",
   "metadata": {},
   "source": [
    "### Exporting data to CSV\n",
    "\n",
    "#### This was done to allow for utilization of passone data on local machine. Not all packages were available on the Remote Desktop version of Jupyter Notebook. Such as imblearn packages."
   ]
  },
  {
   "cell_type": "code",
   "execution_count": 5,
   "metadata": {},
   "outputs": [],
   "source": [
    "# passone.to_csv(r'pass_one.csv', index = False)"
   ]
  },
  {
   "cell_type": "markdown",
   "metadata": {},
   "source": [
    "### Importing passone csv to local copy of Jupyter Notebook"
   ]
  },
  {
   "cell_type": "code",
   "execution_count": 6,
   "metadata": {},
   "outputs": [],
   "source": [
    "passone = pd.read_csv(\"/Users/gregsaunders/Documents/pass_one.csv\")"
   ]
  },
  {
   "cell_type": "code",
   "execution_count": 7,
   "metadata": {},
   "outputs": [
    {
     "data": {
      "text/html": [
       "<div>\n",
       "<style scoped>\n",
       "    .dataframe tbody tr th:only-of-type {\n",
       "        vertical-align: middle;\n",
       "    }\n",
       "\n",
       "    .dataframe tbody tr th {\n",
       "        vertical-align: top;\n",
       "    }\n",
       "\n",
       "    .dataframe thead th {\n",
       "        text-align: right;\n",
       "    }\n",
       "</style>\n",
       "<table border=\"1\" class=\"dataframe\">\n",
       "  <thead>\n",
       "    <tr style=\"text-align: right;\">\n",
       "      <th></th>\n",
       "      <th>segment</th>\n",
       "      <th>team_id</th>\n",
       "      <th>product_key</th>\n",
       "      <th>product</th>\n",
       "      <th>team</th>\n",
       "      <th>p1_gross</th>\n",
       "      <th>p1_net</th>\n",
       "      <th>avg_gross_spend_per_event</th>\n",
       "      <th>avg_net_spend_per_event</th>\n",
       "      <th>p1_discounts</th>\n",
       "      <th>num_p1_events</th>\n",
       "      <th>pass_one_transactions</th>\n",
       "      <th>p1_tickets</th>\n",
       "      <th>num_p1_seasons</th>\n",
       "      <th>upgrade_fan</th>\n",
       "      <th>num_upgrades</th>\n",
       "      <th>upgrade_tickets</th>\n",
       "      <th>upgrade_gross</th>\n",
       "      <th>upgrade_net</th>\n",
       "    </tr>\n",
       "  </thead>\n",
       "  <tbody>\n",
       "    <tr>\n",
       "      <th>0</th>\n",
       "      <td>NBA</td>\n",
       "      <td>4</td>\n",
       "      <td>12</td>\n",
       "      <td>Pass One</td>\n",
       "      <td>Team 5</td>\n",
       "      <td>94</td>\n",
       "      <td>94.0</td>\n",
       "      <td>18.800000</td>\n",
       "      <td>18.800000</td>\n",
       "      <td>0.0</td>\n",
       "      <td>5</td>\n",
       "      <td>5</td>\n",
       "      <td>10</td>\n",
       "      <td>2</td>\n",
       "      <td>0</td>\n",
       "      <td>NaN</td>\n",
       "      <td>NaN</td>\n",
       "      <td>NaN</td>\n",
       "      <td>NaN</td>\n",
       "    </tr>\n",
       "    <tr>\n",
       "      <th>1</th>\n",
       "      <td>NBA</td>\n",
       "      <td>4</td>\n",
       "      <td>12</td>\n",
       "      <td>Pass One</td>\n",
       "      <td>Team 5</td>\n",
       "      <td>104</td>\n",
       "      <td>104.0</td>\n",
       "      <td>20.800000</td>\n",
       "      <td>20.800000</td>\n",
       "      <td>0.0</td>\n",
       "      <td>5</td>\n",
       "      <td>5</td>\n",
       "      <td>10</td>\n",
       "      <td>2</td>\n",
       "      <td>0</td>\n",
       "      <td>NaN</td>\n",
       "      <td>NaN</td>\n",
       "      <td>NaN</td>\n",
       "      <td>NaN</td>\n",
       "    </tr>\n",
       "    <tr>\n",
       "      <th>2</th>\n",
       "      <td>NBA</td>\n",
       "      <td>4</td>\n",
       "      <td>12</td>\n",
       "      <td>Pass One</td>\n",
       "      <td>Team 5</td>\n",
       "      <td>258</td>\n",
       "      <td>258.0</td>\n",
       "      <td>23.454545</td>\n",
       "      <td>23.454545</td>\n",
       "      <td>0.0</td>\n",
       "      <td>11</td>\n",
       "      <td>11</td>\n",
       "      <td>22</td>\n",
       "      <td>2</td>\n",
       "      <td>1</td>\n",
       "      <td>2.0</td>\n",
       "      <td>3.0</td>\n",
       "      <td>38.17</td>\n",
       "      <td>38.17</td>\n",
       "    </tr>\n",
       "    <tr>\n",
       "      <th>3</th>\n",
       "      <td>NBA</td>\n",
       "      <td>4</td>\n",
       "      <td>12</td>\n",
       "      <td>Pass One</td>\n",
       "      <td>Team 5</td>\n",
       "      <td>50</td>\n",
       "      <td>50.0</td>\n",
       "      <td>25.000000</td>\n",
       "      <td>25.000000</td>\n",
       "      <td>0.0</td>\n",
       "      <td>2</td>\n",
       "      <td>2</td>\n",
       "      <td>4</td>\n",
       "      <td>1</td>\n",
       "      <td>0</td>\n",
       "      <td>NaN</td>\n",
       "      <td>NaN</td>\n",
       "      <td>NaN</td>\n",
       "      <td>NaN</td>\n",
       "    </tr>\n",
       "    <tr>\n",
       "      <th>4</th>\n",
       "      <td>NBA</td>\n",
       "      <td>4</td>\n",
       "      <td>12</td>\n",
       "      <td>Pass One</td>\n",
       "      <td>Team 5</td>\n",
       "      <td>90</td>\n",
       "      <td>90.0</td>\n",
       "      <td>22.500000</td>\n",
       "      <td>22.500000</td>\n",
       "      <td>0.0</td>\n",
       "      <td>4</td>\n",
       "      <td>4</td>\n",
       "      <td>10</td>\n",
       "      <td>3</td>\n",
       "      <td>1</td>\n",
       "      <td>1.0</td>\n",
       "      <td>4.0</td>\n",
       "      <td>89.84</td>\n",
       "      <td>89.84</td>\n",
       "    </tr>\n",
       "  </tbody>\n",
       "</table>\n",
       "</div>"
      ],
      "text/plain": [
       "  segment  team_id  product_key   product    team  p1_gross  p1_net  \\\n",
       "0     NBA        4           12  Pass One  Team 5        94    94.0   \n",
       "1     NBA        4           12  Pass One  Team 5       104   104.0   \n",
       "2     NBA        4           12  Pass One  Team 5       258   258.0   \n",
       "3     NBA        4           12  Pass One  Team 5        50    50.0   \n",
       "4     NBA        4           12  Pass One  Team 5        90    90.0   \n",
       "\n",
       "   avg_gross_spend_per_event  avg_net_spend_per_event  p1_discounts  \\\n",
       "0                  18.800000                18.800000           0.0   \n",
       "1                  20.800000                20.800000           0.0   \n",
       "2                  23.454545                23.454545           0.0   \n",
       "3                  25.000000                25.000000           0.0   \n",
       "4                  22.500000                22.500000           0.0   \n",
       "\n",
       "   num_p1_events  pass_one_transactions  p1_tickets  num_p1_seasons  \\\n",
       "0              5                      5          10               2   \n",
       "1              5                      5          10               2   \n",
       "2             11                     11          22               2   \n",
       "3              2                      2           4               1   \n",
       "4              4                      4          10               3   \n",
       "\n",
       "   upgrade_fan  num_upgrades  upgrade_tickets  upgrade_gross  upgrade_net  \n",
       "0            0           NaN              NaN            NaN          NaN  \n",
       "1            0           NaN              NaN            NaN          NaN  \n",
       "2            1           2.0              3.0          38.17        38.17  \n",
       "3            0           NaN              NaN            NaN          NaN  \n",
       "4            1           1.0              4.0          89.84        89.84  "
      ]
     },
     "execution_count": 7,
     "metadata": {},
     "output_type": "execute_result"
    }
   ],
   "source": [
    "# Checking data\n",
    "passone.head()"
   ]
  },
  {
   "cell_type": "markdown",
   "metadata": {},
   "source": [
    "#### Dataframe produced with 31,849 observations of pass one fans and 3555 of these fans upgraded"
   ]
  },
  {
   "cell_type": "code",
   "execution_count": 8,
   "metadata": {},
   "outputs": [
    {
     "name": "stdout",
     "output_type": "stream",
     "text": [
      "<class 'pandas.core.frame.DataFrame'>\n",
      "RangeIndex: 31849 entries, 0 to 31848\n",
      "Data columns (total 19 columns):\n",
      " #   Column                     Non-Null Count  Dtype  \n",
      "---  ------                     --------------  -----  \n",
      " 0   segment                    31849 non-null  object \n",
      " 1   team_id                    31849 non-null  int64  \n",
      " 2   product_key                31849 non-null  int64  \n",
      " 3   product                    31849 non-null  object \n",
      " 4   team                       31849 non-null  object \n",
      " 5   p1_gross                   31849 non-null  int64  \n",
      " 6   p1_net                     31849 non-null  float64\n",
      " 7   avg_gross_spend_per_event  31849 non-null  float64\n",
      " 8   avg_net_spend_per_event    31849 non-null  float64\n",
      " 9   p1_discounts               31849 non-null  float64\n",
      " 10  num_p1_events              31849 non-null  int64  \n",
      " 11  pass_one_transactions      31849 non-null  int64  \n",
      " 12  p1_tickets                 31849 non-null  int64  \n",
      " 13  num_p1_seasons             31849 non-null  int64  \n",
      " 14  upgrade_fan                31849 non-null  int64  \n",
      " 15  num_upgrades               3555 non-null   float64\n",
      " 16  upgrade_tickets            3555 non-null   float64\n",
      " 17  upgrade_gross              3555 non-null   float64\n",
      " 18  upgrade_net                3555 non-null   float64\n",
      "dtypes: float64(8), int64(8), object(3)\n",
      "memory usage: 4.6+ MB\n"
     ]
    }
   ],
   "source": [
    "passone.info()"
   ]
  },
  {
   "cell_type": "markdown",
   "metadata": {},
   "source": [
    "##                                  Exploratory Data Analysis"
   ]
  },
  {
   "cell_type": "markdown",
   "metadata": {},
   "source": [
    "### Count Plot distribution shows the target class ( upgraded_fan) is a bit unbalanced which may make it difficult to predict upgrading of Pass One Fans, will try to correct for this later in Notebook"
   ]
  },
  {
   "cell_type": "code",
   "execution_count": 9,
   "metadata": {},
   "outputs": [
    {
     "data": {
      "image/png": "[encoded data removed]",
      "text/plain": [
       "<Figure size 720x288 with 1 Axes>"
      ]
     },
     "metadata": {
      "needs_background": "light"
     },
     "output_type": "display_data"
    }
   ],
   "source": [
    "# Distribution of upgrades vs. no upgrades\n",
    "plt.figure(figsize = (10,4))\n",
    "sns.countplot(x='upgrade_fan',data=passone)\n",
    "plt.show()"
   ]
  },
  {
   "cell_type": "code",
   "execution_count": 10,
   "metadata": {},
   "outputs": [
    {
     "name": "stdout",
     "output_type": "stream",
     "text": [
      "percentage of fans that did not upgrade is 88.83795409588998\n",
      "percentage of pass one fans that upgraded 11.16204590411002\n"
     ]
    }
   ],
   "source": [
    "# Looking at the % of upgrading fans in the dataframe compared to the non-upgraders\n",
    "noupgrading = len(passone[passone['upgrade_fan']==0])\n",
    "upgrading = len(passone[passone['upgrade_fan']==1])\n",
    "pct_of_no_upgrading = noupgrading/(upgrading+noupgrading)\n",
    "print(\"percentage of fans that did not upgrade is\", pct_of_no_upgrading*100)\n",
    "pct_of_upgrading = upgrading/(upgrading+noupgrading)\n",
    "print(\"percentage of pass one fans that upgraded\", pct_of_upgrading*100)"
   ]
  },
  {
   "cell_type": "markdown",
   "metadata": {},
   "source": [
    "## Exploring Pass One Fan features"
   ]
  },
  {
   "cell_type": "markdown",
   "metadata": {},
   "source": [
    "### It appears that those fans that upgraded spent more on pass one tickets and attended more events and subsequently purchased more tickets, however there doesn't seen to be much difference between the 2 classes on the tenure of seasons a fan purchased a pass one ticket"
   ]
  },
  {
   "cell_type": "code",
   "execution_count": 11,
   "metadata": {},
   "outputs": [
    {
     "data": {
      "text/html": [
       "<div>\n",
       "<style scoped>\n",
       "    .dataframe tbody tr th:only-of-type {\n",
       "        vertical-align: middle;\n",
       "    }\n",
       "\n",
       "    .dataframe tbody tr th {\n",
       "        vertical-align: top;\n",
       "    }\n",
       "\n",
       "    .dataframe thead th {\n",
       "        text-align: right;\n",
       "    }\n",
       "</style>\n",
       "<table border=\"1\" class=\"dataframe\">\n",
       "  <thead>\n",
       "    <tr style=\"text-align: right;\">\n",
       "      <th></th>\n",
       "      <th>p1_gross</th>\n",
       "      <th>p1_net</th>\n",
       "      <th>num_p1_events</th>\n",
       "      <th>p1_tickets</th>\n",
       "      <th>pass_one_transactions</th>\n",
       "      <th>num_p1_seasons</th>\n",
       "    </tr>\n",
       "    <tr>\n",
       "      <th>upgrade_fan</th>\n",
       "      <th></th>\n",
       "      <th></th>\n",
       "      <th></th>\n",
       "      <th></th>\n",
       "      <th></th>\n",
       "      <th></th>\n",
       "    </tr>\n",
       "  </thead>\n",
       "  <tbody>\n",
       "    <tr>\n",
       "      <th>0</th>\n",
       "      <td>75.650880</td>\n",
       "      <td>75.562345</td>\n",
       "      <td>1.834841</td>\n",
       "      <td>4.739167</td>\n",
       "      <td>1.840779</td>\n",
       "      <td>1.167774</td>\n",
       "    </tr>\n",
       "    <tr>\n",
       "      <th>1</th>\n",
       "      <td>120.138959</td>\n",
       "      <td>119.703494</td>\n",
       "      <td>3.214627</td>\n",
       "      <td>7.463291</td>\n",
       "      <td>3.220534</td>\n",
       "      <td>1.384810</td>\n",
       "    </tr>\n",
       "  </tbody>\n",
       "</table>\n",
       "</div>"
      ],
      "text/plain": [
       "               p1_gross      p1_net  num_p1_events  p1_tickets  \\\n",
       "upgrade_fan                                                      \n",
       "0             75.650880   75.562345       1.834841    4.739167   \n",
       "1            120.138959  119.703494       3.214627    7.463291   \n",
       "\n",
       "             pass_one_transactions  num_p1_seasons  \n",
       "upgrade_fan                                         \n",
       "0                         1.840779        1.167774  \n",
       "1                         3.220534        1.384810  "
      ]
     },
     "execution_count": 11,
     "metadata": {},
     "output_type": "execute_result"
    }
   ],
   "source": [
    "groupby_features = passone[['upgrade_fan','p1_gross','p1_net','num_p1_events','p1_tickets','pass_one_transactions','num_p1_seasons']]\n",
    "groupby_features.groupby('upgrade_fan').mean()"
   ]
  },
  {
   "cell_type": "markdown",
   "metadata": {},
   "source": [
    "### Some teams don't have lots of upgraded fans that use pass one like Teams 4 and 7"
   ]
  },
  {
   "cell_type": "code",
   "execution_count": 12,
   "metadata": {},
   "outputs": [
    {
     "name": "stdout",
     "output_type": "stream",
     "text": [
      " # Fans that purchased Pass One Tickets          upgrade_fan\n",
      "team_id             \n",
      "4              10608\n",
      "7               7725\n",
      "8               7094\n",
      "14              4156\n",
      "983              422\n",
      "1047            1219\n",
      "1082             625\n",
      " \n",
      " # of Pass One Fans that purchased upgrades           upgrade_fan\n",
      "team_id             \n",
      "4                813\n",
      "7                766\n",
      "8               1216\n",
      "14               402\n",
      "983               72\n",
      "1047             181\n",
      "1082             105\n",
      " \n",
      " % of Pass One Fans that purchased Upgrades          upgrade_fan\n",
      "team_id             \n",
      "4           7.664027\n",
      "7           9.915858\n",
      "8          17.141246\n",
      "14          9.672762\n",
      "983        17.061611\n",
      "1047       14.848236\n",
      "1082       16.800000\n"
     ]
    }
   ],
   "source": [
    "p_groupby_features = passone[['team_id','upgrade_fan']]\n",
    "total_fans = p_groupby_features.groupby('team_id').count()\n",
    "upgrade_fans = p_groupby_features.groupby('team_id').sum()\n",
    "summary = upgrade_fans/total_fans * 100\n",
    "print( \" # Fans that purchased Pass One Tickets\", total_fans)\n",
    "print (\" \")\n",
    "print (\" # of Pass One Fans that purchased upgrades \", upgrade_fans)\n",
    "print (\" \")\n",
    "print (\" % of Pass One Fans that purchased Upgrades\", summary)"
   ]
  },
  {
   "cell_type": "code",
   "execution_count": 13,
   "metadata": {},
   "outputs": [
    {
     "data": {
      "image/png": "[encoded data removed]",
      "text/plain": [
       "<Figure size 432x288 with 1 Axes>"
      ]
     },
     "metadata": {
      "needs_background": "light"
     },
     "output_type": "display_data"
    }
   ],
   "source": [
    "## Distribution of pass one fans gross sales\n",
    "passone['p1_gross'].plot.hist(bins=40)\n",
    "plt.title('Pass One Gross Sales per Fan')\n",
    "plt.xlabel('Gross Sales')\n",
    "plt.ylabel('# of Fans')\n",
    "plt.show()"
   ]
  },
  {
   "cell_type": "code",
   "execution_count": 14,
   "metadata": {},
   "outputs": [
    {
     "data": {
      "image/png": "[encoded data removed]",
      "text/plain": [
       "<Figure size 432x288 with 1 Axes>"
      ]
     },
     "metadata": {
      "needs_background": "light"
     },
     "output_type": "display_data"
    }
   ],
   "source": [
    "## Distribution of pass one events purchased\n",
    "passone['num_p1_events'].plot.hist(bins=40)\n",
    "plt.title('Pass One Events Purchased per Fan')\n",
    "plt.xlabel('Events Purchased')\n",
    "plt.ylabel('# of Fans')\n",
    "plt.show()"
   ]
  },
  {
   "cell_type": "code",
   "execution_count": 15,
   "metadata": {},
   "outputs": [
    {
     "data": {
      "image/png": "[encoded data removed]",
      "text/plain": [
       "<Figure size 432x288 with 1 Axes>"
      ]
     },
     "metadata": {
      "needs_background": "light"
     },
     "output_type": "display_data"
    }
   ],
   "source": [
    "## Distribution of pass one tickets purchased\n",
    "passone['p1_tickets'].plot.hist(bins=40)\n",
    "plt.title('Pass One Tickets Purchased per Fan')\n",
    "plt.xlabel('Pass One Tickets Purchased')\n",
    "plt.ylabel('# of Fans')\n",
    "plt.show()"
   ]
  },
  {
   "cell_type": "markdown",
   "metadata": {},
   "source": [
    "### Something off about the distributions as seen above checking the descriptive statistics for the dataframe below notice that the Avg gross sales is about 80 dollars and the median is around 40 dollars indicating a large skewness of the data due to outliers. The 75th percentile falls at around 90 dollars with a max of 11k.  The others are distorted by extreme values in the data"
   ]
  },
  {
   "cell_type": "code",
   "execution_count": 16,
   "metadata": {},
   "outputs": [
    {
     "data": {
      "text/html": [
       "<div>\n",
       "<style scoped>\n",
       "    .dataframe tbody tr th:only-of-type {\n",
       "        vertical-align: middle;\n",
       "    }\n",
       "\n",
       "    .dataframe tbody tr th {\n",
       "        vertical-align: top;\n",
       "    }\n",
       "\n",
       "    .dataframe thead th {\n",
       "        text-align: right;\n",
       "    }\n",
       "</style>\n",
       "<table border=\"1\" class=\"dataframe\">\n",
       "  <thead>\n",
       "    <tr style=\"text-align: right;\">\n",
       "      <th></th>\n",
       "      <th>count</th>\n",
       "      <th>mean</th>\n",
       "      <th>std</th>\n",
       "      <th>min</th>\n",
       "      <th>25%</th>\n",
       "      <th>50%</th>\n",
       "      <th>75%</th>\n",
       "      <th>max</th>\n",
       "    </tr>\n",
       "  </thead>\n",
       "  <tbody>\n",
       "    <tr>\n",
       "      <th>p1_gross</th>\n",
       "      <td>31849.0</td>\n",
       "      <td>80.616660</td>\n",
       "      <td>166.429491</td>\n",
       "      <td>1.0</td>\n",
       "      <td>20.0</td>\n",
       "      <td>40.0</td>\n",
       "      <td>90.0</td>\n",
       "      <td>11069.0</td>\n",
       "    </tr>\n",
       "    <tr>\n",
       "      <th>p1_net</th>\n",
       "      <td>31849.0</td>\n",
       "      <td>80.489401</td>\n",
       "      <td>166.307914</td>\n",
       "      <td>1.0</td>\n",
       "      <td>20.0</td>\n",
       "      <td>40.0</td>\n",
       "      <td>90.0</td>\n",
       "      <td>11069.0</td>\n",
       "    </tr>\n",
       "    <tr>\n",
       "      <th>avg_gross_spend_per_event</th>\n",
       "      <td>31849.0</td>\n",
       "      <td>39.239916</td>\n",
       "      <td>36.004091</td>\n",
       "      <td>1.0</td>\n",
       "      <td>20.0</td>\n",
       "      <td>30.0</td>\n",
       "      <td>45.0</td>\n",
       "      <td>660.0</td>\n",
       "    </tr>\n",
       "    <tr>\n",
       "      <th>avg_net_spend_per_event</th>\n",
       "      <td>31849.0</td>\n",
       "      <td>39.198316</td>\n",
       "      <td>36.009715</td>\n",
       "      <td>1.0</td>\n",
       "      <td>20.0</td>\n",
       "      <td>30.0</td>\n",
       "      <td>45.0</td>\n",
       "      <td>660.0</td>\n",
       "    </tr>\n",
       "    <tr>\n",
       "      <th>num_p1_events</th>\n",
       "      <td>31849.0</td>\n",
       "      <td>1.988854</td>\n",
       "      <td>2.323005</td>\n",
       "      <td>1.0</td>\n",
       "      <td>1.0</td>\n",
       "      <td>1.0</td>\n",
       "      <td>2.0</td>\n",
       "      <td>66.0</td>\n",
       "    </tr>\n",
       "    <tr>\n",
       "      <th>pass_one_transactions</th>\n",
       "      <td>31849.0</td>\n",
       "      <td>1.994788</td>\n",
       "      <td>2.365054</td>\n",
       "      <td>1.0</td>\n",
       "      <td>1.0</td>\n",
       "      <td>1.0</td>\n",
       "      <td>2.0</td>\n",
       "      <td>76.0</td>\n",
       "    </tr>\n",
       "    <tr>\n",
       "      <th>p1_tickets</th>\n",
       "      <td>31849.0</td>\n",
       "      <td>5.043235</td>\n",
       "      <td>7.790262</td>\n",
       "      <td>1.0</td>\n",
       "      <td>2.0</td>\n",
       "      <td>3.0</td>\n",
       "      <td>6.0</td>\n",
       "      <td>431.0</td>\n",
       "    </tr>\n",
       "    <tr>\n",
       "      <th>num_p1_seasons</th>\n",
       "      <td>31849.0</td>\n",
       "      <td>1.192000</td>\n",
       "      <td>0.449361</td>\n",
       "      <td>1.0</td>\n",
       "      <td>1.0</td>\n",
       "      <td>1.0</td>\n",
       "      <td>1.0</td>\n",
       "      <td>3.0</td>\n",
       "    </tr>\n",
       "  </tbody>\n",
       "</table>\n",
       "</div>"
      ],
      "text/plain": [
       "                             count       mean         std  min   25%   50%  \\\n",
       "p1_gross                   31849.0  80.616660  166.429491  1.0  20.0  40.0   \n",
       "p1_net                     31849.0  80.489401  166.307914  1.0  20.0  40.0   \n",
       "avg_gross_spend_per_event  31849.0  39.239916   36.004091  1.0  20.0  30.0   \n",
       "avg_net_spend_per_event    31849.0  39.198316   36.009715  1.0  20.0  30.0   \n",
       "num_p1_events              31849.0   1.988854    2.323005  1.0   1.0   1.0   \n",
       "pass_one_transactions      31849.0   1.994788    2.365054  1.0   1.0   1.0   \n",
       "p1_tickets                 31849.0   5.043235    7.790262  1.0   2.0   3.0   \n",
       "num_p1_seasons             31849.0   1.192000    0.449361  1.0   1.0   1.0   \n",
       "\n",
       "                            75%      max  \n",
       "p1_gross                   90.0  11069.0  \n",
       "p1_net                     90.0  11069.0  \n",
       "avg_gross_spend_per_event  45.0    660.0  \n",
       "avg_net_spend_per_event    45.0    660.0  \n",
       "num_p1_events               2.0     66.0  \n",
       "pass_one_transactions       2.0     76.0  \n",
       "p1_tickets                  6.0    431.0  \n",
       "num_p1_seasons              1.0      3.0  "
      ]
     },
     "execution_count": 16,
     "metadata": {},
     "output_type": "execute_result"
    }
   ],
   "source": [
    "metrics = passone[['p1_gross','p1_net','avg_gross_spend_per_event','avg_net_spend_per_event','num_p1_events','pass_one_transactions','p1_tickets','num_p1_seasons']]\n",
    "\n",
    "metrics.describe().transpose()"
   ]
  },
  {
   "cell_type": "markdown",
   "metadata": {},
   "source": [
    "### Checking number of observations that are above certain thresholds to determine if we can exclude these outliers"
   ]
  },
  {
   "cell_type": "code",
   "execution_count": 17,
   "metadata": {},
   "outputs": [
    {
     "name": "stdout",
     "output_type": "stream",
     "text": [
      "# of upgraders that spend more than 400 dollars 162\n",
      "# of upgraders that spend more than 600 dollars 58\n",
      "# of upgraders that spend more than 1000 dollars 18\n",
      "# of upgraders that spend more than 1300 dollars 7\n",
      "# of upgraders that spend more than 1600 dollars 4\n",
      "249\n"
     ]
    }
   ],
   "source": [
    "### Some extreme outliers in pass one gross sales need to examine further\n",
    "above400 = passone[(passone['p1_gross'] >400) & (passone['upgrade_fan']>0)]\n",
    "print(\"# of upgraders that spend more than 400 dollars\", len(above400))\n",
    "above600 = passone[(passone['p1_gross'] >600) & (passone['upgrade_fan']>0) ] \n",
    "print(\"# of upgraders that spend more than 600 dollars\", len(above600))# 58 obs with upgrades\n",
    "above1000 = passone[(passone['p1_gross'] >1000) & (passone['upgrade_fan']>0) ] # 18 obs with upgrades\n",
    "print(\"# of upgraders that spend more than 1000 dollars\", len(above1000))\n",
    "above1300 = passone[(passone['p1_gross'] >1300) & (passone['upgrade_fan']>0) ] # 7 obs with upgrades\n",
    "print(\"# of upgraders that spend more than 1300 dollars\", len(above1300))\n",
    "above1600 = passone[(passone['p1_gross'] >1600) & (passone['upgrade_fan']>0) ] # 4 obs with upgrades\n",
    "print(\"# of upgraders that spend more than 1600 dollars\", len(above1600))\n",
    "print(len(above400) + len(above600) + len(above1000) + len(above1300) +len(above1600))"
   ]
  },
  {
   "cell_type": "markdown",
   "metadata": {},
   "source": [
    "### It appears most high spenders that purchase pass one tickets don't upgrade often.  The high spending pass one fans may not be individual fans but a fan purchasing bulk tickets for a company, etc."
   ]
  },
  {
   "cell_type": "markdown",
   "metadata": {},
   "source": [
    "## Outliers in the data need to be dealt with "
   ]
  },
  {
   "cell_type": "code",
   "execution_count": 18,
   "metadata": {},
   "outputs": [
    {
     "data": {
      "text/plain": [
       "Text(0, 0.5, '# of Fans')"
      ]
     },
     "execution_count": 18,
     "metadata": {},
     "output_type": "execute_result"
    },
    {
     "data": {
      "image/png": "[encoded data removed]",
      "text/plain": [
       "<Figure size 720x360 with 1 Axes>"
      ]
     },
     "metadata": {},
     "output_type": "display_data"
    }
   ],
   "source": [
    "sns.set_style(\"whitegrid\")\n",
    "plt.figure(figsize=(10,5))\n",
    "sns.distplot(passone[\"p1_gross\"][passone['p1_gross'] ],kde=False, bins =50)\n",
    "plt.title('Pass One Gross Sales')\n",
    "plt.xlabel('Gross Sales of Pass One Fans')\n",
    "plt.ylabel('# of Fans')"
   ]
  },
  {
   "cell_type": "code",
   "execution_count": 19,
   "metadata": {},
   "outputs": [
    {
     "data": {
      "text/plain": [
       "Text(0, 0.5, '# of Fans')"
      ]
     },
     "execution_count": 19,
     "metadata": {},
     "output_type": "execute_result"
    },
    {
     "data": {
      "image/png": "[encoded data removed]",
      "text/plain": [
       "<Figure size 720x360 with 1 Axes>"
      ]
     },
     "metadata": {},
     "output_type": "display_data"
    }
   ],
   "source": [
    "sns.set_style(\"whitegrid\")\n",
    "plt.figure(figsize=(10,5))\n",
    "sns.distplot(passone[\"num_p1_events\"],kde=False, bins =50)\n",
    "plt.title('Number of Pass One Events ')\n",
    "plt.xlabel('Number of Pass One Events purchased')\n",
    "plt.ylabel('# of Fans')"
   ]
  },
  {
   "cell_type": "code",
   "execution_count": 20,
   "metadata": {},
   "outputs": [
    {
     "data": {
      "text/plain": [
       "Text(0, 0.5, '# of Fans')"
      ]
     },
     "execution_count": 20,
     "metadata": {},
     "output_type": "execute_result"
    },
    {
     "data": {
      "image/png": "[encoded data removed]",
      "text/plain": [
       "<Figure size 720x360 with 1 Axes>"
      ]
     },
     "metadata": {},
     "output_type": "display_data"
    }
   ],
   "source": [
    "sns.set_style(\"whitegrid\")\n",
    "plt.figure(figsize=(10,5))\n",
    "sns.distplot(passone[\"p1_tickets\"],kde=False, bins =50)\n",
    "plt.title('Number of Pass One Tickets ')\n",
    "plt.xlabel('Number of Pass One Tickets purchased')\n",
    "plt.ylabel('# of Fans')"
   ]
  },
  {
   "cell_type": "markdown",
   "metadata": {},
   "source": [
    "### Standardizing the features below using Z-scores then eliminating Outliers by using Z-Score <3 "
   ]
  },
  {
   "cell_type": "code",
   "execution_count": 21,
   "metadata": {},
   "outputs": [],
   "source": [
    "### Going to transform using z-score\n",
    "\n",
    "import scipy"
   ]
  },
  {
   "cell_type": "code",
   "execution_count": 22,
   "metadata": {},
   "outputs": [],
   "source": [
    "zscore = passone[['p1_gross','num_p1_events','p1_tickets']]"
   ]
  },
  {
   "cell_type": "code",
   "execution_count": 23,
   "metadata": {},
   "outputs": [],
   "source": [
    "zscore = scipy.stats.zscore(zscore)"
   ]
  },
  {
   "cell_type": "code",
   "execution_count": 24,
   "metadata": {},
   "outputs": [],
   "source": [
    "abs_z_scores = np.abs(zscore)"
   ]
  },
  {
   "cell_type": "code",
   "execution_count": 25,
   "metadata": {},
   "outputs": [],
   "source": [
    "abs_z_scores\n",
    "filtered_entries = (abs_z_scores < 3).all(axis=1)\n",
    "new_df = passone[filtered_entries]\n"
   ]
  },
  {
   "cell_type": "markdown",
   "metadata": {},
   "source": [
    "### The new dataframe went from n=31,849 obs to 30,980 obs after removing outliers"
   ]
  },
  {
   "cell_type": "code",
   "execution_count": 26,
   "metadata": {},
   "outputs": [
    {
     "data": {
      "text/html": [
       "<div>\n",
       "<style scoped>\n",
       "    .dataframe tbody tr th:only-of-type {\n",
       "        vertical-align: middle;\n",
       "    }\n",
       "\n",
       "    .dataframe tbody tr th {\n",
       "        vertical-align: top;\n",
       "    }\n",
       "\n",
       "    .dataframe thead th {\n",
       "        text-align: right;\n",
       "    }\n",
       "</style>\n",
       "<table border=\"1\" class=\"dataframe\">\n",
       "  <thead>\n",
       "    <tr style=\"text-align: right;\">\n",
       "      <th></th>\n",
       "      <th>segment</th>\n",
       "      <th>team_id</th>\n",
       "      <th>product_key</th>\n",
       "      <th>product</th>\n",
       "      <th>team</th>\n",
       "      <th>p1_gross</th>\n",
       "      <th>p1_net</th>\n",
       "      <th>avg_gross_spend_per_event</th>\n",
       "      <th>avg_net_spend_per_event</th>\n",
       "      <th>p1_discounts</th>\n",
       "      <th>num_p1_events</th>\n",
       "      <th>pass_one_transactions</th>\n",
       "      <th>p1_tickets</th>\n",
       "      <th>num_p1_seasons</th>\n",
       "      <th>upgrade_fan</th>\n",
       "      <th>num_upgrades</th>\n",
       "      <th>upgrade_tickets</th>\n",
       "      <th>upgrade_gross</th>\n",
       "      <th>upgrade_net</th>\n",
       "    </tr>\n",
       "  </thead>\n",
       "  <tbody>\n",
       "    <tr>\n",
       "      <th>0</th>\n",
       "      <td>NBA</td>\n",
       "      <td>4</td>\n",
       "      <td>12</td>\n",
       "      <td>Pass One</td>\n",
       "      <td>Team 5</td>\n",
       "      <td>94</td>\n",
       "      <td>94.0</td>\n",
       "      <td>18.8</td>\n",
       "      <td>18.8</td>\n",
       "      <td>0.0</td>\n",
       "      <td>5</td>\n",
       "      <td>5</td>\n",
       "      <td>10</td>\n",
       "      <td>2</td>\n",
       "      <td>0</td>\n",
       "      <td>NaN</td>\n",
       "      <td>NaN</td>\n",
       "      <td>NaN</td>\n",
       "      <td>NaN</td>\n",
       "    </tr>\n",
       "    <tr>\n",
       "      <th>1</th>\n",
       "      <td>NBA</td>\n",
       "      <td>4</td>\n",
       "      <td>12</td>\n",
       "      <td>Pass One</td>\n",
       "      <td>Team 5</td>\n",
       "      <td>104</td>\n",
       "      <td>104.0</td>\n",
       "      <td>20.8</td>\n",
       "      <td>20.8</td>\n",
       "      <td>0.0</td>\n",
       "      <td>5</td>\n",
       "      <td>5</td>\n",
       "      <td>10</td>\n",
       "      <td>2</td>\n",
       "      <td>0</td>\n",
       "      <td>NaN</td>\n",
       "      <td>NaN</td>\n",
       "      <td>NaN</td>\n",
       "      <td>NaN</td>\n",
       "    </tr>\n",
       "    <tr>\n",
       "      <th>3</th>\n",
       "      <td>NBA</td>\n",
       "      <td>4</td>\n",
       "      <td>12</td>\n",
       "      <td>Pass One</td>\n",
       "      <td>Team 5</td>\n",
       "      <td>50</td>\n",
       "      <td>50.0</td>\n",
       "      <td>25.0</td>\n",
       "      <td>25.0</td>\n",
       "      <td>0.0</td>\n",
       "      <td>2</td>\n",
       "      <td>2</td>\n",
       "      <td>4</td>\n",
       "      <td>1</td>\n",
       "      <td>0</td>\n",
       "      <td>NaN</td>\n",
       "      <td>NaN</td>\n",
       "      <td>NaN</td>\n",
       "      <td>NaN</td>\n",
       "    </tr>\n",
       "    <tr>\n",
       "      <th>4</th>\n",
       "      <td>NBA</td>\n",
       "      <td>4</td>\n",
       "      <td>12</td>\n",
       "      <td>Pass One</td>\n",
       "      <td>Team 5</td>\n",
       "      <td>90</td>\n",
       "      <td>90.0</td>\n",
       "      <td>22.5</td>\n",
       "      <td>22.5</td>\n",
       "      <td>0.0</td>\n",
       "      <td>4</td>\n",
       "      <td>4</td>\n",
       "      <td>10</td>\n",
       "      <td>3</td>\n",
       "      <td>1</td>\n",
       "      <td>1.0</td>\n",
       "      <td>4.0</td>\n",
       "      <td>89.84</td>\n",
       "      <td>89.84</td>\n",
       "    </tr>\n",
       "    <tr>\n",
       "      <th>5</th>\n",
       "      <td>NBA</td>\n",
       "      <td>4</td>\n",
       "      <td>12</td>\n",
       "      <td>Pass One</td>\n",
       "      <td>Team 5</td>\n",
       "      <td>60</td>\n",
       "      <td>60.0</td>\n",
       "      <td>20.0</td>\n",
       "      <td>20.0</td>\n",
       "      <td>0.0</td>\n",
       "      <td>3</td>\n",
       "      <td>3</td>\n",
       "      <td>7</td>\n",
       "      <td>1</td>\n",
       "      <td>0</td>\n",
       "      <td>NaN</td>\n",
       "      <td>NaN</td>\n",
       "      <td>NaN</td>\n",
       "      <td>NaN</td>\n",
       "    </tr>\n",
       "  </tbody>\n",
       "</table>\n",
       "</div>"
      ],
      "text/plain": [
       "  segment  team_id  product_key   product    team  p1_gross  p1_net  \\\n",
       "0     NBA        4           12  Pass One  Team 5        94    94.0   \n",
       "1     NBA        4           12  Pass One  Team 5       104   104.0   \n",
       "3     NBA        4           12  Pass One  Team 5        50    50.0   \n",
       "4     NBA        4           12  Pass One  Team 5        90    90.0   \n",
       "5     NBA        4           12  Pass One  Team 5        60    60.0   \n",
       "\n",
       "   avg_gross_spend_per_event  avg_net_spend_per_event  p1_discounts  \\\n",
       "0                       18.8                     18.8           0.0   \n",
       "1                       20.8                     20.8           0.0   \n",
       "3                       25.0                     25.0           0.0   \n",
       "4                       22.5                     22.5           0.0   \n",
       "5                       20.0                     20.0           0.0   \n",
       "\n",
       "   num_p1_events  pass_one_transactions  p1_tickets  num_p1_seasons  \\\n",
       "0              5                      5          10               2   \n",
       "1              5                      5          10               2   \n",
       "3              2                      2           4               1   \n",
       "4              4                      4          10               3   \n",
       "5              3                      3           7               1   \n",
       "\n",
       "   upgrade_fan  num_upgrades  upgrade_tickets  upgrade_gross  upgrade_net  \n",
       "0            0           NaN              NaN            NaN          NaN  \n",
       "1            0           NaN              NaN            NaN          NaN  \n",
       "3            0           NaN              NaN            NaN          NaN  \n",
       "4            1           1.0              4.0          89.84        89.84  \n",
       "5            0           NaN              NaN            NaN          NaN  "
      ]
     },
     "execution_count": 26,
     "metadata": {},
     "output_type": "execute_result"
    }
   ],
   "source": [
    "\n",
    "new_df.head()"
   ]
  },
  {
   "cell_type": "markdown",
   "metadata": {},
   "source": [
    "## Distributions after outliers removed from dataframe"
   ]
  },
  {
   "cell_type": "code",
   "execution_count": 27,
   "metadata": {},
   "outputs": [
    {
     "data": {
      "text/plain": [
       "Text(0, 0.5, '# of Fans')"
      ]
     },
     "execution_count": 27,
     "metadata": {},
     "output_type": "execute_result"
    },
    {
     "data": {
      "image/png": "[encoded data removed]",
      "text/plain": [
       "<Figure size 720x360 with 1 Axes>"
      ]
     },
     "metadata": {},
     "output_type": "display_data"
    }
   ],
   "source": [
    "sns.set_style(\"whitegrid\")\n",
    "plt.figure(figsize=(10,5))\n",
    "sns.distplot(new_df[\"p1_gross\"],kde=False, bins =50)\n",
    "plt.title('Pass One Gross Sales with Z-Score <3')\n",
    "plt.xlabel('Gross Sales of Pass One Fans')\n",
    "plt.ylabel('# of Fans')"
   ]
  },
  {
   "cell_type": "code",
   "execution_count": 28,
   "metadata": {},
   "outputs": [
    {
     "data": {
      "text/plain": [
       "Text(0, 0.5, '# of Fans')"
      ]
     },
     "execution_count": 28,
     "metadata": {},
     "output_type": "execute_result"
    },
    {
     "data": {
      "image/png": "[encoded data removed]",
      "text/plain": [
       "<Figure size 720x360 with 1 Axes>"
      ]
     },
     "metadata": {},
     "output_type": "display_data"
    }
   ],
   "source": [
    "sns.set_style(\"whitegrid\")\n",
    "plt.figure(figsize=(10,5))\n",
    "sns.distplot(new_df[\"num_p1_events\"],kde=False, bins =50)\n",
    "plt.title('Number of Pass One Events Z-Score <3')\n",
    "plt.xlabel('Number of Pass One Events purchased')\n",
    "plt.ylabel('# of Fans')"
   ]
  },
  {
   "cell_type": "code",
   "execution_count": 29,
   "metadata": {},
   "outputs": [
    {
     "data": {
      "text/plain": [
       "Text(0, 0.5, '# of Fans')"
      ]
     },
     "execution_count": 29,
     "metadata": {},
     "output_type": "execute_result"
    },
    {
     "data": {
      "image/png": "[encoded data removed]",
      "text/plain": [
       "<Figure size 720x360 with 1 Axes>"
      ]
     },
     "metadata": {},
     "output_type": "display_data"
    }
   ],
   "source": [
    "sns.set_style(\"whitegrid\")\n",
    "plt.figure(figsize=(10,5))\n",
    "sns.distplot(new_df[\"p1_tickets\"],kde=False, bins =50)\n",
    "plt.title('Number of Pass One Tickets Z-Score <3')\n",
    "plt.xlabel('Number of Pass One Tickets purchased')\n",
    "plt.ylabel('# of Fans')"
   ]
  },
  {
   "cell_type": "markdown",
   "metadata": {},
   "source": [
    "### Trimming off some extraneous upgrade variables to check correlations with upgrade_fan"
   ]
  },
  {
   "cell_type": "code",
   "execution_count": 30,
   "metadata": {},
   "outputs": [
    {
     "name": "stdout",
     "output_type": "stream",
     "text": [
      "<class 'pandas.core.frame.DataFrame'>\n",
      "Int64Index: 30980 entries, 0 to 31848\n",
      "Data columns (total 19 columns):\n",
      " #   Column                     Non-Null Count  Dtype  \n",
      "---  ------                     --------------  -----  \n",
      " 0   segment                    30980 non-null  object \n",
      " 1   team_id                    30980 non-null  int64  \n",
      " 2   product_key                30980 non-null  int64  \n",
      " 3   product                    30980 non-null  object \n",
      " 4   team                       30980 non-null  object \n",
      " 5   p1_gross                   30980 non-null  int64  \n",
      " 6   p1_net                     30980 non-null  float64\n",
      " 7   avg_gross_spend_per_event  30980 non-null  float64\n",
      " 8   avg_net_spend_per_event    30980 non-null  float64\n",
      " 9   p1_discounts               30980 non-null  float64\n",
      " 10  num_p1_events              30980 non-null  int64  \n",
      " 11  pass_one_transactions      30980 non-null  int64  \n",
      " 12  p1_tickets                 30980 non-null  int64  \n",
      " 13  num_p1_seasons             30980 non-null  int64  \n",
      " 14  upgrade_fan                30980 non-null  int64  \n",
      " 15  num_upgrades               3300 non-null   float64\n",
      " 16  upgrade_tickets            3300 non-null   float64\n",
      " 17  upgrade_gross              3300 non-null   float64\n",
      " 18  upgrade_net                3300 non-null   float64\n",
      "dtypes: float64(8), int64(8), object(3)\n",
      "memory usage: 4.7+ MB\n"
     ]
    }
   ],
   "source": [
    "new_df.info()"
   ]
  },
  {
   "cell_type": "markdown",
   "metadata": {},
   "source": [
    "### Dataframe with removed outliers called df"
   ]
  },
  {
   "cell_type": "code",
   "execution_count": 31,
   "metadata": {},
   "outputs": [],
   "source": [
    "df= new_df[['team','p1_gross','p1_net','avg_gross_spend_per_event','avg_net_spend_per_event','num_p1_events','pass_one_transactions','p1_tickets','num_p1_seasons','upgrade_fan']]"
   ]
  },
  {
   "cell_type": "code",
   "execution_count": 32,
   "metadata": {},
   "outputs": [
    {
     "data": {
      "text/html": [
       "<div>\n",
       "<style scoped>\n",
       "    .dataframe tbody tr th:only-of-type {\n",
       "        vertical-align: middle;\n",
       "    }\n",
       "\n",
       "    .dataframe tbody tr th {\n",
       "        vertical-align: top;\n",
       "    }\n",
       "\n",
       "    .dataframe thead th {\n",
       "        text-align: right;\n",
       "    }\n",
       "</style>\n",
       "<table border=\"1\" class=\"dataframe\">\n",
       "  <thead>\n",
       "    <tr style=\"text-align: right;\">\n",
       "      <th></th>\n",
       "      <th>team</th>\n",
       "      <th>p1_gross</th>\n",
       "      <th>p1_net</th>\n",
       "      <th>avg_gross_spend_per_event</th>\n",
       "      <th>avg_net_spend_per_event</th>\n",
       "      <th>num_p1_events</th>\n",
       "      <th>pass_one_transactions</th>\n",
       "      <th>p1_tickets</th>\n",
       "      <th>num_p1_seasons</th>\n",
       "      <th>upgrade_fan</th>\n",
       "    </tr>\n",
       "  </thead>\n",
       "  <tbody>\n",
       "    <tr>\n",
       "      <th>0</th>\n",
       "      <td>Team 5</td>\n",
       "      <td>94</td>\n",
       "      <td>94.0</td>\n",
       "      <td>18.8</td>\n",
       "      <td>18.8</td>\n",
       "      <td>5</td>\n",
       "      <td>5</td>\n",
       "      <td>10</td>\n",
       "      <td>2</td>\n",
       "      <td>0</td>\n",
       "    </tr>\n",
       "    <tr>\n",
       "      <th>1</th>\n",
       "      <td>Team 5</td>\n",
       "      <td>104</td>\n",
       "      <td>104.0</td>\n",
       "      <td>20.8</td>\n",
       "      <td>20.8</td>\n",
       "      <td>5</td>\n",
       "      <td>5</td>\n",
       "      <td>10</td>\n",
       "      <td>2</td>\n",
       "      <td>0</td>\n",
       "    </tr>\n",
       "    <tr>\n",
       "      <th>3</th>\n",
       "      <td>Team 5</td>\n",
       "      <td>50</td>\n",
       "      <td>50.0</td>\n",
       "      <td>25.0</td>\n",
       "      <td>25.0</td>\n",
       "      <td>2</td>\n",
       "      <td>2</td>\n",
       "      <td>4</td>\n",
       "      <td>1</td>\n",
       "      <td>0</td>\n",
       "    </tr>\n",
       "    <tr>\n",
       "      <th>4</th>\n",
       "      <td>Team 5</td>\n",
       "      <td>90</td>\n",
       "      <td>90.0</td>\n",
       "      <td>22.5</td>\n",
       "      <td>22.5</td>\n",
       "      <td>4</td>\n",
       "      <td>4</td>\n",
       "      <td>10</td>\n",
       "      <td>3</td>\n",
       "      <td>1</td>\n",
       "    </tr>\n",
       "    <tr>\n",
       "      <th>5</th>\n",
       "      <td>Team 5</td>\n",
       "      <td>60</td>\n",
       "      <td>60.0</td>\n",
       "      <td>20.0</td>\n",
       "      <td>20.0</td>\n",
       "      <td>3</td>\n",
       "      <td>3</td>\n",
       "      <td>7</td>\n",
       "      <td>1</td>\n",
       "      <td>0</td>\n",
       "    </tr>\n",
       "  </tbody>\n",
       "</table>\n",
       "</div>"
      ],
      "text/plain": [
       "     team  p1_gross  p1_net  avg_gross_spend_per_event  \\\n",
       "0  Team 5        94    94.0                       18.8   \n",
       "1  Team 5       104   104.0                       20.8   \n",
       "3  Team 5        50    50.0                       25.0   \n",
       "4  Team 5        90    90.0                       22.5   \n",
       "5  Team 5        60    60.0                       20.0   \n",
       "\n",
       "   avg_net_spend_per_event  num_p1_events  pass_one_transactions  p1_tickets  \\\n",
       "0                     18.8              5                      5          10   \n",
       "1                     20.8              5                      5          10   \n",
       "3                     25.0              2                      2           4   \n",
       "4                     22.5              4                      4          10   \n",
       "5                     20.0              3                      3           7   \n",
       "\n",
       "   num_p1_seasons  upgrade_fan  \n",
       "0               2            0  \n",
       "1               2            0  \n",
       "3               1            0  \n",
       "4               3            1  \n",
       "5               1            0  "
      ]
     },
     "execution_count": 32,
     "metadata": {},
     "output_type": "execute_result"
    }
   ],
   "source": [
    "df.head()"
   ]
  },
  {
   "cell_type": "markdown",
   "metadata": {},
   "source": [
    "## Checking correlations of Features with target"
   ]
  },
  {
   "cell_type": "code",
   "execution_count": 33,
   "metadata": {},
   "outputs": [
    {
     "data": {
      "text/plain": [
       "num_p1_events                0.204776\n",
       "pass_one_transactions        0.204614\n",
       "p1_tickets                   0.144694\n",
       "p1_gross                     0.131031\n",
       "p1_net                       0.130410\n",
       "num_p1_seasons               0.126876\n",
       "avg_gross_spend_per_event   -0.006951\n",
       "avg_net_spend_per_event     -0.007413\n",
       "dtype: float64"
      ]
     },
     "execution_count": 33,
     "metadata": {},
     "output_type": "execute_result"
    }
   ],
   "source": [
    "df.drop(['upgrade_fan','team'], axis=1).apply(lambda x: x.corr(df.upgrade_fan)).sort_values( ascending=False)"
   ]
  },
  {
   "cell_type": "markdown",
   "metadata": {
    "scrolled": true
   },
   "source": [
    "#### Will remove pass_one_transactions, p1_net,avg_gross_spend_per_event, avg_net_spend_per_event due to prevent multicolinearity and due to weak correlation values"
   ]
  },
  {
   "cell_type": "code",
   "execution_count": 34,
   "metadata": {},
   "outputs": [],
   "source": [
    "modeling_data = new_df[['team','num_p1_events','num_p1_seasons','p1_gross','p1_tickets','upgrade_fan']]"
   ]
  },
  {
   "cell_type": "code",
   "execution_count": 35,
   "metadata": {},
   "outputs": [
    {
     "data": {
      "text/html": [
       "<div>\n",
       "<style scoped>\n",
       "    .dataframe tbody tr th:only-of-type {\n",
       "        vertical-align: middle;\n",
       "    }\n",
       "\n",
       "    .dataframe tbody tr th {\n",
       "        vertical-align: top;\n",
       "    }\n",
       "\n",
       "    .dataframe thead th {\n",
       "        text-align: right;\n",
       "    }\n",
       "</style>\n",
       "<table border=\"1\" class=\"dataframe\">\n",
       "  <thead>\n",
       "    <tr style=\"text-align: right;\">\n",
       "      <th></th>\n",
       "      <th>team</th>\n",
       "      <th>num_p1_events</th>\n",
       "      <th>num_p1_seasons</th>\n",
       "      <th>p1_gross</th>\n",
       "      <th>p1_tickets</th>\n",
       "      <th>upgrade_fan</th>\n",
       "    </tr>\n",
       "  </thead>\n",
       "  <tbody>\n",
       "    <tr>\n",
       "      <th>0</th>\n",
       "      <td>Team 5</td>\n",
       "      <td>5</td>\n",
       "      <td>2</td>\n",
       "      <td>94</td>\n",
       "      <td>10</td>\n",
       "      <td>0</td>\n",
       "    </tr>\n",
       "    <tr>\n",
       "      <th>1</th>\n",
       "      <td>Team 5</td>\n",
       "      <td>5</td>\n",
       "      <td>2</td>\n",
       "      <td>104</td>\n",
       "      <td>10</td>\n",
       "      <td>0</td>\n",
       "    </tr>\n",
       "    <tr>\n",
       "      <th>3</th>\n",
       "      <td>Team 5</td>\n",
       "      <td>2</td>\n",
       "      <td>1</td>\n",
       "      <td>50</td>\n",
       "      <td>4</td>\n",
       "      <td>0</td>\n",
       "    </tr>\n",
       "    <tr>\n",
       "      <th>4</th>\n",
       "      <td>Team 5</td>\n",
       "      <td>4</td>\n",
       "      <td>3</td>\n",
       "      <td>90</td>\n",
       "      <td>10</td>\n",
       "      <td>1</td>\n",
       "    </tr>\n",
       "    <tr>\n",
       "      <th>5</th>\n",
       "      <td>Team 5</td>\n",
       "      <td>3</td>\n",
       "      <td>1</td>\n",
       "      <td>60</td>\n",
       "      <td>7</td>\n",
       "      <td>0</td>\n",
       "    </tr>\n",
       "  </tbody>\n",
       "</table>\n",
       "</div>"
      ],
      "text/plain": [
       "     team  num_p1_events  num_p1_seasons  p1_gross  p1_tickets  upgrade_fan\n",
       "0  Team 5              5               2        94          10            0\n",
       "1  Team 5              5               2       104          10            0\n",
       "3  Team 5              2               1        50           4            0\n",
       "4  Team 5              4               3        90          10            1\n",
       "5  Team 5              3               1        60           7            0"
      ]
     },
     "execution_count": 35,
     "metadata": {},
     "output_type": "execute_result"
    }
   ],
   "source": [
    "modeling_data.head()"
   ]
  },
  {
   "cell_type": "markdown",
   "metadata": {},
   "source": [
    "### Creating dummy variables to identify different Teams"
   ]
  },
  {
   "cell_type": "code",
   "execution_count": 36,
   "metadata": {},
   "outputs": [],
   "source": [
    "cat_vars =['team']\n",
    "for var in cat_vars:\n",
    "    cat_list=var\n",
    "    cat_list = pd.get_dummies(modeling_data[var])\n",
    "    modeling_data1=modeling_data.join(cat_list)\n",
    "    modeling_data=modeling_data1\n",
    "\n",
    "cat_vars = ['team']\n",
    "data_vars = modeling_data.columns.values.tolist()\n",
    "to_keep=[i for i in data_vars if i not in cat_vars]\n",
    "    "
   ]
  },
  {
   "cell_type": "code",
   "execution_count": 37,
   "metadata": {},
   "outputs": [
    {
     "data": {
      "text/html": [
       "<div>\n",
       "<style scoped>\n",
       "    .dataframe tbody tr th:only-of-type {\n",
       "        vertical-align: middle;\n",
       "    }\n",
       "\n",
       "    .dataframe tbody tr th {\n",
       "        vertical-align: top;\n",
       "    }\n",
       "\n",
       "    .dataframe thead th {\n",
       "        text-align: right;\n",
       "    }\n",
       "</style>\n",
       "<table border=\"1\" class=\"dataframe\">\n",
       "  <thead>\n",
       "    <tr style=\"text-align: right;\">\n",
       "      <th></th>\n",
       "      <th>num_p1_events</th>\n",
       "      <th>num_p1_seasons</th>\n",
       "      <th>p1_gross</th>\n",
       "      <th>p1_tickets</th>\n",
       "      <th>upgrade_fan</th>\n",
       "      <th>Team 1</th>\n",
       "      <th>Team 2</th>\n",
       "      <th>Team 3</th>\n",
       "      <th>Team 4</th>\n",
       "      <th>Team 5</th>\n",
       "      <th>Team 6</th>\n",
       "      <th>Team 7</th>\n",
       "    </tr>\n",
       "  </thead>\n",
       "  <tbody>\n",
       "    <tr>\n",
       "      <th>0</th>\n",
       "      <td>5</td>\n",
       "      <td>2</td>\n",
       "      <td>94</td>\n",
       "      <td>10</td>\n",
       "      <td>0</td>\n",
       "      <td>0</td>\n",
       "      <td>0</td>\n",
       "      <td>0</td>\n",
       "      <td>0</td>\n",
       "      <td>1</td>\n",
       "      <td>0</td>\n",
       "      <td>0</td>\n",
       "    </tr>\n",
       "    <tr>\n",
       "      <th>1</th>\n",
       "      <td>5</td>\n",
       "      <td>2</td>\n",
       "      <td>104</td>\n",
       "      <td>10</td>\n",
       "      <td>0</td>\n",
       "      <td>0</td>\n",
       "      <td>0</td>\n",
       "      <td>0</td>\n",
       "      <td>0</td>\n",
       "      <td>1</td>\n",
       "      <td>0</td>\n",
       "      <td>0</td>\n",
       "    </tr>\n",
       "    <tr>\n",
       "      <th>3</th>\n",
       "      <td>2</td>\n",
       "      <td>1</td>\n",
       "      <td>50</td>\n",
       "      <td>4</td>\n",
       "      <td>0</td>\n",
       "      <td>0</td>\n",
       "      <td>0</td>\n",
       "      <td>0</td>\n",
       "      <td>0</td>\n",
       "      <td>1</td>\n",
       "      <td>0</td>\n",
       "      <td>0</td>\n",
       "    </tr>\n",
       "    <tr>\n",
       "      <th>4</th>\n",
       "      <td>4</td>\n",
       "      <td>3</td>\n",
       "      <td>90</td>\n",
       "      <td>10</td>\n",
       "      <td>1</td>\n",
       "      <td>0</td>\n",
       "      <td>0</td>\n",
       "      <td>0</td>\n",
       "      <td>0</td>\n",
       "      <td>1</td>\n",
       "      <td>0</td>\n",
       "      <td>0</td>\n",
       "    </tr>\n",
       "    <tr>\n",
       "      <th>5</th>\n",
       "      <td>3</td>\n",
       "      <td>1</td>\n",
       "      <td>60</td>\n",
       "      <td>7</td>\n",
       "      <td>0</td>\n",
       "      <td>0</td>\n",
       "      <td>0</td>\n",
       "      <td>0</td>\n",
       "      <td>0</td>\n",
       "      <td>1</td>\n",
       "      <td>0</td>\n",
       "      <td>0</td>\n",
       "    </tr>\n",
       "    <tr>\n",
       "      <th>...</th>\n",
       "      <td>...</td>\n",
       "      <td>...</td>\n",
       "      <td>...</td>\n",
       "      <td>...</td>\n",
       "      <td>...</td>\n",
       "      <td>...</td>\n",
       "      <td>...</td>\n",
       "      <td>...</td>\n",
       "      <td>...</td>\n",
       "      <td>...</td>\n",
       "      <td>...</td>\n",
       "      <td>...</td>\n",
       "    </tr>\n",
       "    <tr>\n",
       "      <th>31844</th>\n",
       "      <td>1</td>\n",
       "      <td>1</td>\n",
       "      <td>10</td>\n",
       "      <td>1</td>\n",
       "      <td>0</td>\n",
       "      <td>0</td>\n",
       "      <td>0</td>\n",
       "      <td>0</td>\n",
       "      <td>0</td>\n",
       "      <td>1</td>\n",
       "      <td>0</td>\n",
       "      <td>0</td>\n",
       "    </tr>\n",
       "    <tr>\n",
       "      <th>31845</th>\n",
       "      <td>1</td>\n",
       "      <td>1</td>\n",
       "      <td>102</td>\n",
       "      <td>3</td>\n",
       "      <td>0</td>\n",
       "      <td>0</td>\n",
       "      <td>0</td>\n",
       "      <td>0</td>\n",
       "      <td>0</td>\n",
       "      <td>0</td>\n",
       "      <td>1</td>\n",
       "      <td>0</td>\n",
       "    </tr>\n",
       "    <tr>\n",
       "      <th>31846</th>\n",
       "      <td>1</td>\n",
       "      <td>1</td>\n",
       "      <td>80</td>\n",
       "      <td>2</td>\n",
       "      <td>0</td>\n",
       "      <td>0</td>\n",
       "      <td>0</td>\n",
       "      <td>1</td>\n",
       "      <td>0</td>\n",
       "      <td>0</td>\n",
       "      <td>0</td>\n",
       "      <td>0</td>\n",
       "    </tr>\n",
       "    <tr>\n",
       "      <th>31847</th>\n",
       "      <td>1</td>\n",
       "      <td>1</td>\n",
       "      <td>20</td>\n",
       "      <td>2</td>\n",
       "      <td>1</td>\n",
       "      <td>0</td>\n",
       "      <td>0</td>\n",
       "      <td>0</td>\n",
       "      <td>1</td>\n",
       "      <td>0</td>\n",
       "      <td>0</td>\n",
       "      <td>0</td>\n",
       "    </tr>\n",
       "    <tr>\n",
       "      <th>31848</th>\n",
       "      <td>1</td>\n",
       "      <td>1</td>\n",
       "      <td>40</td>\n",
       "      <td>4</td>\n",
       "      <td>0</td>\n",
       "      <td>0</td>\n",
       "      <td>0</td>\n",
       "      <td>0</td>\n",
       "      <td>1</td>\n",
       "      <td>0</td>\n",
       "      <td>0</td>\n",
       "      <td>0</td>\n",
       "    </tr>\n",
       "  </tbody>\n",
       "</table>\n",
       "<p>30980 rows × 12 columns</p>\n",
       "</div>"
      ],
      "text/plain": [
       "       num_p1_events  num_p1_seasons  p1_gross  p1_tickets  upgrade_fan  \\\n",
       "0                  5               2        94          10            0   \n",
       "1                  5               2       104          10            0   \n",
       "3                  2               1        50           4            0   \n",
       "4                  4               3        90          10            1   \n",
       "5                  3               1        60           7            0   \n",
       "...              ...             ...       ...         ...          ...   \n",
       "31844              1               1        10           1            0   \n",
       "31845              1               1       102           3            0   \n",
       "31846              1               1        80           2            0   \n",
       "31847              1               1        20           2            1   \n",
       "31848              1               1        40           4            0   \n",
       "\n",
       "       Team 1  Team 2  Team 3  Team 4  Team 5  Team 6  Team 7  \n",
       "0           0       0       0       0       1       0       0  \n",
       "1           0       0       0       0       1       0       0  \n",
       "3           0       0       0       0       1       0       0  \n",
       "4           0       0       0       0       1       0       0  \n",
       "5           0       0       0       0       1       0       0  \n",
       "...       ...     ...     ...     ...     ...     ...     ...  \n",
       "31844       0       0       0       0       1       0       0  \n",
       "31845       0       0       0       0       0       1       0  \n",
       "31846       0       0       1       0       0       0       0  \n",
       "31847       0       0       0       1       0       0       0  \n",
       "31848       0       0       0       1       0       0       0  \n",
       "\n",
       "[30980 rows x 12 columns]"
      ]
     },
     "execution_count": 37,
     "metadata": {},
     "output_type": "execute_result"
    }
   ],
   "source": [
    "modeling_data = modeling_data.drop(('team'), axis=1)\n",
    "modeling_data"
   ]
  },
  {
   "cell_type": "markdown",
   "metadata": {},
   "source": [
    "### Running Correlations to see if Teams have impact , seems Teams have little correlation with upgrading but the Team 4  had more correlation than the other teams."
   ]
  },
  {
   "cell_type": "code",
   "execution_count": 38,
   "metadata": {},
   "outputs": [
    {
     "data": {
      "text/plain": [
       "num_p1_events     0.204776\n",
       "p1_tickets        0.144694\n",
       "p1_gross          0.131031\n",
       "num_p1_seasons    0.126876\n",
       "Team 4            0.100426\n",
       "Team 3            0.028575\n",
       "Team 1            0.028144\n",
       "Team 6            0.024415\n",
       "Team 2           -0.018780\n",
       "Team 7           -0.023644\n",
       "Team 5           -0.080022\n",
       "dtype: float64"
      ]
     },
     "execution_count": 38,
     "metadata": {},
     "output_type": "execute_result"
    }
   ],
   "source": [
    "modeling_data.drop(['upgrade_fan'], axis=1).apply(lambda x: x.corr(df.upgrade_fan)).sort_values( ascending=False)"
   ]
  },
  {
   "cell_type": "markdown",
   "metadata": {},
   "source": [
    "### As expected the gross sales of pass one tickets purchased by a fan is positively correlated with number of tickets a fan purchases and the number of events purchased by a fan, The class upgrade_fan has little to no correlation with gross sales which doesn't bode well for this model exercise"
   ]
  },
  {
   "cell_type": "code",
   "execution_count": 39,
   "metadata": {},
   "outputs": [
    {
     "data": {
      "text/plain": [
       "p1_tickets        0.739462\n",
       "num_p1_events     0.640599\n",
       "num_p1_seasons    0.420810\n",
       "upgrade_fan       0.131031\n",
       "Team 3            0.117841\n",
       "Team 2            0.069447\n",
       "Team 1            0.032879\n",
       "Team 6            0.018491\n",
       "Team 7            0.008319\n",
       "Team 4           -0.044039\n",
       "Team 5           -0.070471\n",
       "dtype: float64"
      ]
     },
     "execution_count": 39,
     "metadata": {},
     "output_type": "execute_result"
    }
   ],
   "source": [
    "modeling_data.drop(['p1_gross'], axis=1).apply(lambda x: x.corr(df.p1_gross)).sort_values( ascending=False)"
   ]
  },
  {
   "cell_type": "code",
   "execution_count": 40,
   "metadata": {},
   "outputs": [
    {
     "data": {
      "image/png": "[encoded data removed]",
      "text/plain": [
       "<Figure size 720x288 with 1 Axes>"
      ]
     },
     "metadata": {},
     "output_type": "display_data"
    }
   ],
   "source": [
    "# Distribution of upgrades vs. no upgrades\n",
    "plt.figure(figsize = (10,4))\n",
    "sns.countplot(x='upgrade_fan',data=modeling_data)\n",
    "plt.title('Number of Non-Upgraded Fans vs. Upgraded Fans')\n",
    "plt.ylabel('# of Fans')\n",
    "plt.show()"
   ]
  },
  {
   "cell_type": "code",
   "execution_count": 41,
   "metadata": {},
   "outputs": [
    {
     "name": "stdout",
     "output_type": "stream",
     "text": [
      "percentage of no upgrading is 89.34796642995481\n",
      "percentage of upgrading 10.65203357004519\n"
     ]
    }
   ],
   "source": [
    "noupgrading = len(modeling_data[modeling_data['upgrade_fan']==0])\n",
    "upgrading = len(modeling_data[modeling_data['upgrade_fan']==1])\n",
    "pct_of_no_upgrading = noupgrading/(upgrading+noupgrading)\n",
    "print(\"percentage of no upgrading is\", pct_of_no_upgrading*100)\n",
    "pct_of_upgrading = upgrading/(upgrading+noupgrading)\n",
    "print(\"percentage of upgrading\", pct_of_upgrading*100)"
   ]
  },
  {
   "cell_type": "markdown",
   "metadata": {},
   "source": [
    "## Although it is pointless to build a model at this point I will do it anyway "
   ]
  },
  {
   "cell_type": "markdown",
   "metadata": {},
   "source": [
    "### Trying normal logistic regression first scaling the dating via preprocessing"
   ]
  },
  {
   "cell_type": "code",
   "execution_count": 42,
   "metadata": {},
   "outputs": [],
   "source": [
    "X= modeling_data[['Team 1','Team 2','Team 3','Team 4','Team 5','Team 6','Team 7','num_p1_events','num_p1_seasons','p1_gross','p1_tickets']]\n",
    "y =modeling_data['upgrade_fan']"
   ]
  },
  {
   "cell_type": "code",
   "execution_count": 43,
   "metadata": {},
   "outputs": [
    {
     "name": "stdout",
     "output_type": "stream",
     "text": [
      "<class 'pandas.core.frame.DataFrame'>\n",
      "Int64Index: 30980 entries, 0 to 31848\n",
      "Data columns (total 11 columns):\n",
      " #   Column          Non-Null Count  Dtype\n",
      "---  ------          --------------  -----\n",
      " 0   Team 1          30980 non-null  uint8\n",
      " 1   Team 2          30980 non-null  uint8\n",
      " 2   Team 3          30980 non-null  uint8\n",
      " 3   Team 4          30980 non-null  uint8\n",
      " 4   Team 5          30980 non-null  uint8\n",
      " 5   Team 6          30980 non-null  uint8\n",
      " 6   Team 7          30980 non-null  uint8\n",
      " 7   num_p1_events   30980 non-null  int64\n",
      " 8   num_p1_seasons  30980 non-null  int64\n",
      " 9   p1_gross        30980 non-null  int64\n",
      " 10  p1_tickets      30980 non-null  int64\n",
      "dtypes: int64(4), uint8(7)\n",
      "memory usage: 2.6 MB\n"
     ]
    }
   ],
   "source": [
    "X.info()"
   ]
  },
  {
   "cell_type": "code",
   "execution_count": 44,
   "metadata": {},
   "outputs": [],
   "source": [
    "from sklearn.linear_model import LogisticRegression\n",
    "from sklearn.model_selection import train_test_split \n",
    "from sklearn.preprocessing import MinMaxScaler\n",
    "scaler = MinMaxScaler()"
   ]
  },
  {
   "cell_type": "markdown",
   "metadata": {},
   "source": [
    "### Running logistic regression model to assess feature statistical significance using p-value of features"
   ]
  },
  {
   "cell_type": "code",
   "execution_count": 45,
   "metadata": {},
   "outputs": [
    {
     "name": "stdout",
     "output_type": "stream",
     "text": [
      "Optimization terminated successfully.\n",
      "         Current function value: 0.312941\n",
      "         Iterations 7\n",
      "                           Logit Regression Results                           \n",
      "==============================================================================\n",
      "Dep. Variable:            upgrade_fan   No. Observations:                30980\n",
      "Model:                          Logit   Df Residuals:                    30969\n",
      "Method:                           MLE   Df Model:                           10\n",
      "Date:                Tue, 27 Oct 2020   Pseudo R-squ.:                 0.07735\n",
      "Time:                        22:11:26   Log-Likelihood:                -9694.9\n",
      "converged:                       True   LL-Null:                       -10508.\n",
      "Covariance Type:            nonrobust   LLR p-value:                     0.000\n",
      "==================================================================================\n",
      "                     coef    std err          z      P>|z|      [0.025      0.975]\n",
      "----------------------------------------------------------------------------------\n",
      "Team 1            -2.4558      0.093    -26.343      0.000      -2.638      -2.273\n",
      "Team 2            -3.1902      0.077    -41.306      0.000      -3.342      -3.039\n",
      "Team 3            -2.4457      0.126    -19.468      0.000      -2.692      -2.200\n",
      "Team 4            -2.4817      0.057    -43.635      0.000      -2.593      -2.370\n",
      "Team 5            -3.4874      0.065    -53.673      0.000      -3.615      -3.360\n",
      "Team 6            -2.2797      0.139    -16.391      0.000      -2.552      -2.007\n",
      "Team 7            -3.1624      0.061    -51.636      0.000      -3.282      -3.042\n",
      "num_p1_events      0.5756      0.027     21.447      0.000       0.523       0.628\n",
      "num_p1_seasons     0.1316      0.047      2.799      0.005       0.039       0.224\n",
      "p1_gross           0.0013      0.000      3.712      0.000       0.001       0.002\n",
      "p1_tickets        -0.1099      0.011     -9.732      0.000      -0.132      -0.088\n",
      "==================================================================================\n"
     ]
    }
   ],
   "source": [
    "import statsmodels.api as sm\n",
    "logit_model=sm.Logit(y,X)\n",
    "result=logit_model.fit()\n",
    "print(result.summary())"
   ]
  },
  {
   "cell_type": "code",
   "execution_count": 46,
   "metadata": {},
   "outputs": [
    {
     "name": "stdout",
     "output_type": "stream",
     "text": [
      "Team 1            0.085797\n",
      "Team 2            0.041162\n",
      "Team 3            0.086663\n",
      "Team 4            0.083598\n",
      "Team 5            0.030580\n",
      "Team 6            0.102315\n",
      "Team 7            0.042326\n",
      "num_p1_events     1.778200\n",
      "num_p1_seasons    1.140600\n",
      "p1_gross          1.001346\n",
      "p1_tickets        0.895907\n",
      "dtype: float64\n"
     ]
    }
   ],
   "source": [
    "# Odds Ratios of coefficients from model\n",
    "\n",
    "print(np.exp(result.params))"
   ]
  },
  {
   "cell_type": "markdown",
   "metadata": {},
   "source": [
    "###  Interpretation of Odds Ratios\n",
    "#### For each addtional Pass One Game purchased the odds of upgrading for one of these NBA teams increases 1.8 times\n",
    "#### The rest of the odd ratios aren't telling much\n"
   ]
  },
  {
   "cell_type": "markdown",
   "metadata": {},
   "source": [
    "### All features seem statistically significant shall proceed to model fitting"
   ]
  },
  {
   "cell_type": "markdown",
   "metadata": {},
   "source": [
    "### Split the data into training set and testing set"
   ]
  },
  {
   "cell_type": "code",
   "execution_count": 47,
   "metadata": {},
   "outputs": [],
   "source": [
    "X_train, X_test, y_train, y_test = train_test_split(X, y, test_size=0.3, random_state=42)"
   ]
  },
  {
   "cell_type": "markdown",
   "metadata": {},
   "source": [
    "### Scaling the Data "
   ]
  },
  {
   "cell_type": "code",
   "execution_count": 48,
   "metadata": {},
   "outputs": [],
   "source": [
    "X_train = scaler.fit_transform(X_train)"
   ]
  },
  {
   "cell_type": "code",
   "execution_count": 49,
   "metadata": {},
   "outputs": [],
   "source": [
    "X_test = scaler.transform(X_test)"
   ]
  },
  {
   "cell_type": "markdown",
   "metadata": {},
   "source": [
    "### Building model on Training data"
   ]
  },
  {
   "cell_type": "code",
   "execution_count": 50,
   "metadata": {},
   "outputs": [
    {
     "data": {
      "text/plain": [
       "LogisticRegression()"
      ]
     },
     "execution_count": 50,
     "metadata": {},
     "output_type": "execute_result"
    }
   ],
   "source": [
    "logmodel = LogisticRegression()\n",
    "logmodel.fit(X_train,y_train)"
   ]
  },
  {
   "cell_type": "markdown",
   "metadata": {},
   "source": [
    "### Predictions on Test Data"
   ]
  },
  {
   "cell_type": "code",
   "execution_count": 51,
   "metadata": {},
   "outputs": [],
   "source": [
    "predictions = logmodel.predict(X_test)"
   ]
  },
  {
   "cell_type": "markdown",
   "metadata": {},
   "source": [
    "### Classification Report and Confusion Matrix"
   ]
  },
  {
   "cell_type": "code",
   "execution_count": 52,
   "metadata": {},
   "outputs": [
    {
     "name": "stdout",
     "output_type": "stream",
     "text": [
      "              precision    recall  f1-score   support\n",
      "\n",
      "           0       0.90      1.00      0.94      8294\n",
      "           1       0.56      0.03      0.06      1000\n",
      "\n",
      "    accuracy                           0.89      9294\n",
      "   macro avg       0.73      0.52      0.50      9294\n",
      "weighted avg       0.86      0.89      0.85      9294\n",
      "\n",
      "[[8267   27]\n",
      " [ 966   34]]\n"
     ]
    }
   ],
   "source": [
    "from sklearn.metrics import classification_report,confusion_matrix\n",
    "print(classification_report(y_test,predictions))\n",
    "print(confusion_matrix(y_test,predictions))"
   ]
  },
  {
   "cell_type": "markdown",
   "metadata": {},
   "source": [
    "### The accuracy is 89% but this meaningless due to the precision and recall values in the classification report.  The class is highly unbalanced as seen earlier in the countplot and due to the limited number of features available in the model  and the low correlation with the class variable and its features in the model we see the ability for the model to predict fans that upgrade is slightly above random chance with a precision of .56\n",
    "\n",
    "#### The model correctly classified 8267 Non-Upgrade Fans out of the 8294 Non-Upgraded Fans and correctly classified 34 out of the 1000 upgrade fans for an accuracy of 89%<br>\n",
    "#### The model incorrectly classified 966 of the Upgraded Fans as Non-Upgraded Fans and incorrectly classified 27 Non-Upgraded Fans as Upgraded Fans"
   ]
  },
  {
   "cell_type": "markdown",
   "metadata": {},
   "source": [
    "### ROC Curve\n",
    "\n",
    "### This Curve shows how poorly this model performs , ideally we would like the blue curve to follow more along the y-axis indicating a higher True Positive Rate"
   ]
  },
  {
   "cell_type": "code",
   "execution_count": 53,
   "metadata": {},
   "outputs": [
    {
     "data": {
      "image/png": "[encoded data removed]",
      "text/plain": [
       "<Figure size 432x288 with 1 Axes>"
      ]
     },
     "metadata": {},
     "output_type": "display_data"
    }
   ],
   "source": [
    "from sklearn.metrics import roc_auc_score\n",
    "from sklearn.metrics import roc_curve\n",
    "logit_roc_auc = roc_auc_score(y_test, logmodel.predict(X_test))\n",
    "fpr, tpr, thresholds = roc_curve(y_test, logmodel.predict_proba(X_test)[:,1])\n",
    "plt.figure()\n",
    "plt.plot(fpr, tpr, label='Logistic Regression (area = %0.2f)' % logit_roc_auc)\n",
    "plt.plot([0, 1], [0, 1],'r--')\n",
    "plt.xlim([0.0, 1.0])\n",
    "plt.ylim([0.0, 1.05])\n",
    "plt.xlabel('False Positive Rate')\n",
    "plt.ylabel('True Positive Rate')\n",
    "plt.title('Receiver operating characteristic')\n",
    "plt.legend(loc=\"lower right\")\n",
    "plt.savefig('Log_ROC')\n",
    "plt.show()"
   ]
  },
  {
   "cell_type": "markdown",
   "metadata": {},
   "source": [
    "# Over-Sampling using SMOTE"
   ]
  },
  {
   "cell_type": "markdown",
   "metadata": {},
   "source": [
    "### Due to imbalance in the target \"upgrade_fan\" I will use SMOTE technique by creating synthetic samples from upgrade_fan  by randomly choosing one of the k-nearest neighbors and using it to create a similar but randomly modified , new observations\n",
    "\n",
    "#### The oversampling only occured on training data because by using this technique none of this information in the Test data is being used to create the synthetic observations, therefore no information will leak from test data into model training\n",
    "\n",
    "\n",
    "#### This is a potentially a good method to balance out classification targets that are unbalanced if and only if you have good data that can predict the target class.  This data doesn't satisfy that criteria but is shown for reference"
   ]
  },
  {
   "cell_type": "code",
   "execution_count": 54,
   "metadata": {},
   "outputs": [],
   "source": [
    "X= modeling_data[['Team 1','Team 2','Team 3','Team 4','Team 5','Team 6','Team 7','num_p1_events','num_p1_seasons','p1_gross','p1_tickets']]\n",
    "y =modeling_data['upgrade_fan']"
   ]
  },
  {
   "cell_type": "code",
   "execution_count": 55,
   "metadata": {},
   "outputs": [
    {
     "name": "stdout",
     "output_type": "stream",
     "text": [
      "length of oversampled data is  38762\n",
      "Number of no upgraders in oversampled data 19381\n",
      "Number of upgraders 19381\n",
      "Proportion of no upgrader data in oversampled data is  0.5\n",
      "Proportion of upgrader data in oversampled data is  0.5\n"
     ]
    }
   ],
   "source": [
    "from imblearn.over_sampling import SMOTE\n",
    "over_sampling = SMOTE(random_state=0)\n",
    "X_train, X_test, y_train, y_test = train_test_split(X, y, test_size=0.3, random_state=0)\n",
    "columns = X_train.columns\n",
    "\n",
    "over_sampling_data_X,over_sampling_data_y=over_sampling.fit_sample(X_train, y_train)\n",
    "over_sampling_data_X = pd.DataFrame(data=over_sampling_data_X,columns=columns )\n",
    "over_sampling_data_y= pd.DataFrame(data=over_sampling_data_y,columns=['upgrade_fan'])\n",
    "# we can Check the numbers of our data\n",
    "print(\"length of oversampled data is \",len(over_sampling_data_X))\n",
    "print(\"Number of no upgraders in oversampled data\",len(over_sampling_data_y[over_sampling_data_y['upgrade_fan']==0]))\n",
    "print(\"Number of upgraders\",len(over_sampling_data_y[over_sampling_data_y['upgrade_fan']==1]))\n",
    "print(\"Proportion of no upgrader data in oversampled data is \",len(over_sampling_data_y[over_sampling_data_y['upgrade_fan']==0])/len(over_sampling_data_X))\n",
    "print(\"Proportion of upgrader data in oversampled data is \",len(over_sampling_data_y[over_sampling_data_y['upgrade_fan']==1])/len(over_sampling_data_X))"
   ]
  },
  {
   "cell_type": "markdown",
   "metadata": {},
   "source": [
    "### Running logistic regression model using SMOTE data"
   ]
  },
  {
   "cell_type": "code",
   "execution_count": 56,
   "metadata": {},
   "outputs": [
    {
     "data": {
      "text/plain": [
       "LogisticRegression()"
      ]
     },
     "execution_count": 56,
     "metadata": {},
     "output_type": "execute_result"
    }
   ],
   "source": [
    "logmodel = LogisticRegression()\n",
    "logmodel.fit(over_sampling_data_X,over_sampling_data_y)"
   ]
  },
  {
   "cell_type": "markdown",
   "metadata": {},
   "source": [
    "### Getting Predictions by running x test data"
   ]
  },
  {
   "cell_type": "code",
   "execution_count": 57,
   "metadata": {},
   "outputs": [],
   "source": [
    "predictions = logmodel.predict(X_test)"
   ]
  },
  {
   "cell_type": "markdown",
   "metadata": {},
   "source": [
    "### Classification Report and Confusion Matrix"
   ]
  },
  {
   "cell_type": "code",
   "execution_count": 58,
   "metadata": {},
   "outputs": [
    {
     "name": "stdout",
     "output_type": "stream",
     "text": [
      "              precision    recall  f1-score   support\n",
      "\n",
      "           0       0.93      0.72      0.81      8299\n",
      "           1       0.19      0.54      0.28       995\n",
      "\n",
      "    accuracy                           0.70      9294\n",
      "   macro avg       0.56      0.63      0.55      9294\n",
      "weighted avg       0.85      0.70      0.75      9294\n",
      "\n",
      "[[5972 2327]\n",
      " [ 453  542]]\n"
     ]
    }
   ],
   "source": [
    "from sklearn.metrics import classification_report,confusion_matrix\n",
    "print(classification_report(y_test,predictions))\n",
    "print(confusion_matrix(y_test,predictions))"
   ]
  },
  {
   "cell_type": "markdown",
   "metadata": {},
   "source": [
    "### Even worst performance as evident in classification report.  Lost a lot of precision on predicting upgrades from .55 to .17\n",
    "### accuracy dropped to 71%\n",
    "\n",
    "### SMOTE is a good option if you have a stronger featured dataset not so much in this case"
   ]
  },
  {
   "cell_type": "markdown",
   "metadata": {},
   "source": [
    "### ROC Curve"
   ]
  },
  {
   "cell_type": "code",
   "execution_count": 59,
   "metadata": {},
   "outputs": [
    {
     "data": {
      "image/png": "[encoded data removed]",
      "text/plain": [
       "<Figure size 432x288 with 1 Axes>"
      ]
     },
     "metadata": {},
     "output_type": "display_data"
    }
   ],
   "source": [
    "from sklearn.metrics import roc_auc_score\n",
    "from sklearn.metrics import roc_curve\n",
    "logit_roc_auc = roc_auc_score(y_test, logmodel.predict(X_test))\n",
    "fpr, tpr, thresholds = roc_curve(y_test, logmodel.predict_proba(X_test)[:,1])\n",
    "plt.figure()\n",
    "plt.plot(fpr, tpr, label='Logistic Regression (area = %0.2f)' % logit_roc_auc)\n",
    "plt.plot([0, 1], [0, 1],'r--')\n",
    "plt.xlim([0.0, 1.0])\n",
    "plt.ylim([0.0, 1.05])\n",
    "plt.xlabel('False Positive Rate')\n",
    "plt.ylabel('True Positive Rate')\n",
    "plt.title('Receiver operating characteristic')\n",
    "plt.legend(loc=\"lower right\")\n",
    "plt.savefig('Log_ROC')\n",
    "plt.show()"
   ]
  },
  {
   "cell_type": "code",
   "execution_count": null,
   "metadata": {},
   "outputs": [],
   "source": []
  },
  {
   "cell_type": "code",
   "execution_count": null,
   "metadata": {},
   "outputs": [],
   "source": []
  }
 ],
 "metadata": {
  "kernelspec": {
   "display_name": "Python 3",
   "language": "python",
   "name": "python3"
  },
  "language_info": {
   "codemirror_mode": {
    "name": "ipython",
    "version": 3
   },
   "file_extension": ".py",
   "mimetype": "text/x-python",
   "name": "python",
   "nbconvert_exporter": "python",
   "pygments_lexer": "ipython3",
   "version": "3.8.3"
  }
 },
 "nbformat": 4,
 "nbformat_minor": 2
}
