{
 "cells": [
  {
   "cell_type": "markdown",
   "metadata": {},
   "source": [
    "###                                Predicting upgrade customers from Pass One Fans\n",
    "\n",
    "#### Pass One Fans are fans that purchase tickets for a specific event this excludes Season Ticket Holders, Partial Season Ticket Holders and Mini-Season Pass Holders\n",
    "\n",
    "#### This model is more than likely not going to be a highly predictive model.  There is  limited data available about the customer and the data used in this model contains only transactional data.  \n",
    "\n",
    "#### The purpose of this notebook is to show the use of Artificial Neural Network techniques used to predict the purchase of an upgrade by  fans that purchased pass one tickets.  Only fans of 7 NBA teams were used as a datsource due to the scarcity of upgrade ticketing data across the 15+ teams available in the database\n",
    "\n",
    "### The NBA Team Names were anonymized  to protect their Privacy"
   ]
  },
  {
   "cell_type": "markdown",
   "metadata": {},
   "source": [
    "### Connections to Databases and importing packages \n",
    "\n",
    "#### Initially the data was queried using SQL from a Redshift Database and produced a dataframe called \"passone\".  I exported the passone dataframe as a csv to be reimported into Jupyter Notebook on a local machine to complete this analysis. \n"
   ]
  },
  {
   "cell_type": "code",
   "execution_count": 1,
   "metadata": {},
   "outputs": [],
   "source": [
    "import pandas as pd\n",
    "import numpy as np\n",
    "import matplotlib.pyplot as plt\n",
    "import seaborn as sns\n",
    "# import psycopg2\n",
    "import sys\n",
    "from sqlalchemy import create_engine\n",
    "import os\n",
    "import subprocess\n",
    "import datetime as dt\n",
    "import requests\n",
    "import lxml.html as lh\n",
    "import xgboost as xgb\n",
    "import warnings\n",
    "warnings.filterwarnings('ignore')\n",
    "import lightgbm as lgb\n",
    "from datetime import datetime, timedelta\n",
    "from sklearn.metrics import mean_squared_error\n",
    "from sklearn.linear_model import LinearRegression\n",
    "from sklearn import tree, linear_model\n",
    "from sklearn.model_selection import train_test_split\n",
    "from sklearn.metrics import explained_variance_score\n",
    "from sklearn.model_selection import cross_val_score\n",
    "from sklearn.model_selection import GridSearchCV   \n",
    "from sklearn.preprocessing import StandardScaler\n",
    "# from pathlib import Path \n",
    "# from dotenv import load_dotenv, find_dotenv\n",
    "# load_dotenv(find_dotenv())\n",
    "# # env_path = './.env'\n",
    "# env_path =  Path('/home/ec2-user/')\n",
    "# #load_dotenv(dotenv_path=env_path)\n",
    "# postgres_user = os.environ['PSQL_USERNAME']\n",
    "# postgres_pw = os.environ['PSQL_PASSWORD']\n",
    "# postgres_url = os.environ['PSQL_URL']\n",
    "# redshift_user = os.environ['REDSHIFT_USERNAME']\n",
    "# redshift_pw = os.environ['REDSHIFT_PASSWORD']\n",
    "# redshift_url = os.environ['REDSHIFT_URL']\n",
    "\n",
    "# if don't have package imbalanced run below line \n",
    "#! pip install imbalanced-learn\n"
   ]
  },
  {
   "cell_type": "markdown",
   "metadata": {},
   "source": [
    "#### This block makes the connection to postgres db (tableau/follower)"
   ]
  },
  {
   "cell_type": "code",
   "execution_count": 2,
   "metadata": {},
   "outputs": [],
   "source": [
    "# #this block makes the connection to postgres db (tableau/follower)\n",
    "# conn_string = \"host='\"+postgres_url+\"' dbname='experience' user='\"+postgres_user+\"' password='\"+postgres_pw+\"'\"\n",
    "# conn = psycopg2.connect(conn_string)\n",
    "# cursor = conn.cursor()"
   ]
  },
  {
   "cell_type": "markdown",
   "metadata": {},
   "source": [
    "#### This block makes the connection to redshift (redluma)"
   ]
  },
  {
   "cell_type": "code",
   "execution_count": 3,
   "metadata": {},
   "outputs": [],
   "source": [
    "# #this block makes the connection to redshift (redluma)\n",
    "# red_engine = create_engine('postgresql://'+redshift_user+':'+redshift_pw+'@'+redshift_url)\n",
    "# conn_red = red_engine.raw_connection()\n",
    "# cur = conn_red.cursor()"
   ]
  },
  {
   "cell_type": "markdown",
   "metadata": {},
   "source": [
    "#### Connecting to Redshift Databases using sql\n",
    "\n",
    "#### Pulling NBA fan transactions for pass one fans and if they upgraded or not"
   ]
  },
  {
   "cell_type": "code",
   "execution_count": 4,
   "metadata": {},
   "outputs": [],
   "source": [
    "# sql_statement=\"\"\"\n",
    "\n",
    "\n",
    "# with upgraders as(\n",
    "# select distinct segment,group_id as team_id,product_key,product,\n",
    "#                 case when product_key=0 then 1 end as upgrade_fan,\n",
    "#                 case when group_id in(1047) then 'Team 1'\n",
    "#                 when group_id in(14) then 'Team 2'\n",
    "#                 when group_id in(1082) then 'Team 3'\n",
    "#                 when group_id in(8) then 'Team 4'\n",
    "#                 when group_id in (4) then 'Team 5'\n",
    "#                 when group_id in(983) then 'Team 6'\n",
    "#                 when group_id in(7) then 'Team 7' end as Team,\n",
    "#                 count(distinct upgrade_id) as num_upgrades,sum(group_size) as upgrade_tickets,\n",
    "#                 sum(gross_sales) as upgrade_gross,sum(net_sales) as upgrade_net\n",
    "# from mart.all_transactions at\n",
    "# join mart.season s on at.group_type_id=s.group_type_id and at.event_date between s.start_date and s.end_date\n",
    "# where product_key in(0) and group_id in(1047,14,1082,8,4,983,7)\n",
    "# and active_filter=1 and expapp_email_flag=0 and s.season_name in('2017-2018','2018-2019','2019-2020')\n",
    "# and at.event_date<='2020-03-15' --Games Cancelled after this due to Covid\n",
    "# group by 1,2,3,4,5\n",
    "# having sum(gross_sales)>0),\n",
    "\n",
    "# --Creating a temp table containing all fans that purchased pass one tickets \n",
    "# passone as(\n",
    "#     select segment,group_id as team_id,product_key,product,\n",
    "#            sum(gross_sales) as p1_gross,sum(net_sales) as p1_net,\n",
    "#            sum(gross_sales)/count(distinct event_id) as avg_gross_spend_per_event,\n",
    "#            sum(net_sales)/count(distinct event_id) as avg_net_spend_per_event,\n",
    "#                 sum(total_discounted_amount) as p1_discounts,\n",
    "#            count(distinct event_id) as num_p1_events,\n",
    "#            count(distinct upgrade_id) as pass_one_transactions,\n",
    "#            sum(group_size) as p1_tickets,\n",
    "#            count(distinct season_name) as num_p1_seasons\n",
    "#     from mart.all_transactions at2\n",
    "#     join mart.season s on at2.group_type_id=s.group_type_id and at2.event_date between s.start_date and s.end_date\n",
    "#     where product_key in(12) and group_id in(1047,14,1082,8,4,983,7)\n",
    "#       and active_filter=1 and expapp_email_flag=0 and s.season_name in('2017-2018','2018-2019','2019-2020')\n",
    "#       and at2.event_date<='2020-03-15' --Games Cancelled after this due to Covid\n",
    "#     group by 1,2,3,4,5\n",
    "#     having sum(net_sales)>0\n",
    "# )\n",
    "\n",
    "# select p1.*,coalesce(u.upgrade_fan,0)as upgrade_fan,num_upgrades,upgrade_tickets,\n",
    "#        upgrade_gross,upgrade_net\n",
    "# from passone p1\n",
    "# left join upgraders u on p1.team_id=u.team_id and p1.fan_id=u.fan_id\n",
    "\n",
    "\n",
    "\n",
    "\n",
    "# ;\n",
    "# \"\"\"\n",
    "# passone = pd.read_sql(sql_statement, conn_red) "
   ]
  },
  {
   "cell_type": "markdown",
   "metadata": {},
   "source": [
    "### Exporting data to CSV\n",
    "\n",
    "#### This was done to allow for utilization of passone data on local machine. Not all packages were available on the Remote Desktop version of Jupyter Notebook. Such as imblearn packages."
   ]
  },
  {
   "cell_type": "code",
   "execution_count": 5,
   "metadata": {},
   "outputs": [],
   "source": [
    "# passone.to_csv(r'pass_one.csv', index = False)"
   ]
  },
  {
   "cell_type": "markdown",
   "metadata": {},
   "source": [
    "### Importing passone csv to local copy of Jupyter Notebook"
   ]
  },
  {
   "cell_type": "code",
   "execution_count": 6,
   "metadata": {},
   "outputs": [],
   "source": [
    "passone = pd.read_csv(\"/Users/gregsaunders/Documents/pass_one.csv\")"
   ]
  },
  {
   "cell_type": "code",
   "execution_count": 7,
   "metadata": {},
   "outputs": [
    {
     "data": {
      "text/html": [
       "<div>\n",
       "<style scoped>\n",
       "    .dataframe tbody tr th:only-of-type {\n",
       "        vertical-align: middle;\n",
       "    }\n",
       "\n",
       "    .dataframe tbody tr th {\n",
       "        vertical-align: top;\n",
       "    }\n",
       "\n",
       "    .dataframe thead th {\n",
       "        text-align: right;\n",
       "    }\n",
       "</style>\n",
       "<table border=\"1\" class=\"dataframe\">\n",
       "  <thead>\n",
       "    <tr style=\"text-align: right;\">\n",
       "      <th></th>\n",
       "      <th>segment</th>\n",
       "      <th>team_id</th>\n",
       "      <th>product_key</th>\n",
       "      <th>product</th>\n",
       "      <th>team</th>\n",
       "      <th>p1_gross</th>\n",
       "      <th>p1_net</th>\n",
       "      <th>avg_gross_spend_per_event</th>\n",
       "      <th>avg_net_spend_per_event</th>\n",
       "      <th>p1_discounts</th>\n",
       "      <th>num_p1_events</th>\n",
       "      <th>pass_one_transactions</th>\n",
       "      <th>p1_tickets</th>\n",
       "      <th>num_p1_seasons</th>\n",
       "      <th>upgrade_fan</th>\n",
       "      <th>num_upgrades</th>\n",
       "      <th>upgrade_tickets</th>\n",
       "      <th>upgrade_gross</th>\n",
       "      <th>upgrade_net</th>\n",
       "    </tr>\n",
       "  </thead>\n",
       "  <tbody>\n",
       "    <tr>\n",
       "      <th>0</th>\n",
       "      <td>NBA</td>\n",
       "      <td>4</td>\n",
       "      <td>12</td>\n",
       "      <td>Pass One</td>\n",
       "      <td>Team 5</td>\n",
       "      <td>94</td>\n",
       "      <td>94.0</td>\n",
       "      <td>18.800000</td>\n",
       "      <td>18.800000</td>\n",
       "      <td>0.0</td>\n",
       "      <td>5</td>\n",
       "      <td>5</td>\n",
       "      <td>10</td>\n",
       "      <td>2</td>\n",
       "      <td>0</td>\n",
       "      <td>NaN</td>\n",
       "      <td>NaN</td>\n",
       "      <td>NaN</td>\n",
       "      <td>NaN</td>\n",
       "    </tr>\n",
       "    <tr>\n",
       "      <th>1</th>\n",
       "      <td>NBA</td>\n",
       "      <td>4</td>\n",
       "      <td>12</td>\n",
       "      <td>Pass One</td>\n",
       "      <td>Team 5</td>\n",
       "      <td>104</td>\n",
       "      <td>104.0</td>\n",
       "      <td>20.800000</td>\n",
       "      <td>20.800000</td>\n",
       "      <td>0.0</td>\n",
       "      <td>5</td>\n",
       "      <td>5</td>\n",
       "      <td>10</td>\n",
       "      <td>2</td>\n",
       "      <td>0</td>\n",
       "      <td>NaN</td>\n",
       "      <td>NaN</td>\n",
       "      <td>NaN</td>\n",
       "      <td>NaN</td>\n",
       "    </tr>\n",
       "    <tr>\n",
       "      <th>2</th>\n",
       "      <td>NBA</td>\n",
       "      <td>4</td>\n",
       "      <td>12</td>\n",
       "      <td>Pass One</td>\n",
       "      <td>Team 5</td>\n",
       "      <td>258</td>\n",
       "      <td>258.0</td>\n",
       "      <td>23.454545</td>\n",
       "      <td>23.454545</td>\n",
       "      <td>0.0</td>\n",
       "      <td>11</td>\n",
       "      <td>11</td>\n",
       "      <td>22</td>\n",
       "      <td>2</td>\n",
       "      <td>1</td>\n",
       "      <td>2.0</td>\n",
       "      <td>3.0</td>\n",
       "      <td>38.17</td>\n",
       "      <td>38.17</td>\n",
       "    </tr>\n",
       "    <tr>\n",
       "      <th>3</th>\n",
       "      <td>NBA</td>\n",
       "      <td>4</td>\n",
       "      <td>12</td>\n",
       "      <td>Pass One</td>\n",
       "      <td>Team 5</td>\n",
       "      <td>50</td>\n",
       "      <td>50.0</td>\n",
       "      <td>25.000000</td>\n",
       "      <td>25.000000</td>\n",
       "      <td>0.0</td>\n",
       "      <td>2</td>\n",
       "      <td>2</td>\n",
       "      <td>4</td>\n",
       "      <td>1</td>\n",
       "      <td>0</td>\n",
       "      <td>NaN</td>\n",
       "      <td>NaN</td>\n",
       "      <td>NaN</td>\n",
       "      <td>NaN</td>\n",
       "    </tr>\n",
       "    <tr>\n",
       "      <th>4</th>\n",
       "      <td>NBA</td>\n",
       "      <td>4</td>\n",
       "      <td>12</td>\n",
       "      <td>Pass One</td>\n",
       "      <td>Team 5</td>\n",
       "      <td>90</td>\n",
       "      <td>90.0</td>\n",
       "      <td>22.500000</td>\n",
       "      <td>22.500000</td>\n",
       "      <td>0.0</td>\n",
       "      <td>4</td>\n",
       "      <td>4</td>\n",
       "      <td>10</td>\n",
       "      <td>3</td>\n",
       "      <td>1</td>\n",
       "      <td>1.0</td>\n",
       "      <td>4.0</td>\n",
       "      <td>89.84</td>\n",
       "      <td>89.84</td>\n",
       "    </tr>\n",
       "  </tbody>\n",
       "</table>\n",
       "</div>"
      ],
      "text/plain": [
       "  segment  team_id  product_key   product    team  p1_gross  p1_net  \\\n",
       "0     NBA        4           12  Pass One  Team 5        94    94.0   \n",
       "1     NBA        4           12  Pass One  Team 5       104   104.0   \n",
       "2     NBA        4           12  Pass One  Team 5       258   258.0   \n",
       "3     NBA        4           12  Pass One  Team 5        50    50.0   \n",
       "4     NBA        4           12  Pass One  Team 5        90    90.0   \n",
       "\n",
       "   avg_gross_spend_per_event  avg_net_spend_per_event  p1_discounts  \\\n",
       "0                  18.800000                18.800000           0.0   \n",
       "1                  20.800000                20.800000           0.0   \n",
       "2                  23.454545                23.454545           0.0   \n",
       "3                  25.000000                25.000000           0.0   \n",
       "4                  22.500000                22.500000           0.0   \n",
       "\n",
       "   num_p1_events  pass_one_transactions  p1_tickets  num_p1_seasons  \\\n",
       "0              5                      5          10               2   \n",
       "1              5                      5          10               2   \n",
       "2             11                     11          22               2   \n",
       "3              2                      2           4               1   \n",
       "4              4                      4          10               3   \n",
       "\n",
       "   upgrade_fan  num_upgrades  upgrade_tickets  upgrade_gross  upgrade_net  \n",
       "0            0           NaN              NaN            NaN          NaN  \n",
       "1            0           NaN              NaN            NaN          NaN  \n",
       "2            1           2.0              3.0          38.17        38.17  \n",
       "3            0           NaN              NaN            NaN          NaN  \n",
       "4            1           1.0              4.0          89.84        89.84  "
      ]
     },
     "execution_count": 7,
     "metadata": {},
     "output_type": "execute_result"
    }
   ],
   "source": [
    "# Checking data\n",
    "passone.head()"
   ]
  },
  {
   "cell_type": "markdown",
   "metadata": {},
   "source": [
    "#### Dataframe produced with 31,849 observations of pass one fans and 3555 of these fans upgraded"
   ]
  },
  {
   "cell_type": "code",
   "execution_count": 8,
   "metadata": {},
   "outputs": [
    {
     "name": "stdout",
     "output_type": "stream",
     "text": [
      "<class 'pandas.core.frame.DataFrame'>\n",
      "RangeIndex: 31849 entries, 0 to 31848\n",
      "Data columns (total 19 columns):\n",
      " #   Column                     Non-Null Count  Dtype  \n",
      "---  ------                     --------------  -----  \n",
      " 0   segment                    31849 non-null  object \n",
      " 1   team_id                    31849 non-null  int64  \n",
      " 2   product_key                31849 non-null  int64  \n",
      " 3   product                    31849 non-null  object \n",
      " 4   team                       31849 non-null  object \n",
      " 5   p1_gross                   31849 non-null  int64  \n",
      " 6   p1_net                     31849 non-null  float64\n",
      " 7   avg_gross_spend_per_event  31849 non-null  float64\n",
      " 8   avg_net_spend_per_event    31849 non-null  float64\n",
      " 9   p1_discounts               31849 non-null  float64\n",
      " 10  num_p1_events              31849 non-null  int64  \n",
      " 11  pass_one_transactions      31849 non-null  int64  \n",
      " 12  p1_tickets                 31849 non-null  int64  \n",
      " 13  num_p1_seasons             31849 non-null  int64  \n",
      " 14  upgrade_fan                31849 non-null  int64  \n",
      " 15  num_upgrades               3555 non-null   float64\n",
      " 16  upgrade_tickets            3555 non-null   float64\n",
      " 17  upgrade_gross              3555 non-null   float64\n",
      " 18  upgrade_net                3555 non-null   float64\n",
      "dtypes: float64(8), int64(8), object(3)\n",
      "memory usage: 4.6+ MB\n"
     ]
    }
   ],
   "source": [
    "passone.info()"
   ]
  },
  {
   "cell_type": "markdown",
   "metadata": {},
   "source": [
    "##                                  Exploratory Data Analysis"
   ]
  },
  {
   "cell_type": "markdown",
   "metadata": {},
   "source": [
    "### Count Plot distribution shows the target class ( upgraded_fan) is a bit unbalanced which may make it difficult to predict upgrading of Pass One Fans, will try to correct for this later in Notebook"
   ]
  },
  {
   "cell_type": "code",
   "execution_count": 9,
   "metadata": {},
   "outputs": [
    {
     "data": {
      "image/png": "[encoded data removed]",
      "text/plain": [
       "<Figure size 720x288 with 1 Axes>"
      ]
     },
     "metadata": {
      "needs_background": "light"
     },
     "output_type": "display_data"
    }
   ],
   "source": [
    "# Distribution of upgrades vs. no upgrades\n",
    "plt.figure(figsize = (10,4))\n",
    "sns.countplot(x='upgrade_fan',data=passone)\n",
    "plt.show()"
   ]
  },
  {
   "cell_type": "code",
   "execution_count": 10,
   "metadata": {},
   "outputs": [
    {
     "name": "stdout",
     "output_type": "stream",
     "text": [
      "percentage of fans that did not upgrade is 88.83795409588998\n",
      "percentage of pass one fans that upgraded 11.16204590411002\n"
     ]
    }
   ],
   "source": [
    "# Looking at the % of upgrading fans in the dataframe compared to the non-upgraders\n",
    "noupgrading = len(passone[passone['upgrade_fan']==0])\n",
    "upgrading = len(passone[passone['upgrade_fan']==1])\n",
    "pct_of_no_upgrading = noupgrading/(upgrading+noupgrading)\n",
    "print(\"percentage of fans that did not upgrade is\", pct_of_no_upgrading*100)\n",
    "pct_of_upgrading = upgrading/(upgrading+noupgrading)\n",
    "print(\"percentage of pass one fans that upgraded\", pct_of_upgrading*100)"
   ]
  },
  {
   "cell_type": "markdown",
   "metadata": {},
   "source": [
    "## Exploring Pass One Fan features"
   ]
  },
  {
   "cell_type": "markdown",
   "metadata": {},
   "source": [
    "### It appears that those fans that upgraded spent more on pass one tickets and attended more events and subsequently purchased more tickets, however there doesn't seen to be much difference between the 2 classes on the tenure of seasons a fan purchased a pass one ticket"
   ]
  },
  {
   "cell_type": "code",
   "execution_count": 11,
   "metadata": {},
   "outputs": [
    {
     "data": {
      "text/html": [
       "<div>\n",
       "<style scoped>\n",
       "    .dataframe tbody tr th:only-of-type {\n",
       "        vertical-align: middle;\n",
       "    }\n",
       "\n",
       "    .dataframe tbody tr th {\n",
       "        vertical-align: top;\n",
       "    }\n",
       "\n",
       "    .dataframe thead th {\n",
       "        text-align: right;\n",
       "    }\n",
       "</style>\n",
       "<table border=\"1\" class=\"dataframe\">\n",
       "  <thead>\n",
       "    <tr style=\"text-align: right;\">\n",
       "      <th></th>\n",
       "      <th>p1_gross</th>\n",
       "      <th>p1_net</th>\n",
       "      <th>num_p1_events</th>\n",
       "      <th>p1_tickets</th>\n",
       "      <th>pass_one_transactions</th>\n",
       "      <th>num_p1_seasons</th>\n",
       "    </tr>\n",
       "    <tr>\n",
       "      <th>upgrade_fan</th>\n",
       "      <th></th>\n",
       "      <th></th>\n",
       "      <th></th>\n",
       "      <th></th>\n",
       "      <th></th>\n",
       "      <th></th>\n",
       "    </tr>\n",
       "  </thead>\n",
       "  <tbody>\n",
       "    <tr>\n",
       "      <th>0</th>\n",
       "      <td>75.650880</td>\n",
       "      <td>75.562345</td>\n",
       "      <td>1.834841</td>\n",
       "      <td>4.739167</td>\n",
       "      <td>1.840779</td>\n",
       "      <td>1.167774</td>\n",
       "    </tr>\n",
       "    <tr>\n",
       "      <th>1</th>\n",
       "      <td>120.138959</td>\n",
       "      <td>119.703494</td>\n",
       "      <td>3.214627</td>\n",
       "      <td>7.463291</td>\n",
       "      <td>3.220534</td>\n",
       "      <td>1.384810</td>\n",
       "    </tr>\n",
       "  </tbody>\n",
       "</table>\n",
       "</div>"
      ],
      "text/plain": [
       "               p1_gross      p1_net  num_p1_events  p1_tickets  \\\n",
       "upgrade_fan                                                      \n",
       "0             75.650880   75.562345       1.834841    4.739167   \n",
       "1            120.138959  119.703494       3.214627    7.463291   \n",
       "\n",
       "             pass_one_transactions  num_p1_seasons  \n",
       "upgrade_fan                                         \n",
       "0                         1.840779        1.167774  \n",
       "1                         3.220534        1.384810  "
      ]
     },
     "execution_count": 11,
     "metadata": {},
     "output_type": "execute_result"
    }
   ],
   "source": [
    "groupby_features = passone[['upgrade_fan','p1_gross','p1_net','num_p1_events','p1_tickets','pass_one_transactions','num_p1_seasons']]\n",
    "groupby_features.groupby('upgrade_fan').mean()"
   ]
  },
  {
   "cell_type": "markdown",
   "metadata": {},
   "source": [
    "### Some teams don't have lots of upgraded fans that use pass one like Teams 4 and 7"
   ]
  },
  {
   "cell_type": "code",
   "execution_count": 12,
   "metadata": {},
   "outputs": [
    {
     "name": "stdout",
     "output_type": "stream",
     "text": [
      " # Fans that purchased Pass One Tickets          upgrade_fan\n",
      "team_id             \n",
      "4              10608\n",
      "7               7725\n",
      "8               7094\n",
      "14              4156\n",
      "983              422\n",
      "1047            1219\n",
      "1082             625\n",
      " \n",
      " # of Pass One Fans that purchased upgrades           upgrade_fan\n",
      "team_id             \n",
      "4                813\n",
      "7                766\n",
      "8               1216\n",
      "14               402\n",
      "983               72\n",
      "1047             181\n",
      "1082             105\n",
      " \n",
      " % of Pass One Fans that purchased Upgrades          upgrade_fan\n",
      "team_id             \n",
      "4           7.664027\n",
      "7           9.915858\n",
      "8          17.141246\n",
      "14          9.672762\n",
      "983        17.061611\n",
      "1047       14.848236\n",
      "1082       16.800000\n"
     ]
    }
   ],
   "source": [
    "p_groupby_features = passone[['team_id','upgrade_fan']]\n",
    "total_fans = p_groupby_features.groupby('team_id').count()\n",
    "upgrade_fans = p_groupby_features.groupby('team_id').sum()\n",
    "summary = upgrade_fans/total_fans * 100\n",
    "print( \" # Fans that purchased Pass One Tickets\", total_fans)\n",
    "print (\" \")\n",
    "print (\" # of Pass One Fans that purchased upgrades \", upgrade_fans)\n",
    "print (\" \")\n",
    "print (\" % of Pass One Fans that purchased Upgrades\", summary)"
   ]
  },
  {
   "cell_type": "markdown",
   "metadata": {},
   "source": [
    "## Distributions of the Features"
   ]
  },
  {
   "cell_type": "code",
   "execution_count": 13,
   "metadata": {},
   "outputs": [
    {
     "data": {
      "image/png": "[encoded data removed]",
      "text/plain": [
       "<Figure size 432x288 with 1 Axes>"
      ]
     },
     "metadata": {
      "needs_background": "light"
     },
     "output_type": "display_data"
    }
   ],
   "source": [
    "\n",
    "passone['p1_gross'].plot.hist(bins=40)\n",
    "plt.title('Pass One Gross Sales per Fan')\n",
    "plt.xlabel('Gross Sales')\n",
    "plt.ylabel('# of Fans')\n",
    "plt.show()"
   ]
  },
  {
   "cell_type": "code",
   "execution_count": 14,
   "metadata": {},
   "outputs": [
    {
     "data": {
      "image/png": "[encoded data removed]",
      "text/plain": [
       "<Figure size 432x288 with 1 Axes>"
      ]
     },
     "metadata": {
      "needs_background": "light"
     },
     "output_type": "display_data"
    }
   ],
   "source": [
    "## Distribution of pass one events purchased\n",
    "passone['num_p1_events'].plot.hist(bins=40)\n",
    "plt.title('Pass One Events Purchased per Fan')\n",
    "plt.xlabel('Events Purchased')\n",
    "plt.ylabel('# of Fans')\n",
    "plt.show()"
   ]
  },
  {
   "cell_type": "code",
   "execution_count": 15,
   "metadata": {},
   "outputs": [
    {
     "data": {
      "image/png": "[encoded data removed]",
      "text/plain": [
       "<Figure size 432x288 with 1 Axes>"
      ]
     },
     "metadata": {
      "needs_background": "light"
     },
     "output_type": "display_data"
    }
   ],
   "source": [
    "## Distribution of pass one tickets purchased\n",
    "passone['p1_tickets'].plot.hist(bins=40)\n",
    "plt.title('Pass One Tickets Purchased per Fan')\n",
    "plt.xlabel('Pass One Tickets Purchased')\n",
    "plt.ylabel('# of Fans')\n",
    "plt.show()"
   ]
  },
  {
   "cell_type": "markdown",
   "metadata": {},
   "source": [
    "### Something off about the distributions as seen above checking the descriptive statistics for the dataframe below notice that the Avg gross sales is about 80 dollars and the median is around 40 dollars indicating a large skewness of the data due to outliers. The 75th percentile falls at around 90 dollars with a max of 11k.  The others are distorted by extreme values in the data"
   ]
  },
  {
   "cell_type": "code",
   "execution_count": 16,
   "metadata": {},
   "outputs": [
    {
     "data": {
      "text/html": [
       "<div>\n",
       "<style scoped>\n",
       "    .dataframe tbody tr th:only-of-type {\n",
       "        vertical-align: middle;\n",
       "    }\n",
       "\n",
       "    .dataframe tbody tr th {\n",
       "        vertical-align: top;\n",
       "    }\n",
       "\n",
       "    .dataframe thead th {\n",
       "        text-align: right;\n",
       "    }\n",
       "</style>\n",
       "<table border=\"1\" class=\"dataframe\">\n",
       "  <thead>\n",
       "    <tr style=\"text-align: right;\">\n",
       "      <th></th>\n",
       "      <th>count</th>\n",
       "      <th>mean</th>\n",
       "      <th>std</th>\n",
       "      <th>min</th>\n",
       "      <th>25%</th>\n",
       "      <th>50%</th>\n",
       "      <th>75%</th>\n",
       "      <th>max</th>\n",
       "    </tr>\n",
       "  </thead>\n",
       "  <tbody>\n",
       "    <tr>\n",
       "      <th>p1_gross</th>\n",
       "      <td>31849.0</td>\n",
       "      <td>80.616660</td>\n",
       "      <td>166.429491</td>\n",
       "      <td>1.0</td>\n",
       "      <td>20.0</td>\n",
       "      <td>40.0</td>\n",
       "      <td>90.0</td>\n",
       "      <td>11069.0</td>\n",
       "    </tr>\n",
       "    <tr>\n",
       "      <th>p1_net</th>\n",
       "      <td>31849.0</td>\n",
       "      <td>80.489401</td>\n",
       "      <td>166.307914</td>\n",
       "      <td>1.0</td>\n",
       "      <td>20.0</td>\n",
       "      <td>40.0</td>\n",
       "      <td>90.0</td>\n",
       "      <td>11069.0</td>\n",
       "    </tr>\n",
       "    <tr>\n",
       "      <th>avg_gross_spend_per_event</th>\n",
       "      <td>31849.0</td>\n",
       "      <td>39.239916</td>\n",
       "      <td>36.004091</td>\n",
       "      <td>1.0</td>\n",
       "      <td>20.0</td>\n",
       "      <td>30.0</td>\n",
       "      <td>45.0</td>\n",
       "      <td>660.0</td>\n",
       "    </tr>\n",
       "    <tr>\n",
       "      <th>avg_net_spend_per_event</th>\n",
       "      <td>31849.0</td>\n",
       "      <td>39.198316</td>\n",
       "      <td>36.009715</td>\n",
       "      <td>1.0</td>\n",
       "      <td>20.0</td>\n",
       "      <td>30.0</td>\n",
       "      <td>45.0</td>\n",
       "      <td>660.0</td>\n",
       "    </tr>\n",
       "    <tr>\n",
       "      <th>num_p1_events</th>\n",
       "      <td>31849.0</td>\n",
       "      <td>1.988854</td>\n",
       "      <td>2.323005</td>\n",
       "      <td>1.0</td>\n",
       "      <td>1.0</td>\n",
       "      <td>1.0</td>\n",
       "      <td>2.0</td>\n",
       "      <td>66.0</td>\n",
       "    </tr>\n",
       "    <tr>\n",
       "      <th>pass_one_transactions</th>\n",
       "      <td>31849.0</td>\n",
       "      <td>1.994788</td>\n",
       "      <td>2.365054</td>\n",
       "      <td>1.0</td>\n",
       "      <td>1.0</td>\n",
       "      <td>1.0</td>\n",
       "      <td>2.0</td>\n",
       "      <td>76.0</td>\n",
       "    </tr>\n",
       "    <tr>\n",
       "      <th>p1_tickets</th>\n",
       "      <td>31849.0</td>\n",
       "      <td>5.043235</td>\n",
       "      <td>7.790262</td>\n",
       "      <td>1.0</td>\n",
       "      <td>2.0</td>\n",
       "      <td>3.0</td>\n",
       "      <td>6.0</td>\n",
       "      <td>431.0</td>\n",
       "    </tr>\n",
       "    <tr>\n",
       "      <th>num_p1_seasons</th>\n",
       "      <td>31849.0</td>\n",
       "      <td>1.192000</td>\n",
       "      <td>0.449361</td>\n",
       "      <td>1.0</td>\n",
       "      <td>1.0</td>\n",
       "      <td>1.0</td>\n",
       "      <td>1.0</td>\n",
       "      <td>3.0</td>\n",
       "    </tr>\n",
       "  </tbody>\n",
       "</table>\n",
       "</div>"
      ],
      "text/plain": [
       "                             count       mean         std  min   25%   50%  \\\n",
       "p1_gross                   31849.0  80.616660  166.429491  1.0  20.0  40.0   \n",
       "p1_net                     31849.0  80.489401  166.307914  1.0  20.0  40.0   \n",
       "avg_gross_spend_per_event  31849.0  39.239916   36.004091  1.0  20.0  30.0   \n",
       "avg_net_spend_per_event    31849.0  39.198316   36.009715  1.0  20.0  30.0   \n",
       "num_p1_events              31849.0   1.988854    2.323005  1.0   1.0   1.0   \n",
       "pass_one_transactions      31849.0   1.994788    2.365054  1.0   1.0   1.0   \n",
       "p1_tickets                 31849.0   5.043235    7.790262  1.0   2.0   3.0   \n",
       "num_p1_seasons             31849.0   1.192000    0.449361  1.0   1.0   1.0   \n",
       "\n",
       "                            75%      max  \n",
       "p1_gross                   90.0  11069.0  \n",
       "p1_net                     90.0  11069.0  \n",
       "avg_gross_spend_per_event  45.0    660.0  \n",
       "avg_net_spend_per_event    45.0    660.0  \n",
       "num_p1_events               2.0     66.0  \n",
       "pass_one_transactions       2.0     76.0  \n",
       "p1_tickets                  6.0    431.0  \n",
       "num_p1_seasons              1.0      3.0  "
      ]
     },
     "execution_count": 16,
     "metadata": {},
     "output_type": "execute_result"
    }
   ],
   "source": [
    "metrics = passone[['p1_gross','p1_net','avg_gross_spend_per_event','avg_net_spend_per_event','num_p1_events','pass_one_transactions','p1_tickets','num_p1_seasons']]\n",
    "\n",
    "metrics.describe().transpose()"
   ]
  },
  {
   "cell_type": "markdown",
   "metadata": {},
   "source": [
    "### Checking number of observations that are above certain thresholds to determine if we can exclude these outliers"
   ]
  },
  {
   "cell_type": "code",
   "execution_count": 17,
   "metadata": {},
   "outputs": [
    {
     "name": "stdout",
     "output_type": "stream",
     "text": [
      "# of upgraders that spend more than 400 dollars 162\n",
      "# of upgraders that spend more than 600 dollars 58\n",
      "# of upgraders that spend more than 1000 dollars 18\n",
      "# of upgraders that spend more than 1300 dollars 7\n",
      "# of upgraders that spend more than 1600 dollars 4\n",
      "249\n"
     ]
    }
   ],
   "source": [
    "### Some extreme outliers in pass one gross sales need to examine further\n",
    "above400 = passone[(passone['p1_gross'] >400) & (passone['upgrade_fan']>0)]\n",
    "print(\"# of upgraders that spend more than 400 dollars\", len(above400))\n",
    "above600 = passone[(passone['p1_gross'] >600) & (passone['upgrade_fan']>0) ] \n",
    "print(\"# of upgraders that spend more than 600 dollars\", len(above600))# 58 obs with upgrades\n",
    "above1000 = passone[(passone['p1_gross'] >1000) & (passone['upgrade_fan']>0) ] # 18 obs with upgrades\n",
    "print(\"# of upgraders that spend more than 1000 dollars\", len(above1000))\n",
    "above1300 = passone[(passone['p1_gross'] >1300) & (passone['upgrade_fan']>0) ] # 7 obs with upgrades\n",
    "print(\"# of upgraders that spend more than 1300 dollars\", len(above1300))\n",
    "above1600 = passone[(passone['p1_gross'] >1600) & (passone['upgrade_fan']>0) ] # 4 obs with upgrades\n",
    "print(\"# of upgraders that spend more than 1600 dollars\", len(above1600))\n",
    "print(len(above400) + len(above600) + len(above1000) + len(above1300) +len(above1600))"
   ]
  },
  {
   "cell_type": "markdown",
   "metadata": {},
   "source": [
    "### It appears most high spenders that purchase pass one tickets don't upgrade often.  The high spending pass one fans may not be individual fans but a fan purchasing bulk tickets for a company, etc."
   ]
  },
  {
   "cell_type": "markdown",
   "metadata": {},
   "source": [
    "## Outliers in the data need to be dealt with "
   ]
  },
  {
   "cell_type": "code",
   "execution_count": 18,
   "metadata": {},
   "outputs": [
    {
     "data": {
      "text/plain": [
       "Text(0, 0.5, '# of Fans')"
      ]
     },
     "execution_count": 18,
     "metadata": {},
     "output_type": "execute_result"
    },
    {
     "data": {
      "image/png": "[encoded data removed]",
      "text/plain": [
       "<Figure size 720x360 with 1 Axes>"
      ]
     },
     "metadata": {},
     "output_type": "display_data"
    }
   ],
   "source": [
    "sns.set_style(\"whitegrid\")\n",
    "plt.figure(figsize=(10,5))\n",
    "sns.distplot(passone[\"p1_gross\"][passone['p1_gross'] ],kde=False, bins =50)\n",
    "plt.title('Pass One Gross Sales')\n",
    "plt.xlabel('Gross Sales of Pass One Fans')\n",
    "plt.ylabel('# of Fans')"
   ]
  },
  {
   "cell_type": "code",
   "execution_count": 19,
   "metadata": {},
   "outputs": [
    {
     "data": {
      "text/plain": [
       "Text(0, 0.5, '# of Fans')"
      ]
     },
     "execution_count": 19,
     "metadata": {},
     "output_type": "execute_result"
    },
    {
     "data": {
      "image/png": "[encoded data removed]",
      "text/plain": [
       "<Figure size 720x360 with 1 Axes>"
      ]
     },
     "metadata": {},
     "output_type": "display_data"
    }
   ],
   "source": [
    "sns.set_style(\"whitegrid\")\n",
    "plt.figure(figsize=(10,5))\n",
    "sns.distplot(passone[\"num_p1_events\"],kde=False, bins =50)\n",
    "plt.title('Number of Pass One Events ')\n",
    "plt.xlabel('Number of Pass One Events purchased')\n",
    "plt.ylabel('# of Fans')"
   ]
  },
  {
   "cell_type": "code",
   "execution_count": 20,
   "metadata": {},
   "outputs": [
    {
     "data": {
      "text/plain": [
       "Text(0, 0.5, '# of Fans')"
      ]
     },
     "execution_count": 20,
     "metadata": {},
     "output_type": "execute_result"
    },
    {
     "data": {
      "image/png": "[encoded data removed]",
      "text/plain": [
       "<Figure size 720x360 with 1 Axes>"
      ]
     },
     "metadata": {},
     "output_type": "display_data"
    }
   ],
   "source": [
    "sns.set_style(\"whitegrid\")\n",
    "plt.figure(figsize=(10,5))\n",
    "sns.distplot(passone[\"p1_tickets\"],kde=False, bins =50)\n",
    "plt.title('Number of Pass One Tickets ')\n",
    "plt.xlabel('Number of Pass One Tickets purchased')\n",
    "plt.ylabel('# of Fans')"
   ]
  },
  {
   "cell_type": "markdown",
   "metadata": {},
   "source": [
    "### Standardizing the features below using Z-scores then eliminating Outliers by using Z-Score <3 "
   ]
  },
  {
   "cell_type": "code",
   "execution_count": 21,
   "metadata": {},
   "outputs": [],
   "source": [
    "### Going to transform using z-score\n",
    "\n",
    "import scipy"
   ]
  },
  {
   "cell_type": "code",
   "execution_count": 22,
   "metadata": {},
   "outputs": [],
   "source": [
    "zscore = passone[['p1_gross','num_p1_events','p1_tickets']]"
   ]
  },
  {
   "cell_type": "code",
   "execution_count": 23,
   "metadata": {},
   "outputs": [],
   "source": [
    "zscore = scipy.stats.zscore(zscore)"
   ]
  },
  {
   "cell_type": "code",
   "execution_count": 24,
   "metadata": {},
   "outputs": [],
   "source": [
    "abs_z_scores = np.abs(zscore)"
   ]
  },
  {
   "cell_type": "code",
   "execution_count": 25,
   "metadata": {},
   "outputs": [],
   "source": [
    "abs_z_scores\n",
    "filtered_entries = (abs_z_scores < 3).all(axis=1)\n",
    "new_df = passone[filtered_entries]\n"
   ]
  },
  {
   "cell_type": "markdown",
   "metadata": {},
   "source": [
    "### The new dataframe went from n=31,849 obs to 30,980 obs after removing outliers"
   ]
  },
  {
   "cell_type": "code",
   "execution_count": 26,
   "metadata": {},
   "outputs": [
    {
     "data": {
      "text/html": [
       "<div>\n",
       "<style scoped>\n",
       "    .dataframe tbody tr th:only-of-type {\n",
       "        vertical-align: middle;\n",
       "    }\n",
       "\n",
       "    .dataframe tbody tr th {\n",
       "        vertical-align: top;\n",
       "    }\n",
       "\n",
       "    .dataframe thead th {\n",
       "        text-align: right;\n",
       "    }\n",
       "</style>\n",
       "<table border=\"1\" class=\"dataframe\">\n",
       "  <thead>\n",
       "    <tr style=\"text-align: right;\">\n",
       "      <th></th>\n",
       "      <th>segment</th>\n",
       "      <th>team_id</th>\n",
       "      <th>product_key</th>\n",
       "      <th>product</th>\n",
       "      <th>team</th>\n",
       "      <th>p1_gross</th>\n",
       "      <th>p1_net</th>\n",
       "      <th>avg_gross_spend_per_event</th>\n",
       "      <th>avg_net_spend_per_event</th>\n",
       "      <th>p1_discounts</th>\n",
       "      <th>num_p1_events</th>\n",
       "      <th>pass_one_transactions</th>\n",
       "      <th>p1_tickets</th>\n",
       "      <th>num_p1_seasons</th>\n",
       "      <th>upgrade_fan</th>\n",
       "      <th>num_upgrades</th>\n",
       "      <th>upgrade_tickets</th>\n",
       "      <th>upgrade_gross</th>\n",
       "      <th>upgrade_net</th>\n",
       "    </tr>\n",
       "  </thead>\n",
       "  <tbody>\n",
       "    <tr>\n",
       "      <th>0</th>\n",
       "      <td>NBA</td>\n",
       "      <td>4</td>\n",
       "      <td>12</td>\n",
       "      <td>Pass One</td>\n",
       "      <td>Team 5</td>\n",
       "      <td>94</td>\n",
       "      <td>94.0</td>\n",
       "      <td>18.8</td>\n",
       "      <td>18.8</td>\n",
       "      <td>0.0</td>\n",
       "      <td>5</td>\n",
       "      <td>5</td>\n",
       "      <td>10</td>\n",
       "      <td>2</td>\n",
       "      <td>0</td>\n",
       "      <td>NaN</td>\n",
       "      <td>NaN</td>\n",
       "      <td>NaN</td>\n",
       "      <td>NaN</td>\n",
       "    </tr>\n",
       "    <tr>\n",
       "      <th>1</th>\n",
       "      <td>NBA</td>\n",
       "      <td>4</td>\n",
       "      <td>12</td>\n",
       "      <td>Pass One</td>\n",
       "      <td>Team 5</td>\n",
       "      <td>104</td>\n",
       "      <td>104.0</td>\n",
       "      <td>20.8</td>\n",
       "      <td>20.8</td>\n",
       "      <td>0.0</td>\n",
       "      <td>5</td>\n",
       "      <td>5</td>\n",
       "      <td>10</td>\n",
       "      <td>2</td>\n",
       "      <td>0</td>\n",
       "      <td>NaN</td>\n",
       "      <td>NaN</td>\n",
       "      <td>NaN</td>\n",
       "      <td>NaN</td>\n",
       "    </tr>\n",
       "    <tr>\n",
       "      <th>3</th>\n",
       "      <td>NBA</td>\n",
       "      <td>4</td>\n",
       "      <td>12</td>\n",
       "      <td>Pass One</td>\n",
       "      <td>Team 5</td>\n",
       "      <td>50</td>\n",
       "      <td>50.0</td>\n",
       "      <td>25.0</td>\n",
       "      <td>25.0</td>\n",
       "      <td>0.0</td>\n",
       "      <td>2</td>\n",
       "      <td>2</td>\n",
       "      <td>4</td>\n",
       "      <td>1</td>\n",
       "      <td>0</td>\n",
       "      <td>NaN</td>\n",
       "      <td>NaN</td>\n",
       "      <td>NaN</td>\n",
       "      <td>NaN</td>\n",
       "    </tr>\n",
       "    <tr>\n",
       "      <th>4</th>\n",
       "      <td>NBA</td>\n",
       "      <td>4</td>\n",
       "      <td>12</td>\n",
       "      <td>Pass One</td>\n",
       "      <td>Team 5</td>\n",
       "      <td>90</td>\n",
       "      <td>90.0</td>\n",
       "      <td>22.5</td>\n",
       "      <td>22.5</td>\n",
       "      <td>0.0</td>\n",
       "      <td>4</td>\n",
       "      <td>4</td>\n",
       "      <td>10</td>\n",
       "      <td>3</td>\n",
       "      <td>1</td>\n",
       "      <td>1.0</td>\n",
       "      <td>4.0</td>\n",
       "      <td>89.84</td>\n",
       "      <td>89.84</td>\n",
       "    </tr>\n",
       "    <tr>\n",
       "      <th>5</th>\n",
       "      <td>NBA</td>\n",
       "      <td>4</td>\n",
       "      <td>12</td>\n",
       "      <td>Pass One</td>\n",
       "      <td>Team 5</td>\n",
       "      <td>60</td>\n",
       "      <td>60.0</td>\n",
       "      <td>20.0</td>\n",
       "      <td>20.0</td>\n",
       "      <td>0.0</td>\n",
       "      <td>3</td>\n",
       "      <td>3</td>\n",
       "      <td>7</td>\n",
       "      <td>1</td>\n",
       "      <td>0</td>\n",
       "      <td>NaN</td>\n",
       "      <td>NaN</td>\n",
       "      <td>NaN</td>\n",
       "      <td>NaN</td>\n",
       "    </tr>\n",
       "  </tbody>\n",
       "</table>\n",
       "</div>"
      ],
      "text/plain": [
       "  segment  team_id  product_key   product    team  p1_gross  p1_net  \\\n",
       "0     NBA        4           12  Pass One  Team 5        94    94.0   \n",
       "1     NBA        4           12  Pass One  Team 5       104   104.0   \n",
       "3     NBA        4           12  Pass One  Team 5        50    50.0   \n",
       "4     NBA        4           12  Pass One  Team 5        90    90.0   \n",
       "5     NBA        4           12  Pass One  Team 5        60    60.0   \n",
       "\n",
       "   avg_gross_spend_per_event  avg_net_spend_per_event  p1_discounts  \\\n",
       "0                       18.8                     18.8           0.0   \n",
       "1                       20.8                     20.8           0.0   \n",
       "3                       25.0                     25.0           0.0   \n",
       "4                       22.5                     22.5           0.0   \n",
       "5                       20.0                     20.0           0.0   \n",
       "\n",
       "   num_p1_events  pass_one_transactions  p1_tickets  num_p1_seasons  \\\n",
       "0              5                      5          10               2   \n",
       "1              5                      5          10               2   \n",
       "3              2                      2           4               1   \n",
       "4              4                      4          10               3   \n",
       "5              3                      3           7               1   \n",
       "\n",
       "   upgrade_fan  num_upgrades  upgrade_tickets  upgrade_gross  upgrade_net  \n",
       "0            0           NaN              NaN            NaN          NaN  \n",
       "1            0           NaN              NaN            NaN          NaN  \n",
       "3            0           NaN              NaN            NaN          NaN  \n",
       "4            1           1.0              4.0          89.84        89.84  \n",
       "5            0           NaN              NaN            NaN          NaN  "
      ]
     },
     "execution_count": 26,
     "metadata": {},
     "output_type": "execute_result"
    }
   ],
   "source": [
    "\n",
    "new_df.head()"
   ]
  },
  {
   "cell_type": "markdown",
   "metadata": {},
   "source": [
    "## Distributions after outliers removed from dataframe"
   ]
  },
  {
   "cell_type": "code",
   "execution_count": 27,
   "metadata": {},
   "outputs": [
    {
     "data": {
      "text/plain": [
       "Text(0, 0.5, '# of Fans')"
      ]
     },
     "execution_count": 27,
     "metadata": {},
     "output_type": "execute_result"
    },
    {
     "data": {
      "image/png": "[encoded data removed]",
      "text/plain": [
       "<Figure size 720x360 with 1 Axes>"
      ]
     },
     "metadata": {},
     "output_type": "display_data"
    }
   ],
   "source": [
    "sns.set_style(\"whitegrid\")\n",
    "plt.figure(figsize=(10,5))\n",
    "sns.distplot(new_df[\"p1_gross\"],kde=False, bins =50)\n",
    "plt.title('Pass One Gross Sales with Z-Score <3')\n",
    "plt.xlabel('Gross Sales of Pass One Fans')\n",
    "plt.ylabel('# of Fans')"
   ]
  },
  {
   "cell_type": "code",
   "execution_count": 28,
   "metadata": {},
   "outputs": [
    {
     "data": {
      "text/plain": [
       "Text(0, 0.5, '# of Fans')"
      ]
     },
     "execution_count": 28,
     "metadata": {},
     "output_type": "execute_result"
    },
    {
     "data": {
      "image/png": "[encoded data removed]",
      "text/plain": [
       "<Figure size 720x360 with 1 Axes>"
      ]
     },
     "metadata": {},
     "output_type": "display_data"
    }
   ],
   "source": [
    "sns.set_style(\"whitegrid\")\n",
    "plt.figure(figsize=(10,5))\n",
    "sns.distplot(new_df[\"num_p1_events\"],kde=False, bins =50)\n",
    "plt.title('Number of Pass One Events Z-Score <3')\n",
    "plt.xlabel('Number of Pass One Events purchased')\n",
    "plt.ylabel('# of Fans')"
   ]
  },
  {
   "cell_type": "code",
   "execution_count": 29,
   "metadata": {},
   "outputs": [
    {
     "data": {
      "text/plain": [
       "Text(0, 0.5, '# of Fans')"
      ]
     },
     "execution_count": 29,
     "metadata": {},
     "output_type": "execute_result"
    },
    {
     "data": {
      "image/png": "[encoded data removed]",
      "text/plain": [
       "<Figure size 720x360 with 1 Axes>"
      ]
     },
     "metadata": {},
     "output_type": "display_data"
    }
   ],
   "source": [
    "sns.set_style(\"whitegrid\")\n",
    "plt.figure(figsize=(10,5))\n",
    "sns.distplot(new_df[\"p1_tickets\"],kde=False, bins =50)\n",
    "plt.title('Number of Pass One Tickets Z-Score <3')\n",
    "plt.xlabel('Number of Pass One Tickets purchased')\n",
    "plt.ylabel('# of Fans')"
   ]
  },
  {
   "cell_type": "markdown",
   "metadata": {},
   "source": [
    "### Features Review"
   ]
  },
  {
   "cell_type": "code",
   "execution_count": 30,
   "metadata": {},
   "outputs": [
    {
     "name": "stdout",
     "output_type": "stream",
     "text": [
      "<class 'pandas.core.frame.DataFrame'>\n",
      "Int64Index: 30980 entries, 0 to 31848\n",
      "Data columns (total 19 columns):\n",
      " #   Column                     Non-Null Count  Dtype  \n",
      "---  ------                     --------------  -----  \n",
      " 0   segment                    30980 non-null  object \n",
      " 1   team_id                    30980 non-null  int64  \n",
      " 2   product_key                30980 non-null  int64  \n",
      " 3   product                    30980 non-null  object \n",
      " 4   team                       30980 non-null  object \n",
      " 5   p1_gross                   30980 non-null  int64  \n",
      " 6   p1_net                     30980 non-null  float64\n",
      " 7   avg_gross_spend_per_event  30980 non-null  float64\n",
      " 8   avg_net_spend_per_event    30980 non-null  float64\n",
      " 9   p1_discounts               30980 non-null  float64\n",
      " 10  num_p1_events              30980 non-null  int64  \n",
      " 11  pass_one_transactions      30980 non-null  int64  \n",
      " 12  p1_tickets                 30980 non-null  int64  \n",
      " 13  num_p1_seasons             30980 non-null  int64  \n",
      " 14  upgrade_fan                30980 non-null  int64  \n",
      " 15  num_upgrades               3300 non-null   float64\n",
      " 16  upgrade_tickets            3300 non-null   float64\n",
      " 17  upgrade_gross              3300 non-null   float64\n",
      " 18  upgrade_net                3300 non-null   float64\n",
      "dtypes: float64(8), int64(8), object(3)\n",
      "memory usage: 4.7+ MB\n"
     ]
    }
   ],
   "source": [
    "new_df.info()"
   ]
  },
  {
   "cell_type": "code",
   "execution_count": 31,
   "metadata": {},
   "outputs": [],
   "source": [
    "df= new_df[['team','p1_gross','p1_net','avg_gross_spend_per_event','avg_net_spend_per_event','num_p1_events','pass_one_transactions','p1_tickets','num_p1_seasons','upgrade_fan']]"
   ]
  },
  {
   "cell_type": "markdown",
   "metadata": {},
   "source": [
    "### Dataframe with removed outliers called df"
   ]
  },
  {
   "cell_type": "markdown",
   "metadata": {},
   "source": [
    "### Checking correlations of Features with target"
   ]
  },
  {
   "cell_type": "code",
   "execution_count": 32,
   "metadata": {},
   "outputs": [
    {
     "data": {
      "text/plain": [
       "num_p1_events                0.204776\n",
       "pass_one_transactions        0.204614\n",
       "p1_tickets                   0.144694\n",
       "p1_gross                     0.131031\n",
       "p1_net                       0.130410\n",
       "num_p1_seasons               0.126876\n",
       "avg_gross_spend_per_event   -0.006951\n",
       "avg_net_spend_per_event     -0.007413\n",
       "dtype: float64"
      ]
     },
     "execution_count": 32,
     "metadata": {},
     "output_type": "execute_result"
    }
   ],
   "source": [
    "df.drop(['upgrade_fan','team'], axis=1).apply(lambda x: x.corr(df.upgrade_fan)).sort_values( ascending=False)"
   ]
  },
  {
   "cell_type": "code",
   "execution_count": 33,
   "metadata": {},
   "outputs": [
    {
     "data": {
      "text/html": [
       "<div>\n",
       "<style scoped>\n",
       "    .dataframe tbody tr th:only-of-type {\n",
       "        vertical-align: middle;\n",
       "    }\n",
       "\n",
       "    .dataframe tbody tr th {\n",
       "        vertical-align: top;\n",
       "    }\n",
       "\n",
       "    .dataframe thead th {\n",
       "        text-align: right;\n",
       "    }\n",
       "</style>\n",
       "<table border=\"1\" class=\"dataframe\">\n",
       "  <thead>\n",
       "    <tr style=\"text-align: right;\">\n",
       "      <th></th>\n",
       "      <th>team</th>\n",
       "      <th>p1_gross</th>\n",
       "      <th>p1_net</th>\n",
       "      <th>avg_gross_spend_per_event</th>\n",
       "      <th>avg_net_spend_per_event</th>\n",
       "      <th>num_p1_events</th>\n",
       "      <th>pass_one_transactions</th>\n",
       "      <th>p1_tickets</th>\n",
       "      <th>num_p1_seasons</th>\n",
       "      <th>upgrade_fan</th>\n",
       "    </tr>\n",
       "  </thead>\n",
       "  <tbody>\n",
       "    <tr>\n",
       "      <th>0</th>\n",
       "      <td>Team 5</td>\n",
       "      <td>94</td>\n",
       "      <td>94.0</td>\n",
       "      <td>18.8</td>\n",
       "      <td>18.8</td>\n",
       "      <td>5</td>\n",
       "      <td>5</td>\n",
       "      <td>10</td>\n",
       "      <td>2</td>\n",
       "      <td>0</td>\n",
       "    </tr>\n",
       "    <tr>\n",
       "      <th>1</th>\n",
       "      <td>Team 5</td>\n",
       "      <td>104</td>\n",
       "      <td>104.0</td>\n",
       "      <td>20.8</td>\n",
       "      <td>20.8</td>\n",
       "      <td>5</td>\n",
       "      <td>5</td>\n",
       "      <td>10</td>\n",
       "      <td>2</td>\n",
       "      <td>0</td>\n",
       "    </tr>\n",
       "    <tr>\n",
       "      <th>3</th>\n",
       "      <td>Team 5</td>\n",
       "      <td>50</td>\n",
       "      <td>50.0</td>\n",
       "      <td>25.0</td>\n",
       "      <td>25.0</td>\n",
       "      <td>2</td>\n",
       "      <td>2</td>\n",
       "      <td>4</td>\n",
       "      <td>1</td>\n",
       "      <td>0</td>\n",
       "    </tr>\n",
       "    <tr>\n",
       "      <th>4</th>\n",
       "      <td>Team 5</td>\n",
       "      <td>90</td>\n",
       "      <td>90.0</td>\n",
       "      <td>22.5</td>\n",
       "      <td>22.5</td>\n",
       "      <td>4</td>\n",
       "      <td>4</td>\n",
       "      <td>10</td>\n",
       "      <td>3</td>\n",
       "      <td>1</td>\n",
       "    </tr>\n",
       "    <tr>\n",
       "      <th>5</th>\n",
       "      <td>Team 5</td>\n",
       "      <td>60</td>\n",
       "      <td>60.0</td>\n",
       "      <td>20.0</td>\n",
       "      <td>20.0</td>\n",
       "      <td>3</td>\n",
       "      <td>3</td>\n",
       "      <td>7</td>\n",
       "      <td>1</td>\n",
       "      <td>0</td>\n",
       "    </tr>\n",
       "  </tbody>\n",
       "</table>\n",
       "</div>"
      ],
      "text/plain": [
       "     team  p1_gross  p1_net  avg_gross_spend_per_event  \\\n",
       "0  Team 5        94    94.0                       18.8   \n",
       "1  Team 5       104   104.0                       20.8   \n",
       "3  Team 5        50    50.0                       25.0   \n",
       "4  Team 5        90    90.0                       22.5   \n",
       "5  Team 5        60    60.0                       20.0   \n",
       "\n",
       "   avg_net_spend_per_event  num_p1_events  pass_one_transactions  p1_tickets  \\\n",
       "0                     18.8              5                      5          10   \n",
       "1                     20.8              5                      5          10   \n",
       "3                     25.0              2                      2           4   \n",
       "4                     22.5              4                      4          10   \n",
       "5                     20.0              3                      3           7   \n",
       "\n",
       "   num_p1_seasons  upgrade_fan  \n",
       "0               2            0  \n",
       "1               2            0  \n",
       "3               1            0  \n",
       "4               3            1  \n",
       "5               1            0  "
      ]
     },
     "execution_count": 33,
     "metadata": {},
     "output_type": "execute_result"
    }
   ],
   "source": [
    "df.head()"
   ]
  },
  {
   "cell_type": "markdown",
   "metadata": {},
   "source": [
    "### Creating dummy variables to identify different Teams"
   ]
  },
  {
   "cell_type": "markdown",
   "metadata": {
    "scrolled": true
   },
   "source": [
    "#### Will remove pass_one_transactions, p1_net,avg_gross_spend_per_event, avg_net_spend_per_event due to prevent multicolinearity and due to weak correlation values"
   ]
  },
  {
   "cell_type": "code",
   "execution_count": 34,
   "metadata": {},
   "outputs": [],
   "source": [
    "modeling_data = new_df[['team','num_p1_events','num_p1_seasons','p1_gross','p1_tickets','upgrade_fan']]"
   ]
  },
  {
   "cell_type": "code",
   "execution_count": 35,
   "metadata": {},
   "outputs": [],
   "source": [
    "cat_vars =['team']\n",
    "for var in cat_vars:\n",
    "    cat_list=var\n",
    "    cat_list = pd.get_dummies(modeling_data[var])\n",
    "    modeling_data1=modeling_data.join(cat_list)\n",
    "    modeling_data=modeling_data1\n",
    "\n",
    "cat_vars = ['team']\n",
    "data_vars = modeling_data.columns.values.tolist()\n",
    "to_keep=[i for i in data_vars if i not in cat_vars]\n",
    "    "
   ]
  },
  {
   "cell_type": "code",
   "execution_count": 36,
   "metadata": {},
   "outputs": [
    {
     "data": {
      "text/html": [
       "<div>\n",
       "<style scoped>\n",
       "    .dataframe tbody tr th:only-of-type {\n",
       "        vertical-align: middle;\n",
       "    }\n",
       "\n",
       "    .dataframe tbody tr th {\n",
       "        vertical-align: top;\n",
       "    }\n",
       "\n",
       "    .dataframe thead th {\n",
       "        text-align: right;\n",
       "    }\n",
       "</style>\n",
       "<table border=\"1\" class=\"dataframe\">\n",
       "  <thead>\n",
       "    <tr style=\"text-align: right;\">\n",
       "      <th></th>\n",
       "      <th>num_p1_events</th>\n",
       "      <th>num_p1_seasons</th>\n",
       "      <th>p1_gross</th>\n",
       "      <th>p1_tickets</th>\n",
       "      <th>upgrade_fan</th>\n",
       "      <th>Team 1</th>\n",
       "      <th>Team 2</th>\n",
       "      <th>Team 3</th>\n",
       "      <th>Team 4</th>\n",
       "      <th>Team 5</th>\n",
       "      <th>Team 6</th>\n",
       "      <th>Team 7</th>\n",
       "    </tr>\n",
       "  </thead>\n",
       "  <tbody>\n",
       "    <tr>\n",
       "      <th>0</th>\n",
       "      <td>5</td>\n",
       "      <td>2</td>\n",
       "      <td>94</td>\n",
       "      <td>10</td>\n",
       "      <td>0</td>\n",
       "      <td>0</td>\n",
       "      <td>0</td>\n",
       "      <td>0</td>\n",
       "      <td>0</td>\n",
       "      <td>1</td>\n",
       "      <td>0</td>\n",
       "      <td>0</td>\n",
       "    </tr>\n",
       "    <tr>\n",
       "      <th>1</th>\n",
       "      <td>5</td>\n",
       "      <td>2</td>\n",
       "      <td>104</td>\n",
       "      <td>10</td>\n",
       "      <td>0</td>\n",
       "      <td>0</td>\n",
       "      <td>0</td>\n",
       "      <td>0</td>\n",
       "      <td>0</td>\n",
       "      <td>1</td>\n",
       "      <td>0</td>\n",
       "      <td>0</td>\n",
       "    </tr>\n",
       "    <tr>\n",
       "      <th>3</th>\n",
       "      <td>2</td>\n",
       "      <td>1</td>\n",
       "      <td>50</td>\n",
       "      <td>4</td>\n",
       "      <td>0</td>\n",
       "      <td>0</td>\n",
       "      <td>0</td>\n",
       "      <td>0</td>\n",
       "      <td>0</td>\n",
       "      <td>1</td>\n",
       "      <td>0</td>\n",
       "      <td>0</td>\n",
       "    </tr>\n",
       "    <tr>\n",
       "      <th>4</th>\n",
       "      <td>4</td>\n",
       "      <td>3</td>\n",
       "      <td>90</td>\n",
       "      <td>10</td>\n",
       "      <td>1</td>\n",
       "      <td>0</td>\n",
       "      <td>0</td>\n",
       "      <td>0</td>\n",
       "      <td>0</td>\n",
       "      <td>1</td>\n",
       "      <td>0</td>\n",
       "      <td>0</td>\n",
       "    </tr>\n",
       "    <tr>\n",
       "      <th>5</th>\n",
       "      <td>3</td>\n",
       "      <td>1</td>\n",
       "      <td>60</td>\n",
       "      <td>7</td>\n",
       "      <td>0</td>\n",
       "      <td>0</td>\n",
       "      <td>0</td>\n",
       "      <td>0</td>\n",
       "      <td>0</td>\n",
       "      <td>1</td>\n",
       "      <td>0</td>\n",
       "      <td>0</td>\n",
       "    </tr>\n",
       "    <tr>\n",
       "      <th>...</th>\n",
       "      <td>...</td>\n",
       "      <td>...</td>\n",
       "      <td>...</td>\n",
       "      <td>...</td>\n",
       "      <td>...</td>\n",
       "      <td>...</td>\n",
       "      <td>...</td>\n",
       "      <td>...</td>\n",
       "      <td>...</td>\n",
       "      <td>...</td>\n",
       "      <td>...</td>\n",
       "      <td>...</td>\n",
       "    </tr>\n",
       "    <tr>\n",
       "      <th>31844</th>\n",
       "      <td>1</td>\n",
       "      <td>1</td>\n",
       "      <td>10</td>\n",
       "      <td>1</td>\n",
       "      <td>0</td>\n",
       "      <td>0</td>\n",
       "      <td>0</td>\n",
       "      <td>0</td>\n",
       "      <td>0</td>\n",
       "      <td>1</td>\n",
       "      <td>0</td>\n",
       "      <td>0</td>\n",
       "    </tr>\n",
       "    <tr>\n",
       "      <th>31845</th>\n",
       "      <td>1</td>\n",
       "      <td>1</td>\n",
       "      <td>102</td>\n",
       "      <td>3</td>\n",
       "      <td>0</td>\n",
       "      <td>0</td>\n",
       "      <td>0</td>\n",
       "      <td>0</td>\n",
       "      <td>0</td>\n",
       "      <td>0</td>\n",
       "      <td>1</td>\n",
       "      <td>0</td>\n",
       "    </tr>\n",
       "    <tr>\n",
       "      <th>31846</th>\n",
       "      <td>1</td>\n",
       "      <td>1</td>\n",
       "      <td>80</td>\n",
       "      <td>2</td>\n",
       "      <td>0</td>\n",
       "      <td>0</td>\n",
       "      <td>0</td>\n",
       "      <td>1</td>\n",
       "      <td>0</td>\n",
       "      <td>0</td>\n",
       "      <td>0</td>\n",
       "      <td>0</td>\n",
       "    </tr>\n",
       "    <tr>\n",
       "      <th>31847</th>\n",
       "      <td>1</td>\n",
       "      <td>1</td>\n",
       "      <td>20</td>\n",
       "      <td>2</td>\n",
       "      <td>1</td>\n",
       "      <td>0</td>\n",
       "      <td>0</td>\n",
       "      <td>0</td>\n",
       "      <td>1</td>\n",
       "      <td>0</td>\n",
       "      <td>0</td>\n",
       "      <td>0</td>\n",
       "    </tr>\n",
       "    <tr>\n",
       "      <th>31848</th>\n",
       "      <td>1</td>\n",
       "      <td>1</td>\n",
       "      <td>40</td>\n",
       "      <td>4</td>\n",
       "      <td>0</td>\n",
       "      <td>0</td>\n",
       "      <td>0</td>\n",
       "      <td>0</td>\n",
       "      <td>1</td>\n",
       "      <td>0</td>\n",
       "      <td>0</td>\n",
       "      <td>0</td>\n",
       "    </tr>\n",
       "  </tbody>\n",
       "</table>\n",
       "<p>30980 rows × 12 columns</p>\n",
       "</div>"
      ],
      "text/plain": [
       "       num_p1_events  num_p1_seasons  p1_gross  p1_tickets  upgrade_fan  \\\n",
       "0                  5               2        94          10            0   \n",
       "1                  5               2       104          10            0   \n",
       "3                  2               1        50           4            0   \n",
       "4                  4               3        90          10            1   \n",
       "5                  3               1        60           7            0   \n",
       "...              ...             ...       ...         ...          ...   \n",
       "31844              1               1        10           1            0   \n",
       "31845              1               1       102           3            0   \n",
       "31846              1               1        80           2            0   \n",
       "31847              1               1        20           2            1   \n",
       "31848              1               1        40           4            0   \n",
       "\n",
       "       Team 1  Team 2  Team 3  Team 4  Team 5  Team 6  Team 7  \n",
       "0           0       0       0       0       1       0       0  \n",
       "1           0       0       0       0       1       0       0  \n",
       "3           0       0       0       0       1       0       0  \n",
       "4           0       0       0       0       1       0       0  \n",
       "5           0       0       0       0       1       0       0  \n",
       "...       ...     ...     ...     ...     ...     ...     ...  \n",
       "31844       0       0       0       0       1       0       0  \n",
       "31845       0       0       0       0       0       1       0  \n",
       "31846       0       0       1       0       0       0       0  \n",
       "31847       0       0       0       1       0       0       0  \n",
       "31848       0       0       0       1       0       0       0  \n",
       "\n",
       "[30980 rows x 12 columns]"
      ]
     },
     "execution_count": 36,
     "metadata": {},
     "output_type": "execute_result"
    }
   ],
   "source": [
    "modeling_data = modeling_data.drop(('team'), axis=1)\n",
    "modeling_data"
   ]
  },
  {
   "cell_type": "code",
   "execution_count": 37,
   "metadata": {},
   "outputs": [
    {
     "data": {
      "text/html": [
       "<div>\n",
       "<style scoped>\n",
       "    .dataframe tbody tr th:only-of-type {\n",
       "        vertical-align: middle;\n",
       "    }\n",
       "\n",
       "    .dataframe tbody tr th {\n",
       "        vertical-align: top;\n",
       "    }\n",
       "\n",
       "    .dataframe thead th {\n",
       "        text-align: right;\n",
       "    }\n",
       "</style>\n",
       "<table border=\"1\" class=\"dataframe\">\n",
       "  <thead>\n",
       "    <tr style=\"text-align: right;\">\n",
       "      <th></th>\n",
       "      <th>num_p1_events</th>\n",
       "      <th>num_p1_seasons</th>\n",
       "      <th>p1_gross</th>\n",
       "      <th>p1_tickets</th>\n",
       "      <th>upgrade_fan</th>\n",
       "      <th>Team 1</th>\n",
       "      <th>Team 2</th>\n",
       "      <th>Team 3</th>\n",
       "      <th>Team 4</th>\n",
       "      <th>Team 5</th>\n",
       "      <th>Team 6</th>\n",
       "      <th>Team 7</th>\n",
       "    </tr>\n",
       "  </thead>\n",
       "  <tbody>\n",
       "    <tr>\n",
       "      <th>0</th>\n",
       "      <td>5</td>\n",
       "      <td>2</td>\n",
       "      <td>94</td>\n",
       "      <td>10</td>\n",
       "      <td>0</td>\n",
       "      <td>0</td>\n",
       "      <td>0</td>\n",
       "      <td>0</td>\n",
       "      <td>0</td>\n",
       "      <td>1</td>\n",
       "      <td>0</td>\n",
       "      <td>0</td>\n",
       "    </tr>\n",
       "    <tr>\n",
       "      <th>1</th>\n",
       "      <td>5</td>\n",
       "      <td>2</td>\n",
       "      <td>104</td>\n",
       "      <td>10</td>\n",
       "      <td>0</td>\n",
       "      <td>0</td>\n",
       "      <td>0</td>\n",
       "      <td>0</td>\n",
       "      <td>0</td>\n",
       "      <td>1</td>\n",
       "      <td>0</td>\n",
       "      <td>0</td>\n",
       "    </tr>\n",
       "    <tr>\n",
       "      <th>3</th>\n",
       "      <td>2</td>\n",
       "      <td>1</td>\n",
       "      <td>50</td>\n",
       "      <td>4</td>\n",
       "      <td>0</td>\n",
       "      <td>0</td>\n",
       "      <td>0</td>\n",
       "      <td>0</td>\n",
       "      <td>0</td>\n",
       "      <td>1</td>\n",
       "      <td>0</td>\n",
       "      <td>0</td>\n",
       "    </tr>\n",
       "    <tr>\n",
       "      <th>4</th>\n",
       "      <td>4</td>\n",
       "      <td>3</td>\n",
       "      <td>90</td>\n",
       "      <td>10</td>\n",
       "      <td>1</td>\n",
       "      <td>0</td>\n",
       "      <td>0</td>\n",
       "      <td>0</td>\n",
       "      <td>0</td>\n",
       "      <td>1</td>\n",
       "      <td>0</td>\n",
       "      <td>0</td>\n",
       "    </tr>\n",
       "    <tr>\n",
       "      <th>5</th>\n",
       "      <td>3</td>\n",
       "      <td>1</td>\n",
       "      <td>60</td>\n",
       "      <td>7</td>\n",
       "      <td>0</td>\n",
       "      <td>0</td>\n",
       "      <td>0</td>\n",
       "      <td>0</td>\n",
       "      <td>0</td>\n",
       "      <td>1</td>\n",
       "      <td>0</td>\n",
       "      <td>0</td>\n",
       "    </tr>\n",
       "  </tbody>\n",
       "</table>\n",
       "</div>"
      ],
      "text/plain": [
       "   num_p1_events  num_p1_seasons  p1_gross  p1_tickets  upgrade_fan  Team 1  \\\n",
       "0              5               2        94          10            0       0   \n",
       "1              5               2       104          10            0       0   \n",
       "3              2               1        50           4            0       0   \n",
       "4              4               3        90          10            1       0   \n",
       "5              3               1        60           7            0       0   \n",
       "\n",
       "   Team 2  Team 3  Team 4  Team 5  Team 6  Team 7  \n",
       "0       0       0       0       1       0       0  \n",
       "1       0       0       0       1       0       0  \n",
       "3       0       0       0       1       0       0  \n",
       "4       0       0       0       1       0       0  \n",
       "5       0       0       0       1       0       0  "
      ]
     },
     "execution_count": 37,
     "metadata": {},
     "output_type": "execute_result"
    }
   ],
   "source": [
    "modeling_data.head()"
   ]
  },
  {
   "cell_type": "code",
   "execution_count": 38,
   "metadata": {},
   "outputs": [
    {
     "name": "stdout",
     "output_type": "stream",
     "text": [
      "percentage of no upgrading is 89.34796642995481\n",
      "percentage of upgrading 10.65203357004519\n"
     ]
    }
   ],
   "source": [
    "noupgrading = len(modeling_data[modeling_data['upgrade_fan']==0])\n",
    "upgrading = len(modeling_data[modeling_data['upgrade_fan']==1])\n",
    "pct_of_no_upgrading = noupgrading/(upgrading+noupgrading)\n",
    "print(\"percentage of no upgrading is\", pct_of_no_upgrading*100)\n",
    "pct_of_upgrading = upgrading/(upgrading+noupgrading)\n",
    "print(\"percentage of upgrading\", pct_of_upgrading*100)"
   ]
  },
  {
   "cell_type": "code",
   "execution_count": null,
   "metadata": {},
   "outputs": [],
   "source": [
    "\n"
   ]
  },
  {
   "cell_type": "markdown",
   "metadata": {},
   "source": [
    "### Correlation Plot of Feature Variables"
   ]
  },
  {
   "cell_type": "code",
   "execution_count": 39,
   "metadata": {},
   "outputs": [
    {
     "data": {
      "text/plain": [
       "<matplotlib.axes._subplots.AxesSubplot at 0x7fde009eb8b0>"
      ]
     },
     "execution_count": 39,
     "metadata": {},
     "output_type": "execute_result"
    },
    {
     "data": {
      "image/png": "[encoded data removed]",
      "text/plain": [
       "<Figure size 432x288 with 1 Axes>"
      ]
     },
     "metadata": {},
     "output_type": "display_data"
    }
   ],
   "source": [
    "modeling_data.drop(['upgrade_fan'], axis=1).apply(lambda x: x.corr(modeling_data.upgrade_fan)).sort_values( ascending=False).plot(kind='bar')"
   ]
  },
  {
   "cell_type": "markdown",
   "metadata": {},
   "source": [
    "\n",
    "## Trying Neural Network Modeling"
   ]
  },
  {
   "cell_type": "code",
   "execution_count": 40,
   "metadata": {},
   "outputs": [],
   "source": [
    "X= modeling_data[['num_p1_events','num_p1_seasons','p1_gross','p1_tickets','Team 1','Team 2','Team 3','Team 4','Team 5','Team 6','Team 7']].values\n",
    "y =modeling_data['upgrade_fan'].values"
   ]
  },
  {
   "cell_type": "markdown",
   "metadata": {},
   "source": [
    "## Undersampling data to help correct for unbalanced target class upgrade_fan\n",
    "\n",
    "Neighborhood Cleaning Rule for Undersampling\n",
    "The Neighborhood Cleaning Rule, or NCR for short, is an undersampling technique that combines both the Condensed Nearest Neighbor (CNN) Rule to remove redundant examples and the Edited Nearest Neighbors (ENN) Rule to remove noisy or ambiguous examples."
   ]
  },
  {
   "cell_type": "code",
   "execution_count": 41,
   "metadata": {},
   "outputs": [
    {
     "name": "stdout",
     "output_type": "stream",
     "text": [
      "Counter({0: 27680, 1: 3300})\n",
      "Counter({0: 23544, 1: 3300})\n"
     ]
    }
   ],
   "source": [
    "from collections import Counter\n",
    "from sklearn.datasets import make_classification\n",
    "from imblearn.under_sampling import NeighbourhoodCleaningRule\n",
    "from matplotlib import pyplot\n",
    "from numpy import where\n",
    "\n",
    "# summarize class distribution\n",
    "counter = Counter(y)\n",
    "print(counter)\n",
    "# define the undersampling method\n",
    "undersample = NeighbourhoodCleaningRule(n_neighbors=3, threshold_cleaning=0.5)\n",
    "# transform the dataset\n",
    "X, y = undersample.fit_resample(X, y)\n",
    "# summarize the new class distribution\n",
    "counter = Counter(y)\n",
    "print(counter)\n",
    "# scatter plot of examples by class label\n",
    "# for label, _ in counter.items():\n",
    "# \trow_ix = where(y == label)[0]\n",
    "# \tpyplot.scatter(X[row_ix, 0], X[row_ix, 1], label=str(label))\n",
    "# pyplot.legend()\n",
    "# pyplot.show()"
   ]
  },
  {
   "cell_type": "code",
   "execution_count": 42,
   "metadata": {},
   "outputs": [],
   "source": [
    "from sklearn.model_selection import train_test_split \n",
    "X_train, X_test, y_train, y_test = train_test_split(X, y, test_size=0.25, random_state=59)\n"
   ]
  },
  {
   "cell_type": "markdown",
   "metadata": {},
   "source": [
    "### Scaling the Data "
   ]
  },
  {
   "cell_type": "code",
   "execution_count": 43,
   "metadata": {},
   "outputs": [],
   "source": [
    "from sklearn.preprocessing import MinMaxScaler\n",
    "scaler = MinMaxScaler()"
   ]
  },
  {
   "cell_type": "code",
   "execution_count": 44,
   "metadata": {},
   "outputs": [
    {
     "data": {
      "text/plain": [
       "MinMaxScaler()"
      ]
     },
     "execution_count": 44,
     "metadata": {},
     "output_type": "execute_result"
    }
   ],
   "source": [
    "scaler.fit(X_train)"
   ]
  },
  {
   "cell_type": "code",
   "execution_count": 45,
   "metadata": {},
   "outputs": [],
   "source": [
    "X_train = scaler.transform(X_train)\n",
    "X_test = scaler.transform(X_test)"
   ]
  },
  {
   "cell_type": "markdown",
   "metadata": {},
   "source": [
    "## Building Neural Network Model on Training  using Keras data"
   ]
  },
  {
   "cell_type": "code",
   "execution_count": 46,
   "metadata": {},
   "outputs": [],
   "source": [
    "from tensorflow.keras import Sequential"
   ]
  },
  {
   "cell_type": "code",
   "execution_count": 47,
   "metadata": {},
   "outputs": [],
   "source": [
    "from tensorflow.keras.layers import Dense,Dropout"
   ]
  },
  {
   "cell_type": "code",
   "execution_count": 48,
   "metadata": {},
   "outputs": [
    {
     "data": {
      "text/plain": [
       "(20133, 11)"
      ]
     },
     "execution_count": 48,
     "metadata": {},
     "output_type": "execute_result"
    }
   ],
   "source": [
    "X_train.shape"
   ]
  },
  {
   "cell_type": "markdown",
   "metadata": {},
   "source": [
    "## Model 1 with an arbitrarly chosen Epoch n=200"
   ]
  },
  {
   "cell_type": "code",
   "execution_count": 49,
   "metadata": {},
   "outputs": [],
   "source": [
    "model_1 = Sequential()\n",
    "\n",
    "model_1.add(Dense(11, activation='relu'))\n",
    "\n",
    "model_1.add(Dense(5, activation='relu'))\n",
    "\n",
    "# Binary Classification\n",
    "model_1.add(Dense(1, activation='sigmoid'))\n",
    "\n",
    "model_1.compile(loss='binary_crossentropy',optimizer='adam')"
   ]
  },
  {
   "cell_type": "code",
   "execution_count": 50,
   "metadata": {},
   "outputs": [
    {
     "name": "stdout",
     "output_type": "stream",
     "text": [
      "Epoch 1/200\n",
      "630/630 [==============================] - 0s 743us/step - loss: 0.3684 - val_loss: 0.3410\n",
      "Epoch 2/200\n",
      "630/630 [==============================] - 0s 573us/step - loss: 0.3290 - val_loss: 0.3365\n",
      "Epoch 3/200\n",
      "630/630 [==============================] - 0s 569us/step - loss: 0.3269 - val_loss: 0.3351\n",
      "Epoch 4/200\n",
      "630/630 [==============================] - 0s 584us/step - loss: 0.3257 - val_loss: 0.3334\n",
      "Epoch 5/200\n",
      "630/630 [==============================] - 0s 580us/step - loss: 0.3247 - val_loss: 0.3327\n",
      "Epoch 6/200\n",
      "630/630 [==============================] - 0s 577us/step - loss: 0.3240 - val_loss: 0.3315\n",
      "Epoch 7/200\n",
      "630/630 [==============================] - 0s 573us/step - loss: 0.3234 - val_loss: 0.3312\n",
      "Epoch 8/200\n",
      "630/630 [==============================] - 0s 582us/step - loss: 0.3230 - val_loss: 0.3307\n",
      "Epoch 9/200\n",
      "630/630 [==============================] - 0s 575us/step - loss: 0.3227 - val_loss: 0.3299\n",
      "Epoch 10/200\n",
      "630/630 [==============================] - 0s 583us/step - loss: 0.3222 - val_loss: 0.3299\n",
      "Epoch 11/200\n",
      "630/630 [==============================] - 0s 572us/step - loss: 0.3219 - val_loss: 0.3292\n",
      "Epoch 12/200\n",
      "630/630 [==============================] - 0s 575us/step - loss: 0.3219 - val_loss: 0.3294\n",
      "Epoch 13/200\n",
      "630/630 [==============================] - 0s 587us/step - loss: 0.3213 - val_loss: 0.3288\n",
      "Epoch 14/200\n",
      "630/630 [==============================] - 0s 582us/step - loss: 0.3212 - val_loss: 0.3286\n",
      "Epoch 15/200\n",
      "630/630 [==============================] - 0s 578us/step - loss: 0.3208 - val_loss: 0.3290\n",
      "Epoch 16/200\n",
      "630/630 [==============================] - 0s 581us/step - loss: 0.3209 - val_loss: 0.3294\n",
      "Epoch 17/200\n",
      "630/630 [==============================] - 0s 574us/step - loss: 0.3207 - val_loss: 0.3286\n",
      "Epoch 18/200\n",
      "630/630 [==============================] - 0s 579us/step - loss: 0.3204 - val_loss: 0.3277\n",
      "Epoch 19/200\n",
      "630/630 [==============================] - 0s 586us/step - loss: 0.3203 - val_loss: 0.3279\n",
      "Epoch 20/200\n",
      "630/630 [==============================] - 0s 583us/step - loss: 0.3203 - val_loss: 0.3273\n",
      "Epoch 21/200\n",
      "630/630 [==============================] - 0s 590us/step - loss: 0.3202 - val_loss: 0.3287\n",
      "Epoch 22/200\n",
      "630/630 [==============================] - 0s 578us/step - loss: 0.3201 - val_loss: 0.3276\n",
      "Epoch 23/200\n",
      "630/630 [==============================] - 0s 580us/step - loss: 0.3199 - val_loss: 0.3278\n",
      "Epoch 24/200\n",
      "630/630 [==============================] - 0s 591us/step - loss: 0.3198 - val_loss: 0.3270\n",
      "Epoch 25/200\n",
      "630/630 [==============================] - 0s 584us/step - loss: 0.3196 - val_loss: 0.3275\n",
      "Epoch 26/200\n",
      "630/630 [==============================] - 0s 588us/step - loss: 0.3196 - val_loss: 0.3276\n",
      "Epoch 27/200\n",
      "630/630 [==============================] - 0s 588us/step - loss: 0.3196 - val_loss: 0.3268\n",
      "Epoch 28/200\n",
      "630/630 [==============================] - 0s 586us/step - loss: 0.3194 - val_loss: 0.3276\n",
      "Epoch 29/200\n",
      "630/630 [==============================] - 0s 583us/step - loss: 0.3197 - val_loss: 0.3273\n",
      "Epoch 30/200\n",
      "630/630 [==============================] - 0s 587us/step - loss: 0.3194 - val_loss: 0.3267\n",
      "Epoch 31/200\n",
      "630/630 [==============================] - 0s 585us/step - loss: 0.3194 - val_loss: 0.3266\n",
      "Epoch 32/200\n",
      "630/630 [==============================] - 0s 583us/step - loss: 0.3194 - val_loss: 0.3270\n",
      "Epoch 33/200\n",
      "630/630 [==============================] - 0s 584us/step - loss: 0.3194 - val_loss: 0.3265\n",
      "Epoch 34/200\n",
      "630/630 [==============================] - 0s 585us/step - loss: 0.3191 - val_loss: 0.3279\n",
      "Epoch 35/200\n",
      "630/630 [==============================] - 0s 585us/step - loss: 0.3192 - val_loss: 0.3281\n",
      "Epoch 36/200\n",
      "630/630 [==============================] - 0s 584us/step - loss: 0.3191 - val_loss: 0.3273\n",
      "Epoch 37/200\n",
      "630/630 [==============================] - 0s 587us/step - loss: 0.3189 - val_loss: 0.3274\n",
      "Epoch 38/200\n",
      "630/630 [==============================] - 0s 586us/step - loss: 0.3189 - val_loss: 0.3264\n",
      "Epoch 39/200\n",
      "630/630 [==============================] - 0s 580us/step - loss: 0.3188 - val_loss: 0.3272\n",
      "Epoch 40/200\n",
      "630/630 [==============================] - 0s 594us/step - loss: 0.3188 - val_loss: 0.3268\n",
      "Epoch 41/200\n",
      "630/630 [==============================] - 0s 584us/step - loss: 0.3187 - val_loss: 0.3267\n",
      "Epoch 42/200\n",
      "630/630 [==============================] - 0s 585us/step - loss: 0.3187 - val_loss: 0.3269\n",
      "Epoch 43/200\n",
      "630/630 [==============================] - 0s 593us/step - loss: 0.3185 - val_loss: 0.3271\n",
      "Epoch 44/200\n",
      "630/630 [==============================] - 0s 579us/step - loss: 0.3187 - val_loss: 0.3272\n",
      "Epoch 45/200\n",
      "630/630 [==============================] - 0s 600us/step - loss: 0.3186 - val_loss: 0.3268\n",
      "Epoch 46/200\n",
      "630/630 [==============================] - 0s 593us/step - loss: 0.3186 - val_loss: 0.3258\n",
      "Epoch 47/200\n",
      "630/630 [==============================] - 0s 583us/step - loss: 0.3186 - val_loss: 0.3263\n",
      "Epoch 48/200\n",
      "630/630 [==============================] - 0s 570us/step - loss: 0.3184 - val_loss: 0.3260\n",
      "Epoch 49/200\n",
      "630/630 [==============================] - 0s 618us/step - loss: 0.3184 - val_loss: 0.3261\n",
      "Epoch 50/200\n",
      "630/630 [==============================] - 0s 576us/step - loss: 0.3184 - val_loss: 0.3259\n",
      "Epoch 51/200\n",
      "630/630 [==============================] - 0s 554us/step - loss: 0.3184 - val_loss: 0.3261\n",
      "Epoch 52/200\n",
      "630/630 [==============================] - 0s 581us/step - loss: 0.3182 - val_loss: 0.3273\n",
      "Epoch 53/200\n",
      "630/630 [==============================] - 0s 590us/step - loss: 0.3183 - val_loss: 0.3263\n",
      "Epoch 54/200\n",
      "630/630 [==============================] - 0s 571us/step - loss: 0.3182 - val_loss: 0.3264\n",
      "Epoch 55/200\n",
      "630/630 [==============================] - 0s 578us/step - loss: 0.3181 - val_loss: 0.3260\n",
      "Epoch 56/200\n",
      "630/630 [==============================] - 0s 683us/step - loss: 0.3182 - val_loss: 0.3256\n",
      "Epoch 57/200\n",
      "630/630 [==============================] - 0s 570us/step - loss: 0.3181 - val_loss: 0.3265\n",
      "Epoch 58/200\n",
      "630/630 [==============================] - 0s 560us/step - loss: 0.3182 - val_loss: 0.3258\n",
      "Epoch 59/200\n",
      "630/630 [==============================] - 0s 557us/step - loss: 0.3182 - val_loss: 0.3259\n",
      "Epoch 60/200\n",
      "630/630 [==============================] - 0s 561us/step - loss: 0.3182 - val_loss: 0.3270\n",
      "Epoch 61/200\n",
      "630/630 [==============================] - 0s 556us/step - loss: 0.3181 - val_loss: 0.3265\n",
      "Epoch 62/200\n",
      "630/630 [==============================] - 0s 565us/step - loss: 0.3181 - val_loss: 0.3265\n",
      "Epoch 63/200\n",
      "630/630 [==============================] - 0s 560us/step - loss: 0.3184 - val_loss: 0.3261\n",
      "Epoch 64/200\n",
      "630/630 [==============================] - 0s 561us/step - loss: 0.3179 - val_loss: 0.3263\n",
      "Epoch 65/200\n",
      "630/630 [==============================] - 0s 564us/step - loss: 0.3180 - val_loss: 0.3262\n",
      "Epoch 66/200\n",
      "630/630 [==============================] - 0s 571us/step - loss: 0.3180 - val_loss: 0.3257\n",
      "Epoch 67/200\n",
      "630/630 [==============================] - 0s 566us/step - loss: 0.3179 - val_loss: 0.3261\n",
      "Epoch 68/200\n",
      "630/630 [==============================] - 0s 565us/step - loss: 0.3179 - val_loss: 0.3260\n",
      "Epoch 69/200\n",
      "630/630 [==============================] - 0s 566us/step - loss: 0.3178 - val_loss: 0.3259\n",
      "Epoch 70/200\n",
      "630/630 [==============================] - 0s 571us/step - loss: 0.3179 - val_loss: 0.3259\n",
      "Epoch 71/200\n",
      "630/630 [==============================] - 0s 566us/step - loss: 0.3180 - val_loss: 0.3258\n",
      "Epoch 72/200\n",
      "630/630 [==============================] - 0s 558us/step - loss: 0.3177 - val_loss: 0.3263\n",
      "Epoch 73/200\n",
      "630/630 [==============================] - 0s 568us/step - loss: 0.3178 - val_loss: 0.3259\n",
      "Epoch 74/200\n",
      "630/630 [==============================] - 0s 564us/step - loss: 0.3178 - val_loss: 0.3257\n",
      "Epoch 75/200\n",
      "630/630 [==============================] - 0s 564us/step - loss: 0.3178 - val_loss: 0.3259\n",
      "Epoch 76/200\n",
      "630/630 [==============================] - 0s 571us/step - loss: 0.3177 - val_loss: 0.3258\n",
      "Epoch 77/200\n",
      "630/630 [==============================] - 0s 568us/step - loss: 0.3178 - val_loss: 0.3256\n",
      "Epoch 78/200\n",
      "630/630 [==============================] - 0s 563us/step - loss: 0.3179 - val_loss: 0.3263\n",
      "Epoch 79/200\n",
      "630/630 [==============================] - 0s 567us/step - loss: 0.3177 - val_loss: 0.3256\n"
     ]
    },
    {
     "name": "stdout",
     "output_type": "stream",
     "text": [
      "Epoch 80/200\n",
      "630/630 [==============================] - 0s 568us/step - loss: 0.3176 - val_loss: 0.3260\n",
      "Epoch 81/200\n",
      "630/630 [==============================] - 0s 562us/step - loss: 0.3176 - val_loss: 0.3259\n",
      "Epoch 82/200\n",
      "630/630 [==============================] - 0s 554us/step - loss: 0.3176 - val_loss: 0.3265\n",
      "Epoch 83/200\n",
      "630/630 [==============================] - 0s 560us/step - loss: 0.3179 - val_loss: 0.3259\n",
      "Epoch 84/200\n",
      "630/630 [==============================] - 0s 561us/step - loss: 0.3174 - val_loss: 0.3262\n",
      "Epoch 85/200\n",
      "630/630 [==============================] - 0s 563us/step - loss: 0.3176 - val_loss: 0.3258\n",
      "Epoch 86/200\n",
      "630/630 [==============================] - 0s 563us/step - loss: 0.3177 - val_loss: 0.3263\n",
      "Epoch 87/200\n",
      "630/630 [==============================] - 0s 567us/step - loss: 0.3178 - val_loss: 0.3258\n",
      "Epoch 88/200\n",
      "630/630 [==============================] - 0s 568us/step - loss: 0.3175 - val_loss: 0.3267\n",
      "Epoch 89/200\n",
      "630/630 [==============================] - 0s 564us/step - loss: 0.3175 - val_loss: 0.3256\n",
      "Epoch 90/200\n",
      "630/630 [==============================] - 0s 564us/step - loss: 0.3176 - val_loss: 0.3258\n",
      "Epoch 91/200\n",
      "630/630 [==============================] - 0s 562us/step - loss: 0.3174 - val_loss: 0.3260\n",
      "Epoch 92/200\n",
      "630/630 [==============================] - 0s 565us/step - loss: 0.3172 - val_loss: 0.3267\n",
      "Epoch 93/200\n",
      "630/630 [==============================] - 0s 562us/step - loss: 0.3175 - val_loss: 0.3255\n",
      "Epoch 94/200\n",
      "630/630 [==============================] - 0s 574us/step - loss: 0.3176 - val_loss: 0.3264\n",
      "Epoch 95/200\n",
      "630/630 [==============================] - 0s 568us/step - loss: 0.3176 - val_loss: 0.3268\n",
      "Epoch 96/200\n",
      "630/630 [==============================] - 0s 565us/step - loss: 0.3175 - val_loss: 0.3266\n",
      "Epoch 97/200\n",
      "630/630 [==============================] - 0s 567us/step - loss: 0.3176 - val_loss: 0.3262\n",
      "Epoch 98/200\n",
      "630/630 [==============================] - 0s 573us/step - loss: 0.3173 - val_loss: 0.3267\n",
      "Epoch 99/200\n",
      "630/630 [==============================] - 0s 567us/step - loss: 0.3176 - val_loss: 0.3257\n",
      "Epoch 100/200\n",
      "630/630 [==============================] - 0s 572us/step - loss: 0.3176 - val_loss: 0.3263\n",
      "Epoch 101/200\n",
      "630/630 [==============================] - 0s 572us/step - loss: 0.3174 - val_loss: 0.3261\n",
      "Epoch 102/200\n",
      "630/630 [==============================] - 0s 565us/step - loss: 0.3175 - val_loss: 0.3257\n",
      "Epoch 103/200\n",
      "630/630 [==============================] - 0s 569us/step - loss: 0.3176 - val_loss: 0.3273\n",
      "Epoch 104/200\n",
      "630/630 [==============================] - 0s 571us/step - loss: 0.3174 - val_loss: 0.3261\n",
      "Epoch 105/200\n",
      "630/630 [==============================] - 0s 654us/step - loss: 0.3174 - val_loss: 0.3260\n",
      "Epoch 106/200\n",
      "630/630 [==============================] - 0s 565us/step - loss: 0.3174 - val_loss: 0.3257\n",
      "Epoch 107/200\n",
      "630/630 [==============================] - 0s 570us/step - loss: 0.3173 - val_loss: 0.3259\n",
      "Epoch 108/200\n",
      "630/630 [==============================] - 0s 563us/step - loss: 0.3172 - val_loss: 0.3260\n",
      "Epoch 109/200\n",
      "630/630 [==============================] - 0s 572us/step - loss: 0.3174 - val_loss: 0.3257\n",
      "Epoch 110/200\n",
      "630/630 [==============================] - 0s 567us/step - loss: 0.3174 - val_loss: 0.3258\n",
      "Epoch 111/200\n",
      "630/630 [==============================] - 0s 568us/step - loss: 0.3173 - val_loss: 0.3272\n",
      "Epoch 112/200\n",
      "630/630 [==============================] - 0s 577us/step - loss: 0.3171 - val_loss: 0.3261\n",
      "Epoch 113/200\n",
      "630/630 [==============================] - 0s 569us/step - loss: 0.3173 - val_loss: 0.3271\n",
      "Epoch 114/200\n",
      "630/630 [==============================] - 0s 571us/step - loss: 0.3173 - val_loss: 0.3261\n",
      "Epoch 115/200\n",
      "630/630 [==============================] - 0s 573us/step - loss: 0.3174 - val_loss: 0.3263\n",
      "Epoch 116/200\n",
      "630/630 [==============================] - 0s 573us/step - loss: 0.3174 - val_loss: 0.3260\n",
      "Epoch 117/200\n",
      "630/630 [==============================] - 0s 575us/step - loss: 0.3175 - val_loss: 0.3258\n",
      "Epoch 118/200\n",
      "630/630 [==============================] - 0s 579us/step - loss: 0.3172 - val_loss: 0.3275\n",
      "Epoch 119/200\n",
      "630/630 [==============================] - 0s 574us/step - loss: 0.3173 - val_loss: 0.3263\n",
      "Epoch 120/200\n",
      "630/630 [==============================] - 0s 572us/step - loss: 0.3173 - val_loss: 0.3259\n",
      "Epoch 121/200\n",
      "630/630 [==============================] - 0s 575us/step - loss: 0.3172 - val_loss: 0.3271\n",
      "Epoch 122/200\n",
      "630/630 [==============================] - 0s 572us/step - loss: 0.3174 - val_loss: 0.3269\n",
      "Epoch 123/200\n",
      "630/630 [==============================] - 0s 576us/step - loss: 0.3171 - val_loss: 0.3265\n",
      "Epoch 124/200\n",
      "630/630 [==============================] - 0s 569us/step - loss: 0.3172 - val_loss: 0.3257\n",
      "Epoch 125/200\n",
      "630/630 [==============================] - 0s 572us/step - loss: 0.3175 - val_loss: 0.3267\n",
      "Epoch 126/200\n",
      "630/630 [==============================] - 0s 573us/step - loss: 0.3172 - val_loss: 0.3263\n",
      "Epoch 127/200\n",
      "630/630 [==============================] - 0s 574us/step - loss: 0.3173 - val_loss: 0.3266\n",
      "Epoch 128/200\n",
      "630/630 [==============================] - 0s 570us/step - loss: 0.3174 - val_loss: 0.3263\n",
      "Epoch 129/200\n",
      "630/630 [==============================] - 0s 581us/step - loss: 0.3172 - val_loss: 0.3260\n",
      "Epoch 130/200\n",
      "630/630 [==============================] - 0s 614us/step - loss: 0.3171 - val_loss: 0.3264\n",
      "Epoch 131/200\n",
      "630/630 [==============================] - 0s 619us/step - loss: 0.3170 - val_loss: 0.3260\n",
      "Epoch 132/200\n",
      "630/630 [==============================] - 0s 577us/step - loss: 0.3172 - val_loss: 0.3259\n",
      "Epoch 133/200\n",
      "630/630 [==============================] - 0s 661us/step - loss: 0.3171 - val_loss: 0.3257\n",
      "Epoch 134/200\n",
      "630/630 [==============================] - 0s 577us/step - loss: 0.3171 - val_loss: 0.3259\n",
      "Epoch 135/200\n",
      "630/630 [==============================] - 0s 572us/step - loss: 0.3168 - val_loss: 0.3281\n",
      "Epoch 136/200\n",
      "630/630 [==============================] - 0s 579us/step - loss: 0.3172 - val_loss: 0.3266\n",
      "Epoch 137/200\n",
      "630/630 [==============================] - 0s 574us/step - loss: 0.3171 - val_loss: 0.3269\n",
      "Epoch 138/200\n",
      "630/630 [==============================] - 0s 631us/step - loss: 0.3172 - val_loss: 0.3260\n",
      "Epoch 139/200\n",
      "630/630 [==============================] - 0s 599us/step - loss: 0.3169 - val_loss: 0.3257\n",
      "Epoch 140/200\n",
      "630/630 [==============================] - 0s 582us/step - loss: 0.3171 - val_loss: 0.3265\n",
      "Epoch 141/200\n",
      "630/630 [==============================] - 0s 573us/step - loss: 0.3172 - val_loss: 0.3266\n",
      "Epoch 142/200\n",
      "630/630 [==============================] - 0s 578us/step - loss: 0.3171 - val_loss: 0.3274\n",
      "Epoch 143/200\n",
      "630/630 [==============================] - 0s 575us/step - loss: 0.3171 - val_loss: 0.3259\n",
      "Epoch 144/200\n",
      "630/630 [==============================] - 0s 587us/step - loss: 0.3171 - val_loss: 0.3266\n",
      "Epoch 145/200\n",
      "630/630 [==============================] - 0s 584us/step - loss: 0.3169 - val_loss: 0.3263\n",
      "Epoch 146/200\n",
      "630/630 [==============================] - 0s 570us/step - loss: 0.3169 - val_loss: 0.3275\n",
      "Epoch 147/200\n",
      "630/630 [==============================] - 0s 581us/step - loss: 0.3168 - val_loss: 0.3263\n",
      "Epoch 148/200\n",
      "630/630 [==============================] - 0s 576us/step - loss: 0.3170 - val_loss: 0.3269\n",
      "Epoch 149/200\n",
      "630/630 [==============================] - 0s 571us/step - loss: 0.3170 - val_loss: 0.3263\n",
      "Epoch 150/200\n",
      "630/630 [==============================] - 0s 572us/step - loss: 0.3170 - val_loss: 0.3262\n",
      "Epoch 151/200\n",
      "630/630 [==============================] - 0s 580us/step - loss: 0.3169 - val_loss: 0.3269\n",
      "Epoch 152/200\n",
      "630/630 [==============================] - 0s 574us/step - loss: 0.3171 - val_loss: 0.3275\n",
      "Epoch 153/200\n",
      "630/630 [==============================] - 0s 576us/step - loss: 0.3170 - val_loss: 0.3262\n",
      "Epoch 154/200\n",
      "630/630 [==============================] - 0s 580us/step - loss: 0.3170 - val_loss: 0.3271\n",
      "Epoch 155/200\n",
      "630/630 [==============================] - 0s 573us/step - loss: 0.3171 - val_loss: 0.3268\n",
      "Epoch 156/200\n",
      "630/630 [==============================] - 0s 576us/step - loss: 0.3173 - val_loss: 0.3260\n",
      "Epoch 157/200\n",
      "630/630 [==============================] - 0s 581us/step - loss: 0.3169 - val_loss: 0.3263\n",
      "Epoch 158/200\n"
     ]
    },
    {
     "name": "stdout",
     "output_type": "stream",
     "text": [
      "630/630 [==============================] - 0s 603us/step - loss: 0.3168 - val_loss: 0.3259\n",
      "Epoch 159/200\n",
      "630/630 [==============================] - 0s 592us/step - loss: 0.3170 - val_loss: 0.3260\n",
      "Epoch 160/200\n",
      "630/630 [==============================] - 0s 566us/step - loss: 0.3171 - val_loss: 0.3257\n",
      "Epoch 161/200\n",
      "630/630 [==============================] - 0s 569us/step - loss: 0.3168 - val_loss: 0.3262\n",
      "Epoch 162/200\n",
      "630/630 [==============================] - 0s 605us/step - loss: 0.3169 - val_loss: 0.3256\n",
      "Epoch 163/200\n",
      "630/630 [==============================] - 0s 575us/step - loss: 0.3169 - val_loss: 0.3276\n",
      "Epoch 164/200\n",
      "630/630 [==============================] - 0s 586us/step - loss: 0.3169 - val_loss: 0.3263\n",
      "Epoch 165/200\n",
      "630/630 [==============================] - 0s 585us/step - loss: 0.3168 - val_loss: 0.3264\n",
      "Epoch 166/200\n",
      "630/630 [==============================] - 0s 590us/step - loss: 0.3168 - val_loss: 0.3262\n",
      "Epoch 167/200\n",
      "630/630 [==============================] - 0s 590us/step - loss: 0.3169 - val_loss: 0.3261\n",
      "Epoch 168/200\n",
      "630/630 [==============================] - 0s 610us/step - loss: 0.3170 - val_loss: 0.3262\n",
      "Epoch 169/200\n",
      "630/630 [==============================] - 0s 613us/step - loss: 0.3168 - val_loss: 0.3264\n",
      "Epoch 170/200\n",
      "630/630 [==============================] - 0s 608us/step - loss: 0.3166 - val_loss: 0.3264\n",
      "Epoch 171/200\n",
      "630/630 [==============================] - 0s 610us/step - loss: 0.3169 - val_loss: 0.3269\n",
      "Epoch 172/200\n",
      "630/630 [==============================] - 0s 612us/step - loss: 0.3168 - val_loss: 0.3267\n",
      "Epoch 173/200\n",
      "630/630 [==============================] - 0s 607us/step - loss: 0.3171 - val_loss: 0.3260\n",
      "Epoch 174/200\n",
      "630/630 [==============================] - 0s 611us/step - loss: 0.3168 - val_loss: 0.3264\n",
      "Epoch 175/200\n",
      "630/630 [==============================] - 0s 629us/step - loss: 0.3168 - val_loss: 0.3270\n",
      "Epoch 176/200\n",
      "630/630 [==============================] - 0s 626us/step - loss: 0.3169 - val_loss: 0.3272\n",
      "Epoch 177/200\n",
      "630/630 [==============================] - 0s 623us/step - loss: 0.3170 - val_loss: 0.3259\n",
      "Epoch 178/200\n",
      "630/630 [==============================] - 0s 627us/step - loss: 0.3168 - val_loss: 0.3273\n",
      "Epoch 179/200\n",
      "630/630 [==============================] - 0s 625us/step - loss: 0.3171 - val_loss: 0.3261\n",
      "Epoch 180/200\n",
      "630/630 [==============================] - 0s 627us/step - loss: 0.3169 - val_loss: 0.3268\n",
      "Epoch 181/200\n",
      "630/630 [==============================] - 0s 632us/step - loss: 0.3167 - val_loss: 0.3268\n",
      "Epoch 182/200\n",
      "630/630 [==============================] - 0s 615us/step - loss: 0.3170 - val_loss: 0.3262\n",
      "Epoch 183/200\n",
      "630/630 [==============================] - 0s 624us/step - loss: 0.3166 - val_loss: 0.3267\n",
      "Epoch 184/200\n",
      "630/630 [==============================] - 0s 618us/step - loss: 0.3169 - val_loss: 0.3264\n",
      "Epoch 185/200\n",
      "630/630 [==============================] - 0s 628us/step - loss: 0.3167 - val_loss: 0.3264\n",
      "Epoch 186/200\n",
      "630/630 [==============================] - 0s 623us/step - loss: 0.3168 - val_loss: 0.3263\n",
      "Epoch 187/200\n",
      "630/630 [==============================] - 0s 621us/step - loss: 0.3170 - val_loss: 0.3257\n",
      "Epoch 188/200\n",
      "630/630 [==============================] - 0s 610us/step - loss: 0.3169 - val_loss: 0.3259\n",
      "Epoch 189/200\n",
      "630/630 [==============================] - 0s 625us/step - loss: 0.3169 - val_loss: 0.3266\n",
      "Epoch 190/200\n",
      "630/630 [==============================] - 0s 621us/step - loss: 0.3168 - val_loss: 0.3261\n",
      "Epoch 191/200\n",
      "630/630 [==============================] - 0s 613us/step - loss: 0.3166 - val_loss: 0.3260\n",
      "Epoch 192/200\n",
      "630/630 [==============================] - 0s 624us/step - loss: 0.3168 - val_loss: 0.3265\n",
      "Epoch 193/200\n",
      "630/630 [==============================] - 0s 620us/step - loss: 0.3168 - val_loss: 0.3261\n",
      "Epoch 194/200\n",
      "630/630 [==============================] - 0s 647us/step - loss: 0.3169 - val_loss: 0.3257\n",
      "Epoch 195/200\n",
      "630/630 [==============================] - 0s 629us/step - loss: 0.3166 - val_loss: 0.3259\n",
      "Epoch 196/200\n",
      "630/630 [==============================] - 0s 635us/step - loss: 0.3167 - val_loss: 0.3269\n",
      "Epoch 197/200\n",
      "630/630 [==============================] - 0s 632us/step - loss: 0.3169 - val_loss: 0.3263\n",
      "Epoch 198/200\n",
      "630/630 [==============================] - 0s 611us/step - loss: 0.3168 - val_loss: 0.3269\n",
      "Epoch 199/200\n",
      "630/630 [==============================] - 0s 612us/step - loss: 0.3168 - val_loss: 0.3265\n",
      "Epoch 200/200\n",
      "630/630 [==============================] - 0s 604us/step - loss: 0.3168 - val_loss: 0.3259\n"
     ]
    },
    {
     "data": {
      "text/plain": [
       "<tensorflow.python.keras.callbacks.History at 0x7fde411dd040>"
      ]
     },
     "execution_count": 50,
     "metadata": {},
     "output_type": "execute_result"
    }
   ],
   "source": [
    "model_1.fit(x=X_train,y=y_train,epochs=200,validation_data=(X_test,y_test))"
   ]
  },
  {
   "cell_type": "markdown",
   "metadata": {},
   "source": [
    "### Checking loss from model history\n",
    "\n",
    "#### This model is Overfit as the loss increases with further epochs"
   ]
  },
  {
   "cell_type": "code",
   "execution_count": 51,
   "metadata": {},
   "outputs": [],
   "source": [
    "#plot out loss\n",
    "model_1_losses = pd.DataFrame(model_1.history.history)\n"
   ]
  },
  {
   "cell_type": "code",
   "execution_count": 52,
   "metadata": {},
   "outputs": [
    {
     "data": {
      "image/png": "[encoded data removed]",
      "text/plain": [
       "<Figure size 432x288 with 1 Axes>"
      ]
     },
     "metadata": {},
     "output_type": "display_data"
    }
   ],
   "source": [
    "model_1_losses.plot()\n",
    "plt.show()"
   ]
  },
  {
   "cell_type": "markdown",
   "metadata": {},
   "source": [
    "##  Passing X_test into model to get predictions from Model 1"
   ]
  },
  {
   "cell_type": "code",
   "execution_count": 53,
   "metadata": {},
   "outputs": [
    {
     "name": "stdout",
     "output_type": "stream",
     "text": [
      "WARNING:tensorflow:From <ipython-input-53-ff9e0c2f87d7>:1: Sequential.predict_classes (from tensorflow.python.keras.engine.sequential) is deprecated and will be removed after 2021-01-01.\n",
      "Instructions for updating:\n",
      "Please use instead:* `np.argmax(model.predict(x), axis=-1)`,   if your model does multi-class classification   (e.g. if it uses a `softmax` last-layer activation).* `(model.predict(x) > 0.5).astype(\"int32\")`,   if your model does binary classification   (e.g. if it uses a `sigmoid` last-layer activation).\n"
     ]
    }
   ],
   "source": [
    "\n",
    "predictions = model_1.predict_classes(X_test)"
   ]
  },
  {
   "cell_type": "code",
   "execution_count": 54,
   "metadata": {},
   "outputs": [],
   "source": [
    "from sklearn.metrics import classification_report, confusion_matrix"
   ]
  },
  {
   "cell_type": "code",
   "execution_count": 55,
   "metadata": {},
   "outputs": [
    {
     "name": "stdout",
     "output_type": "stream",
     "text": [
      "              precision    recall  f1-score   support\n",
      "\n",
      "           0       0.89      0.99      0.94      5858\n",
      "           1       0.68      0.14      0.24       853\n",
      "\n",
      "    accuracy                           0.88      6711\n",
      "   macro avg       0.78      0.57      0.59      6711\n",
      "weighted avg       0.86      0.88      0.85      6711\n",
      "\n"
     ]
    }
   ],
   "source": [
    "print(classification_report(y_test,predictions))"
   ]
  },
  {
   "cell_type": "code",
   "execution_count": 56,
   "metadata": {},
   "outputs": [
    {
     "name": "stdout",
     "output_type": "stream",
     "text": [
      "[[5799   59]\n",
      " [ 730  123]]\n"
     ]
    }
   ],
   "source": [
    "print(confusion_matrix(y_test,predictions))"
   ]
  },
  {
   "cell_type": "markdown",
   "metadata": {},
   "source": [
    "### Performed slightly better than the  logistic regression model\n",
    "\n",
    "#### This model correctly classified 5799 Non-Upgrade fans out of the 5858 Non-Upgrade Fans (True +) and correctly classified 123 out of the 853 upgrade fans (True -) for an accuracy of 88% <br>\n",
    "#### The False + rate is quite high with 730 upgraders classified as Non-Upgrade Fans and<br>\n",
    "#### 59 Non-Upgrade Fans were classified as Upgrade Fans (False -)"
   ]
  },
  {
   "cell_type": "markdown",
   "metadata": {},
   "source": [
    "## Model 2 Using Early Stopping instead of choosing an arbitrarly chosen epoch"
   ]
  },
  {
   "cell_type": "code",
   "execution_count": 57,
   "metadata": {},
   "outputs": [],
   "source": [
    "### creating new model\n",
    "\n",
    "model_2 = Sequential()\n",
    "\n",
    "model_2.add(Dense(11, activation='relu'))\n",
    "\n",
    "model_2.add(Dense(5, activation='relu'))\n",
    "\n",
    "# Binary Classification\n",
    "model_2.add(Dense(1, activation='sigmoid'))\n",
    "\n",
    "model_2.compile(loss='binary_crossentropy',optimizer='adam')"
   ]
  },
  {
   "cell_type": "code",
   "execution_count": 58,
   "metadata": {},
   "outputs": [],
   "source": [
    "from tensorflow.keras.callbacks import EarlyStopping"
   ]
  },
  {
   "cell_type": "code",
   "execution_count": 59,
   "metadata": {},
   "outputs": [],
   "source": [
    "#Create a early stop variable that will be added as a parameter to model.fit\n",
    "early_stop = EarlyStopping(monitor='val_loss',mode='min',verbose=1,patience=25)"
   ]
  },
  {
   "cell_type": "code",
   "execution_count": 60,
   "metadata": {},
   "outputs": [
    {
     "name": "stdout",
     "output_type": "stream",
     "text": [
      "Epoch 1/200\n",
      "630/630 [==============================] - 0s 645us/step - loss: 0.3996 - val_loss: 0.3441\n",
      "Epoch 2/200\n",
      "630/630 [==============================] - 0s 570us/step - loss: 0.3305 - val_loss: 0.3362\n",
      "Epoch 3/200\n",
      "630/630 [==============================] - 0s 577us/step - loss: 0.3270 - val_loss: 0.3334\n",
      "Epoch 4/200\n",
      "630/630 [==============================] - 0s 567us/step - loss: 0.3255 - val_loss: 0.3315\n",
      "Epoch 5/200\n",
      "630/630 [==============================] - 0s 573us/step - loss: 0.3242 - val_loss: 0.3302\n",
      "Epoch 6/200\n",
      "630/630 [==============================] - 0s 565us/step - loss: 0.3234 - val_loss: 0.3299\n",
      "Epoch 7/200\n",
      "630/630 [==============================] - 0s 572us/step - loss: 0.3228 - val_loss: 0.3283\n",
      "Epoch 8/200\n",
      "630/630 [==============================] - 0s 571us/step - loss: 0.3219 - val_loss: 0.3278\n",
      "Epoch 9/200\n",
      "630/630 [==============================] - 0s 573us/step - loss: 0.3217 - val_loss: 0.3283\n",
      "Epoch 10/200\n",
      "630/630 [==============================] - 0s 575us/step - loss: 0.3210 - val_loss: 0.3275\n",
      "Epoch 11/200\n",
      "630/630 [==============================] - 0s 575us/step - loss: 0.3207 - val_loss: 0.3273\n",
      "Epoch 12/200\n",
      "630/630 [==============================] - 0s 583us/step - loss: 0.3205 - val_loss: 0.3276\n",
      "Epoch 13/200\n",
      "630/630 [==============================] - 0s 587us/step - loss: 0.3202 - val_loss: 0.3276\n",
      "Epoch 14/200\n",
      "630/630 [==============================] - 0s 578us/step - loss: 0.3201 - val_loss: 0.3266\n",
      "Epoch 15/200\n",
      "630/630 [==============================] - 0s 573us/step - loss: 0.3200 - val_loss: 0.3275\n",
      "Epoch 16/200\n",
      "630/630 [==============================] - 0s 574us/step - loss: 0.3197 - val_loss: 0.3263\n",
      "Epoch 17/200\n",
      "630/630 [==============================] - 0s 573us/step - loss: 0.3196 - val_loss: 0.3264\n",
      "Epoch 18/200\n",
      "630/630 [==============================] - 0s 574us/step - loss: 0.3194 - val_loss: 0.3261\n",
      "Epoch 19/200\n",
      "630/630 [==============================] - 0s 574us/step - loss: 0.3193 - val_loss: 0.3257\n",
      "Epoch 20/200\n",
      "630/630 [==============================] - 0s 573us/step - loss: 0.3192 - val_loss: 0.3260\n",
      "Epoch 21/200\n",
      "630/630 [==============================] - 0s 608us/step - loss: 0.3193 - val_loss: 0.3260\n",
      "Epoch 22/200\n",
      "630/630 [==============================] - 0s 576us/step - loss: 0.3193 - val_loss: 0.3262\n",
      "Epoch 23/200\n",
      "630/630 [==============================] - 0s 569us/step - loss: 0.3190 - val_loss: 0.3261\n",
      "Epoch 24/200\n",
      "630/630 [==============================] - 0s 575us/step - loss: 0.3187 - val_loss: 0.3263\n",
      "Epoch 25/200\n",
      "630/630 [==============================] - 0s 577us/step - loss: 0.3191 - val_loss: 0.3257\n",
      "Epoch 26/200\n",
      "630/630 [==============================] - 0s 576us/step - loss: 0.3186 - val_loss: 0.3275\n",
      "Epoch 27/200\n",
      "630/630 [==============================] - 0s 581us/step - loss: 0.3190 - val_loss: 0.3268\n",
      "Epoch 28/200\n",
      "630/630 [==============================] - 0s 581us/step - loss: 0.3187 - val_loss: 0.3283\n",
      "Epoch 29/200\n",
      "630/630 [==============================] - 0s 575us/step - loss: 0.3187 - val_loss: 0.3260\n",
      "Epoch 30/200\n",
      "630/630 [==============================] - 0s 583us/step - loss: 0.3186 - val_loss: 0.3261\n",
      "Epoch 31/200\n",
      "630/630 [==============================] - 0s 578us/step - loss: 0.3187 - val_loss: 0.3272\n",
      "Epoch 32/200\n",
      "630/630 [==============================] - 0s 581us/step - loss: 0.3182 - val_loss: 0.3284\n",
      "Epoch 33/200\n",
      "630/630 [==============================] - 0s 575us/step - loss: 0.3185 - val_loss: 0.3265\n",
      "Epoch 34/200\n",
      "630/630 [==============================] - 0s 587us/step - loss: 0.3185 - val_loss: 0.3263\n",
      "Epoch 35/200\n",
      "630/630 [==============================] - 0s 611us/step - loss: 0.3183 - val_loss: 0.3259\n",
      "Epoch 36/200\n",
      "630/630 [==============================] - 0s 584us/step - loss: 0.3186 - val_loss: 0.3257\n",
      "Epoch 37/200\n",
      "630/630 [==============================] - 0s 614us/step - loss: 0.3187 - val_loss: 0.3262\n",
      "Epoch 38/200\n",
      "630/630 [==============================] - 0s 630us/step - loss: 0.3182 - val_loss: 0.3269\n",
      "Epoch 39/200\n",
      "630/630 [==============================] - 0s 580us/step - loss: 0.3182 - val_loss: 0.3277\n",
      "Epoch 40/200\n",
      "630/630 [==============================] - 0s 576us/step - loss: 0.3184 - val_loss: 0.3270\n",
      "Epoch 41/200\n",
      "630/630 [==============================] - 0s 584us/step - loss: 0.3185 - val_loss: 0.3264\n",
      "Epoch 42/200\n",
      "630/630 [==============================] - 0s 611us/step - loss: 0.3182 - val_loss: 0.3283\n",
      "Epoch 43/200\n",
      "630/630 [==============================] - 0s 611us/step - loss: 0.3181 - val_loss: 0.3269\n",
      "Epoch 44/200\n",
      "630/630 [==============================] - 0s 585us/step - loss: 0.3181 - val_loss: 0.3273\n",
      "Epoch 45/200\n",
      "630/630 [==============================] - 0s 579us/step - loss: 0.3183 - val_loss: 0.3263\n",
      "Epoch 46/200\n",
      "630/630 [==============================] - 0s 577us/step - loss: 0.3182 - val_loss: 0.3258\n",
      "Epoch 47/200\n",
      "630/630 [==============================] - 0s 585us/step - loss: 0.3182 - val_loss: 0.3259\n",
      "Epoch 48/200\n",
      "630/630 [==============================] - 0s 576us/step - loss: 0.3182 - val_loss: 0.3259\n",
      "Epoch 49/200\n",
      "630/630 [==============================] - 0s 579us/step - loss: 0.3182 - val_loss: 0.3259\n",
      "Epoch 50/200\n",
      "630/630 [==============================] - 0s 575us/step - loss: 0.3180 - val_loss: 0.3255\n",
      "Epoch 51/200\n",
      "630/630 [==============================] - 0s 588us/step - loss: 0.3181 - val_loss: 0.3261\n",
      "Epoch 52/200\n",
      "630/630 [==============================] - 0s 585us/step - loss: 0.3181 - val_loss: 0.3259\n",
      "Epoch 53/200\n",
      "630/630 [==============================] - 0s 586us/step - loss: 0.3183 - val_loss: 0.3257\n",
      "Epoch 54/200\n",
      "630/630 [==============================] - 0s 578us/step - loss: 0.3182 - val_loss: 0.3277\n",
      "Epoch 55/200\n",
      "630/630 [==============================] - 0s 583us/step - loss: 0.3181 - val_loss: 0.3258\n",
      "Epoch 56/200\n",
      "630/630 [==============================] - 0s 587us/step - loss: 0.3180 - val_loss: 0.3258\n",
      "Epoch 57/200\n",
      "630/630 [==============================] - 0s 599us/step - loss: 0.3180 - val_loss: 0.3264\n",
      "Epoch 58/200\n",
      "630/630 [==============================] - 0s 594us/step - loss: 0.3180 - val_loss: 0.3263\n",
      "Epoch 59/200\n",
      "630/630 [==============================] - 0s 584us/step - loss: 0.3180 - val_loss: 0.3261\n",
      "Epoch 60/200\n",
      "630/630 [==============================] - 0s 585us/step - loss: 0.3179 - val_loss: 0.3263\n",
      "Epoch 61/200\n",
      "630/630 [==============================] - 0s 594us/step - loss: 0.3181 - val_loss: 0.3265\n",
      "Epoch 62/200\n",
      "630/630 [==============================] - 0s 618us/step - loss: 0.3181 - val_loss: 0.3264\n",
      "Epoch 63/200\n",
      "630/630 [==============================] - 0s 589us/step - loss: 0.3176 - val_loss: 0.3265\n",
      "Epoch 64/200\n",
      "630/630 [==============================] - 0s 584us/step - loss: 0.3179 - val_loss: 0.3258\n",
      "Epoch 65/200\n",
      "630/630 [==============================] - 0s 598us/step - loss: 0.3178 - val_loss: 0.3277\n",
      "Epoch 66/200\n",
      "630/630 [==============================] - 0s 588us/step - loss: 0.3181 - val_loss: 0.3256\n",
      "Epoch 67/200\n",
      "630/630 [==============================] - 0s 592us/step - loss: 0.3179 - val_loss: 0.3259\n",
      "Epoch 68/200\n",
      "630/630 [==============================] - 0s 591us/step - loss: 0.3179 - val_loss: 0.3273\n",
      "Epoch 69/200\n",
      "630/630 [==============================] - 0s 605us/step - loss: 0.3176 - val_loss: 0.3279\n",
      "Epoch 70/200\n",
      "630/630 [==============================] - 0s 589us/step - loss: 0.3178 - val_loss: 0.3261\n",
      "Epoch 71/200\n",
      "630/630 [==============================] - 0s 583us/step - loss: 0.3177 - val_loss: 0.3260\n",
      "Epoch 72/200\n",
      "630/630 [==============================] - 0s 593us/step - loss: 0.3177 - val_loss: 0.3262\n",
      "Epoch 73/200\n",
      "630/630 [==============================] - 0s 589us/step - loss: 0.3178 - val_loss: 0.3275\n",
      "Epoch 74/200\n",
      "630/630 [==============================] - 0s 592us/step - loss: 0.3177 - val_loss: 0.3257\n",
      "Epoch 75/200\n",
      "630/630 [==============================] - 0s 591us/step - loss: 0.3180 - val_loss: 0.3260\n",
      "Epoch 00075: early stopping\n"
     ]
    },
    {
     "data": {
      "text/plain": [
       "<tensorflow.python.keras.callbacks.History at 0x7fde109bf400>"
      ]
     },
     "execution_count": 60,
     "metadata": {},
     "output_type": "execute_result"
    }
   ],
   "source": [
    "model_2.fit(x=X_train,y=y_train,epochs=200,validation_data=(X_test,y_test),callbacks=[early_stop])"
   ]
  },
  {
   "cell_type": "markdown",
   "metadata": {},
   "source": [
    "## Early Stopping -to track the val_loss and stop training once it begins increasing too much!\n",
    "\n",
    "Arguments:\n",
    "    monitor: Quantity to be monitored.<br>\n",
    "    min_delta: Minimum change in the monitored quantity\n",
    "        to qualify as an improvement, i.e. an absolute\n",
    "        change of less than min_delta, will count as no\n",
    "        improvement.<br>\n",
    "    patience: Number of epochs with no improvement\n",
    "        after which training will be stopped. <br>\n",
    "    verbose: verbosity mode.\n",
    "    mode: One of `{\"auto\", \"min\", \"max\"}`. In `min` mode,\n",
    "        training will stop when the quantity\n",
    "        monitored has stopped decreasing; in `max`\n",
    "        mode it will stop when the quantity\n",
    "        monitored has stopped increasing; in `auto`\n",
    "        mode, the direction is automatically inferred\n",
    "        from the name of the monitored quantity."
   ]
  },
  {
   "cell_type": "code",
   "execution_count": 61,
   "metadata": {},
   "outputs": [
    {
     "data": {
      "text/plain": [
       "<matplotlib.axes._subplots.AxesSubplot at 0x7fde413468b0>"
      ]
     },
     "execution_count": 61,
     "metadata": {},
     "output_type": "execute_result"
    },
    {
     "data": {
      "image/png": "[encoded data removed]",
      "text/plain": [
       "<Figure size 432x288 with 1 Axes>"
      ]
     },
     "metadata": {},
     "output_type": "display_data"
    }
   ],
   "source": [
    "model_2_losses=pd.DataFrame(model_2.history.history)\n",
    "model_2_losses.plot()"
   ]
  },
  {
   "cell_type": "markdown",
   "metadata": {},
   "source": [
    "### Stopped after  75 epochs"
   ]
  },
  {
   "cell_type": "code",
   "execution_count": 62,
   "metadata": {},
   "outputs": [],
   "source": [
    "#Passing X_test into model\n",
    "predictions2 = model_2.predict_classes(X_test)"
   ]
  },
  {
   "cell_type": "code",
   "execution_count": 63,
   "metadata": {},
   "outputs": [],
   "source": [
    "from sklearn.metrics import classification_report, confusion_matrix"
   ]
  },
  {
   "cell_type": "code",
   "execution_count": 64,
   "metadata": {},
   "outputs": [
    {
     "name": "stdout",
     "output_type": "stream",
     "text": [
      "              precision    recall  f1-score   support\n",
      "\n",
      "           0       0.89      0.99      0.94      5858\n",
      "           1       0.70      0.13      0.22       853\n",
      "\n",
      "    accuracy                           0.88      6711\n",
      "   macro avg       0.79      0.56      0.58      6711\n",
      "weighted avg       0.86      0.88      0.85      6711\n",
      "\n"
     ]
    }
   ],
   "source": [
    "print(classification_report(y_test,predictions2))"
   ]
  },
  {
   "cell_type": "code",
   "execution_count": 65,
   "metadata": {},
   "outputs": [
    {
     "name": "stdout",
     "output_type": "stream",
     "text": [
      "[[5809   49]\n",
      " [ 739  114]]\n"
     ]
    }
   ],
   "source": [
    "print(confusion_matrix(y_test,predictions2))"
   ]
  },
  {
   "cell_type": "markdown",
   "metadata": {},
   "source": [
    "### This model which utilized early stopping after 75 epochs improved slightly upon the previous model by reducing the validation loss a bit\n",
    "\n",
    "#### This model correctly identified 5809 non-upgrading fans out of the total 5858 fans (True +) and <br> \n",
    "#### Correctly identified 114  of the upgraders as upgrading fans (True -) for an accuracy of 88%, but <br>\n",
    "#### The model incorrectly classified 739 fans that upgraded as non-upgraders (False +) and incorrectly classified 49 non-upgraded fans as Upgraders (False -)"
   ]
  },
  {
   "cell_type": "markdown",
   "metadata": {},
   "source": [
    "### 3rd thing we could do is to add in drop out layers that essentially turn off a % of neurons randomly\n",
    "#### Creating new model drop out layers example,\n",
    "#### The rate used below 0.5 , means turn off 1/2 neurons in each step "
   ]
  },
  {
   "cell_type": "code",
   "execution_count": 66,
   "metadata": {},
   "outputs": [],
   "source": [
    "from tensorflow.keras.layers import Dropout"
   ]
  },
  {
   "cell_type": "code",
   "execution_count": 67,
   "metadata": {},
   "outputs": [],
   "source": [
    "model_3 = Sequential()\n",
    "model_3.add(Dense(units=11,activation='relu'))\n",
    "model_3.add(Dropout(0.5))\n",
    "\n",
    "model_3.add(Dense(units=5,activation='relu'))\n",
    "model_3.add(Dropout(0.5))\n",
    "\n",
    "model_3.add(Dense(units=1,activation='sigmoid'))\n",
    "model_3.compile(loss='binary_crossentropy', optimizer='adam')"
   ]
  },
  {
   "cell_type": "code",
   "execution_count": 68,
   "metadata": {},
   "outputs": [
    {
     "name": "stdout",
     "output_type": "stream",
     "text": [
      "Epoch 1/200\n",
      "630/630 [==============================] - 0s 677us/step - loss: 0.5033 - val_loss: 0.3757\n",
      "Epoch 2/200\n",
      "630/630 [==============================] - 0s 581us/step - loss: 0.4040 - val_loss: 0.3522\n",
      "Epoch 3/200\n",
      "630/630 [==============================] - 0s 584us/step - loss: 0.3785 - val_loss: 0.3530\n",
      "Epoch 4/200\n",
      "630/630 [==============================] - 0s 585us/step - loss: 0.3661 - val_loss: 0.3507\n",
      "Epoch 5/200\n",
      "630/630 [==============================] - 0s 583us/step - loss: 0.3604 - val_loss: 0.3504\n",
      "Epoch 6/200\n",
      "630/630 [==============================] - 0s 579us/step - loss: 0.3602 - val_loss: 0.3521\n",
      "Epoch 7/200\n",
      "630/630 [==============================] - 0s 611us/step - loss: 0.3603 - val_loss: 0.3537\n",
      "Epoch 8/200\n",
      "630/630 [==============================] - 0s 606us/step - loss: 0.3574 - val_loss: 0.3538\n",
      "Epoch 9/200\n",
      "630/630 [==============================] - 0s 585us/step - loss: 0.3568 - val_loss: 0.3546\n",
      "Epoch 10/200\n",
      "630/630 [==============================] - 0s 583us/step - loss: 0.3554 - val_loss: 0.3544\n",
      "Epoch 11/200\n",
      "630/630 [==============================] - 0s 584us/step - loss: 0.3557 - val_loss: 0.3544\n",
      "Epoch 12/200\n",
      "630/630 [==============================] - 0s 584us/step - loss: 0.3556 - val_loss: 0.3547\n",
      "Epoch 13/200\n",
      "630/630 [==============================] - 0s 582us/step - loss: 0.3545 - val_loss: 0.3550\n",
      "Epoch 14/200\n",
      "630/630 [==============================] - 0s 583us/step - loss: 0.3536 - val_loss: 0.3540\n",
      "Epoch 15/200\n",
      "630/630 [==============================] - 0s 579us/step - loss: 0.3527 - val_loss: 0.3524\n",
      "Epoch 16/200\n",
      "630/630 [==============================] - 0s 590us/step - loss: 0.3529 - val_loss: 0.3514\n",
      "Epoch 17/200\n",
      "630/630 [==============================] - 0s 581us/step - loss: 0.3500 - val_loss: 0.3491\n",
      "Epoch 18/200\n",
      "630/630 [==============================] - 0s 583us/step - loss: 0.3519 - val_loss: 0.3512\n",
      "Epoch 19/200\n",
      "630/630 [==============================] - 0s 588us/step - loss: 0.3505 - val_loss: 0.3506\n",
      "Epoch 20/200\n",
      "630/630 [==============================] - 0s 583us/step - loss: 0.3509 - val_loss: 0.3493\n",
      "Epoch 21/200\n",
      "630/630 [==============================] - 0s 585us/step - loss: 0.3509 - val_loss: 0.3488\n",
      "Epoch 22/200\n",
      "630/630 [==============================] - 0s 590us/step - loss: 0.3524 - val_loss: 0.3500\n",
      "Epoch 23/200\n",
      "630/630 [==============================] - 0s 584us/step - loss: 0.3487 - val_loss: 0.3472\n",
      "Epoch 24/200\n",
      "630/630 [==============================] - 0s 590us/step - loss: 0.3499 - val_loss: 0.3477\n",
      "Epoch 25/200\n",
      "630/630 [==============================] - 0s 591us/step - loss: 0.3496 - val_loss: 0.3480\n",
      "Epoch 26/200\n",
      "630/630 [==============================] - 0s 590us/step - loss: 0.3505 - val_loss: 0.3474\n",
      "Epoch 27/200\n",
      "630/630 [==============================] - 0s 607us/step - loss: 0.3490 - val_loss: 0.3476\n",
      "Epoch 28/200\n",
      "630/630 [==============================] - 0s 634us/step - loss: 0.3486 - val_loss: 0.3478\n",
      "Epoch 29/200\n",
      "630/630 [==============================] - 0s 608us/step - loss: 0.3496 - val_loss: 0.3471\n",
      "Epoch 30/200\n",
      "630/630 [==============================] - 0s 592us/step - loss: 0.3514 - val_loss: 0.3474\n",
      "Epoch 31/200\n",
      "630/630 [==============================] - 0s 586us/step - loss: 0.3500 - val_loss: 0.3463\n",
      "Epoch 32/200\n",
      "630/630 [==============================] - 0s 667us/step - loss: 0.3486 - val_loss: 0.3463\n",
      "Epoch 33/200\n",
      "630/630 [==============================] - 0s 609us/step - loss: 0.3489 - val_loss: 0.3441\n",
      "Epoch 34/200\n",
      "630/630 [==============================] - 0s 615us/step - loss: 0.3474 - val_loss: 0.3451\n",
      "Epoch 35/200\n",
      "630/630 [==============================] - 0s 604us/step - loss: 0.3474 - val_loss: 0.3456\n",
      "Epoch 36/200\n",
      "630/630 [==============================] - 0s 599us/step - loss: 0.3474 - val_loss: 0.3443\n",
      "Epoch 37/200\n",
      "630/630 [==============================] - 0s 596us/step - loss: 0.3472 - val_loss: 0.3448\n",
      "Epoch 38/200\n",
      "630/630 [==============================] - 0s 609us/step - loss: 0.3478 - val_loss: 0.3456\n",
      "Epoch 39/200\n",
      "630/630 [==============================] - 0s 607us/step - loss: 0.3485 - val_loss: 0.3445\n",
      "Epoch 40/200\n",
      "630/630 [==============================] - 0s 663us/step - loss: 0.3474 - val_loss: 0.3443\n",
      "Epoch 41/200\n",
      "630/630 [==============================] - 0s 595us/step - loss: 0.3476 - val_loss: 0.3445\n",
      "Epoch 42/200\n",
      "630/630 [==============================] - 0s 598us/step - loss: 0.3470 - val_loss: 0.3431\n",
      "Epoch 43/200\n",
      "630/630 [==============================] - 0s 620us/step - loss: 0.3462 - val_loss: 0.3428\n",
      "Epoch 44/200\n",
      "630/630 [==============================] - 0s 603us/step - loss: 0.3460 - val_loss: 0.3424\n",
      "Epoch 45/200\n",
      "630/630 [==============================] - 0s 621us/step - loss: 0.3471 - val_loss: 0.3442\n",
      "Epoch 46/200\n",
      "630/630 [==============================] - 0s 601us/step - loss: 0.3472 - val_loss: 0.3447\n",
      "Epoch 47/200\n",
      "630/630 [==============================] - 0s 608us/step - loss: 0.3463 - val_loss: 0.3432\n",
      "Epoch 48/200\n",
      "630/630 [==============================] - 0s 605us/step - loss: 0.3450 - val_loss: 0.3414\n",
      "Epoch 49/200\n",
      "630/630 [==============================] - 0s 596us/step - loss: 0.3453 - val_loss: 0.3430\n",
      "Epoch 50/200\n",
      "630/630 [==============================] - 0s 601us/step - loss: 0.3456 - val_loss: 0.3414\n",
      "Epoch 51/200\n",
      "630/630 [==============================] - 0s 599us/step - loss: 0.3448 - val_loss: 0.3444\n",
      "Epoch 52/200\n",
      "630/630 [==============================] - 0s 598us/step - loss: 0.3475 - val_loss: 0.3453\n",
      "Epoch 53/200\n",
      "630/630 [==============================] - 0s 607us/step - loss: 0.3454 - val_loss: 0.3423\n",
      "Epoch 54/200\n",
      "630/630 [==============================] - 0s 602us/step - loss: 0.3462 - val_loss: 0.3438\n",
      "Epoch 55/200\n",
      "630/630 [==============================] - 0s 632us/step - loss: 0.3457 - val_loss: 0.3420\n",
      "Epoch 56/200\n",
      "630/630 [==============================] - 0s 606us/step - loss: 0.3467 - val_loss: 0.3434\n",
      "Epoch 57/200\n",
      "630/630 [==============================] - 0s 599us/step - loss: 0.3460 - val_loss: 0.3429\n",
      "Epoch 58/200\n",
      "630/630 [==============================] - 0s 627us/step - loss: 0.3451 - val_loss: 0.3424\n",
      "Epoch 59/200\n",
      "630/630 [==============================] - 0s 616us/step - loss: 0.3453 - val_loss: 0.3428\n",
      "Epoch 60/200\n",
      "630/630 [==============================] - 0s 599us/step - loss: 0.3457 - val_loss: 0.3423\n",
      "Epoch 61/200\n",
      "630/630 [==============================] - 0s 606us/step - loss: 0.3476 - val_loss: 0.3436\n",
      "Epoch 62/200\n",
      "630/630 [==============================] - 0s 604us/step - loss: 0.3449 - val_loss: 0.3418\n",
      "Epoch 63/200\n",
      "630/630 [==============================] - 0s 599us/step - loss: 0.3447 - val_loss: 0.3423\n",
      "Epoch 64/200\n",
      "630/630 [==============================] - 0s 599us/step - loss: 0.3450 - val_loss: 0.3419\n",
      "Epoch 65/200\n",
      "630/630 [==============================] - 0s 599us/step - loss: 0.3449 - val_loss: 0.3411\n",
      "Epoch 66/200\n",
      "630/630 [==============================] - 0s 600us/step - loss: 0.3468 - val_loss: 0.3424\n",
      "Epoch 67/200\n",
      "630/630 [==============================] - 0s 601us/step - loss: 0.3451 - val_loss: 0.3438\n",
      "Epoch 68/200\n",
      "630/630 [==============================] - 0s 603us/step - loss: 0.3435 - val_loss: 0.3407\n",
      "Epoch 69/200\n",
      "630/630 [==============================] - 0s 603us/step - loss: 0.3458 - val_loss: 0.3427\n",
      "Epoch 70/200\n",
      "630/630 [==============================] - 0s 596us/step - loss: 0.3466 - val_loss: 0.3420\n",
      "Epoch 71/200\n",
      "630/630 [==============================] - 0s 623us/step - loss: 0.3452 - val_loss: 0.3431\n",
      "Epoch 72/200\n",
      "630/630 [==============================] - 0s 600us/step - loss: 0.3471 - val_loss: 0.3427\n",
      "Epoch 73/200\n",
      "630/630 [==============================] - 0s 606us/step - loss: 0.3453 - val_loss: 0.3427\n",
      "Epoch 74/200\n",
      "630/630 [==============================] - 0s 601us/step - loss: 0.3452 - val_loss: 0.3419\n",
      "Epoch 75/200\n",
      "630/630 [==============================] - 0s 608us/step - loss: 0.3444 - val_loss: 0.3416\n",
      "Epoch 76/200\n",
      "630/630 [==============================] - 0s 609us/step - loss: 0.3438 - val_loss: 0.3412\n",
      "Epoch 77/200\n",
      "630/630 [==============================] - 0s 603us/step - loss: 0.3470 - val_loss: 0.3428\n",
      "Epoch 78/200\n",
      "630/630 [==============================] - 0s 598us/step - loss: 0.3459 - val_loss: 0.3425\n",
      "Epoch 79/200\n",
      "630/630 [==============================] - 0s 588us/step - loss: 0.3467 - val_loss: 0.3424\n"
     ]
    },
    {
     "name": "stdout",
     "output_type": "stream",
     "text": [
      "Epoch 80/200\n",
      "630/630 [==============================] - 0s 621us/step - loss: 0.3458 - val_loss: 0.3410\n",
      "Epoch 81/200\n",
      "630/630 [==============================] - 0s 584us/step - loss: 0.3463 - val_loss: 0.3416\n",
      "Epoch 82/200\n",
      "630/630 [==============================] - 0s 602us/step - loss: 0.3436 - val_loss: 0.3421\n",
      "Epoch 83/200\n",
      "630/630 [==============================] - 0s 591us/step - loss: 0.3450 - val_loss: 0.3414\n",
      "Epoch 84/200\n",
      "630/630 [==============================] - 0s 603us/step - loss: 0.3445 - val_loss: 0.3421\n",
      "Epoch 85/200\n",
      "630/630 [==============================] - 0s 576us/step - loss: 0.3433 - val_loss: 0.3427\n",
      "Epoch 86/200\n",
      "630/630 [==============================] - 0s 660us/step - loss: 0.3460 - val_loss: 0.3426\n",
      "Epoch 87/200\n",
      "630/630 [==============================] - 0s 598us/step - loss: 0.3453 - val_loss: 0.3409\n",
      "Epoch 88/200\n",
      "630/630 [==============================] - 0s 572us/step - loss: 0.3453 - val_loss: 0.3416\n",
      "Epoch 89/200\n",
      "630/630 [==============================] - 0s 590us/step - loss: 0.3447 - val_loss: 0.3419\n",
      "Epoch 90/200\n",
      "630/630 [==============================] - 0s 571us/step - loss: 0.3427 - val_loss: 0.3399\n",
      "Epoch 91/200\n",
      "630/630 [==============================] - 0s 591us/step - loss: 0.3447 - val_loss: 0.3402\n",
      "Epoch 92/200\n",
      "630/630 [==============================] - 0s 599us/step - loss: 0.3460 - val_loss: 0.3400\n",
      "Epoch 93/200\n",
      "630/630 [==============================] - 0s 578us/step - loss: 0.3440 - val_loss: 0.3401\n",
      "Epoch 94/200\n",
      "630/630 [==============================] - 0s 585us/step - loss: 0.3461 - val_loss: 0.3410\n",
      "Epoch 95/200\n",
      "630/630 [==============================] - 0s 577us/step - loss: 0.3446 - val_loss: 0.3407\n",
      "Epoch 96/200\n",
      "630/630 [==============================] - 0s 572us/step - loss: 0.3458 - val_loss: 0.3422\n",
      "Epoch 97/200\n",
      "630/630 [==============================] - 0s 577us/step - loss: 0.3443 - val_loss: 0.3419\n",
      "Epoch 98/200\n",
      "630/630 [==============================] - 0s 576us/step - loss: 0.3448 - val_loss: 0.3403\n",
      "Epoch 99/200\n",
      "630/630 [==============================] - 0s 574us/step - loss: 0.3456 - val_loss: 0.3413\n",
      "Epoch 100/200\n",
      "630/630 [==============================] - 0s 591us/step - loss: 0.3479 - val_loss: 0.3421\n",
      "Epoch 101/200\n",
      "630/630 [==============================] - 0s 580us/step - loss: 0.3446 - val_loss: 0.3428\n",
      "Epoch 102/200\n",
      "630/630 [==============================] - 0s 582us/step - loss: 0.3450 - val_loss: 0.3410\n",
      "Epoch 103/200\n",
      "630/630 [==============================] - 0s 573us/step - loss: 0.3455 - val_loss: 0.3413\n",
      "Epoch 104/200\n",
      "630/630 [==============================] - 0s 580us/step - loss: 0.3463 - val_loss: 0.3432\n",
      "Epoch 105/200\n",
      "630/630 [==============================] - 0s 582us/step - loss: 0.3429 - val_loss: 0.3407\n",
      "Epoch 106/200\n",
      "630/630 [==============================] - 0s 589us/step - loss: 0.3429 - val_loss: 0.3422\n",
      "Epoch 107/200\n",
      "630/630 [==============================] - 0s 576us/step - loss: 0.3475 - val_loss: 0.3432\n",
      "Epoch 108/200\n",
      "630/630 [==============================] - 0s 585us/step - loss: 0.3458 - val_loss: 0.3417\n",
      "Epoch 109/200\n",
      "630/630 [==============================] - 0s 613us/step - loss: 0.3452 - val_loss: 0.3429\n",
      "Epoch 110/200\n",
      "630/630 [==============================] - 0s 625us/step - loss: 0.3464 - val_loss: 0.3409\n",
      "Epoch 111/200\n",
      "630/630 [==============================] - 0s 577us/step - loss: 0.3444 - val_loss: 0.3404\n",
      "Epoch 112/200\n",
      "630/630 [==============================] - 0s 627us/step - loss: 0.3446 - val_loss: 0.3413\n",
      "Epoch 113/200\n",
      "630/630 [==============================] - 0s 628us/step - loss: 0.3465 - val_loss: 0.3426\n",
      "Epoch 114/200\n",
      "630/630 [==============================] - 0s 572us/step - loss: 0.3426 - val_loss: 0.3399\n",
      "Epoch 115/200\n",
      "630/630 [==============================] - 0s 588us/step - loss: 0.3450 - val_loss: 0.3420\n",
      "Epoch 116/200\n",
      "630/630 [==============================] - 0s 594us/step - loss: 0.3434 - val_loss: 0.3412\n",
      "Epoch 117/200\n",
      "630/630 [==============================] - 0s 581us/step - loss: 0.3449 - val_loss: 0.3418\n",
      "Epoch 118/200\n",
      "630/630 [==============================] - 0s 579us/step - loss: 0.3456 - val_loss: 0.3404\n",
      "Epoch 119/200\n",
      "630/630 [==============================] - 0s 596us/step - loss: 0.3452 - val_loss: 0.3406\n",
      "Epoch 120/200\n",
      "630/630 [==============================] - 0s 585us/step - loss: 0.3465 - val_loss: 0.3449\n",
      "Epoch 121/200\n",
      "630/630 [==============================] - 0s 579us/step - loss: 0.3441 - val_loss: 0.3414\n",
      "Epoch 122/200\n",
      "630/630 [==============================] - 0s 580us/step - loss: 0.3453 - val_loss: 0.3414\n",
      "Epoch 123/200\n",
      "630/630 [==============================] - 0s 589us/step - loss: 0.3446 - val_loss: 0.3423\n",
      "Epoch 124/200\n",
      "630/630 [==============================] - 0s 589us/step - loss: 0.3436 - val_loss: 0.3404\n",
      "Epoch 125/200\n",
      "630/630 [==============================] - 0s 574us/step - loss: 0.3466 - val_loss: 0.3444\n",
      "Epoch 126/200\n",
      "630/630 [==============================] - 0s 592us/step - loss: 0.3447 - val_loss: 0.3419\n",
      "Epoch 127/200\n",
      "630/630 [==============================] - 0s 591us/step - loss: 0.3478 - val_loss: 0.3435\n",
      "Epoch 128/200\n",
      "630/630 [==============================] - 0s 599us/step - loss: 0.3424 - val_loss: 0.3408\n",
      "Epoch 129/200\n",
      "630/630 [==============================] - 0s 589us/step - loss: 0.3478 - val_loss: 0.3424\n",
      "Epoch 130/200\n",
      "630/630 [==============================] - 0s 595us/step - loss: 0.3459 - val_loss: 0.3422\n",
      "Epoch 131/200\n",
      "630/630 [==============================] - 0s 592us/step - loss: 0.3447 - val_loss: 0.3421\n",
      "Epoch 132/200\n",
      "630/630 [==============================] - 0s 598us/step - loss: 0.3422 - val_loss: 0.3385\n",
      "Epoch 133/200\n",
      "630/630 [==============================] - 0s 594us/step - loss: 0.3462 - val_loss: 0.3418\n",
      "Epoch 134/200\n",
      "630/630 [==============================] - 0s 607us/step - loss: 0.3439 - val_loss: 0.3413\n",
      "Epoch 135/200\n",
      "630/630 [==============================] - 0s 580us/step - loss: 0.3463 - val_loss: 0.3413\n",
      "Epoch 136/200\n",
      "630/630 [==============================] - 0s 581us/step - loss: 0.3455 - val_loss: 0.3429\n",
      "Epoch 137/200\n",
      "630/630 [==============================] - 0s 588us/step - loss: 0.3465 - val_loss: 0.3432\n",
      "Epoch 138/200\n",
      "630/630 [==============================] - 0s 595us/step - loss: 0.3441 - val_loss: 0.3433\n",
      "Epoch 139/200\n",
      "630/630 [==============================] - 0s 582us/step - loss: 0.3464 - val_loss: 0.3426\n",
      "Epoch 140/200\n",
      "630/630 [==============================] - 0s 680us/step - loss: 0.3449 - val_loss: 0.3409\n",
      "Epoch 141/200\n",
      "630/630 [==============================] - 0s 590us/step - loss: 0.3467 - val_loss: 0.3409\n",
      "Epoch 142/200\n",
      "630/630 [==============================] - 0s 584us/step - loss: 0.3456 - val_loss: 0.3422\n",
      "Epoch 143/200\n",
      "630/630 [==============================] - 0s 589us/step - loss: 0.3463 - val_loss: 0.3407\n",
      "Epoch 144/200\n",
      "630/630 [==============================] - 0s 593us/step - loss: 0.3441 - val_loss: 0.3417\n",
      "Epoch 145/200\n",
      "630/630 [==============================] - 0s 594us/step - loss: 0.3465 - val_loss: 0.3428\n",
      "Epoch 146/200\n",
      "630/630 [==============================] - 0s 591us/step - loss: 0.3446 - val_loss: 0.3417\n",
      "Epoch 147/200\n",
      "630/630 [==============================] - 0s 591us/step - loss: 0.3456 - val_loss: 0.3411\n",
      "Epoch 148/200\n",
      "630/630 [==============================] - 0s 589us/step - loss: 0.3423 - val_loss: 0.3414\n",
      "Epoch 149/200\n",
      "630/630 [==============================] - 0s 599us/step - loss: 0.3455 - val_loss: 0.3421\n",
      "Epoch 150/200\n",
      "630/630 [==============================] - 0s 592us/step - loss: 0.3459 - val_loss: 0.3439\n",
      "Epoch 151/200\n",
      "630/630 [==============================] - 0s 598us/step - loss: 0.3456 - val_loss: 0.3424\n",
      "Epoch 152/200\n",
      "630/630 [==============================] - 0s 600us/step - loss: 0.3446 - val_loss: 0.3418\n",
      "Epoch 153/200\n",
      "630/630 [==============================] - 0s 595us/step - loss: 0.3445 - val_loss: 0.3412\n",
      "Epoch 154/200\n",
      "630/630 [==============================] - 0s 587us/step - loss: 0.3434 - val_loss: 0.3412\n",
      "Epoch 155/200\n",
      "630/630 [==============================] - 0s 594us/step - loss: 0.3467 - val_loss: 0.3420\n",
      "Epoch 156/200\n",
      "630/630 [==============================] - 0s 585us/step - loss: 0.3467 - val_loss: 0.3401\n",
      "Epoch 157/200\n",
      "630/630 [==============================] - 0s 592us/step - loss: 0.3467 - val_loss: 0.3430\n",
      "Epoch 00157: early stopping\n"
     ]
    },
    {
     "data": {
      "text/plain": [
       "<tensorflow.python.keras.callbacks.History at 0x7fde6105f550>"
      ]
     },
     "execution_count": 68,
     "metadata": {},
     "output_type": "execute_result"
    }
   ],
   "source": [
    "model_3.fit(x=X_train, \n",
    "          y=y_train, \n",
    "          epochs=200,\n",
    "          validation_data=(X_test, y_test), verbose=1,\n",
    "          callbacks=[early_stop]\n",
    "          )"
   ]
  },
  {
   "cell_type": "code",
   "execution_count": 69,
   "metadata": {},
   "outputs": [
    {
     "data": {
      "text/plain": [
       "<matplotlib.axes._subplots.AxesSubplot at 0x7fde25047070>"
      ]
     },
     "execution_count": 69,
     "metadata": {},
     "output_type": "execute_result"
    },
    {
     "data": {
      "image/png": "[encoded data removed]",
      "text/plain": [
       "<Figure size 432x288 with 1 Axes>"
      ]
     },
     "metadata": {},
     "output_type": "display_data"
    }
   ],
   "source": [
    "model_3_losses=pd.DataFrame(model_3.history.history)\n",
    "model_3_losses.plot()"
   ]
  },
  {
   "cell_type": "code",
   "execution_count": 70,
   "metadata": {},
   "outputs": [],
   "source": [
    "#Passing X_test into model\n",
    "predictions3 = model_3.predict_classes(X_test)"
   ]
  },
  {
   "cell_type": "code",
   "execution_count": 71,
   "metadata": {},
   "outputs": [],
   "source": [
    "from sklearn.metrics import classification_report, confusion_matrix"
   ]
  },
  {
   "cell_type": "code",
   "execution_count": 72,
   "metadata": {},
   "outputs": [
    {
     "name": "stdout",
     "output_type": "stream",
     "text": [
      "              precision    recall  f1-score   support\n",
      "\n",
      "           0       0.87      1.00      0.93      5858\n",
      "           1       0.00      0.00      0.00       853\n",
      "\n",
      "    accuracy                           0.87      6711\n",
      "   macro avg       0.44      0.50      0.47      6711\n",
      "weighted avg       0.76      0.87      0.81      6711\n",
      "\n"
     ]
    }
   ],
   "source": [
    "print(classification_report(y_test,predictions3))"
   ]
  },
  {
   "cell_type": "code",
   "execution_count": 73,
   "metadata": {},
   "outputs": [
    {
     "name": "stdout",
     "output_type": "stream",
     "text": [
      "[[5858    0]\n",
      " [ 853    0]]\n"
     ]
    }
   ],
   "source": [
    "print(confusion_matrix(y_test,predictions3))"
   ]
  },
  {
   "cell_type": "markdown",
   "metadata": {},
   "source": [
    "### This model performed worst then the previous 2 even with using the Early Stop and Drop out layers\n",
    "\n",
    "#### Although the loss plot has improved the model does not do a good job at predicting the target class =1 which is pass one fans that upgrade , the model determined that the 853 upgraders were not upgrade customers (False +) . The model did correctly identify all 5858 non-upgrade fans with a recall of 1.0.  "
   ]
  },
  {
   "cell_type": "markdown",
   "metadata": {},
   "source": [
    "### Summary\n",
    "\n",
    "### Lack of demographic and other features available in the data inhibited the ability to distinguish the class upgrade_fan all models do a decent job of classifying who doesn't upgrade but horribly predicts who will upgrade"
   ]
  },
  {
   "cell_type": "code",
   "execution_count": null,
   "metadata": {},
   "outputs": [],
   "source": []
  }
 ],
 "metadata": {
  "kernelspec": {
   "display_name": "Python 3",
   "language": "python",
   "name": "python3"
  },
  "language_info": {
   "codemirror_mode": {
    "name": "ipython",
    "version": 3
   },
   "file_extension": ".py",
   "mimetype": "text/x-python",
   "name": "python",
   "nbconvert_exporter": "python",
   "pygments_lexer": "ipython3",
   "version": "3.8.3"
  }
 },
 "nbformat": 4,
 "nbformat_minor": 2
}
